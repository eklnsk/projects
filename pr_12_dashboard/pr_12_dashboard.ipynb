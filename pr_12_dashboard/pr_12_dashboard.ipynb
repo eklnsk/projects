{
 "cells": [
  {
   "cell_type": "markdown",
   "id": "0aadd15a",
   "metadata": {},
   "source": [
    "# Анализ взаимодействия пользователей с карточками Яндекс.Дзен"
   ]
  },
  {
   "cell_type": "markdown",
   "id": "f71db904",
   "metadata": {},
   "source": [
    "Почти всё время работы аналитика занимает анализ пользовательского взаимодействия с карточками статей. Необходимо автоматизировать процесс и подготовить дашборд."
   ]
  },
  {
   "cell_type": "markdown",
   "id": "6fd2cd7a",
   "metadata": {},
   "source": [
    "**Цель работы** - построение дашборда и подготовка ответов на следующие вопросы:\n",
    "- сколько взаимодействий пользователей с карточками происходит в системе с разбивкой по темам карточек;\n",
    "- как много карточек генерируют источники с разными темами;\n",
    "- как соотносятся темы карточек и темы источников."
   ]
  },
  {
   "cell_type": "code",
   "execution_count": 1,
   "id": "d4ecc907",
   "metadata": {},
   "outputs": [],
   "source": [
    "# импорт библиотек\n",
    "import pandas as pd\n",
    "from sqlalchemy import create_engine\n",
    "\n",
    "db_config = {'user': 'praktikum_student', # имя пользователя\n",
    "            'pwd': 'Sdf4$2;d-d30pp', # пароль\n",
    "            'host': 'rc1b-wcoijxj3yxfsf3fs.mdb.yandexcloud.net',\n",
    "            'port': 6432, # порт подключения\n",
    "            'db': 'data-analyst-zen-project-db'} # название базы данных\n",
    "\n",
    "connection_string = 'postgresql://{}:{}@{}:{}/{}'.format(db_config['user'],\n",
    "                                                db_config['pwd'],\n",
    "                                                db_config['host'],\n",
    "                                                db_config['port'],\n",
    "                                                db_config['db'])\n",
    "\n",
    "engine = create_engine(connection_string)"
   ]
  },
  {
   "cell_type": "code",
   "execution_count": 2,
   "id": "e1810ee4",
   "metadata": {},
   "outputs": [],
   "source": [
    "# получение данных из sql-запроса\n",
    "\n",
    "query = '''\n",
    "           SELECT *\n",
    "           FROM dash_visits\n",
    "        '''\n",
    "\n",
    "dash_visits = pd.io.sql.read_sql(query, con=engine)"
   ]
  },
  {
   "cell_type": "markdown",
   "id": "f2d6e245",
   "metadata": {},
   "source": [
    "## Обзор данных"
   ]
  },
  {
   "cell_type": "code",
   "execution_count": 3,
   "id": "bdbb8a81",
   "metadata": {},
   "outputs": [
    {
     "name": "stdout",
     "output_type": "stream",
     "text": [
      "Первые 10 строк датафрейма\n"
     ]
    },
    {
     "data": {
      "text/html": [
       "<div>\n",
       "<style scoped>\n",
       "    .dataframe tbody tr th:only-of-type {\n",
       "        vertical-align: middle;\n",
       "    }\n",
       "\n",
       "    .dataframe tbody tr th {\n",
       "        vertical-align: top;\n",
       "    }\n",
       "\n",
       "    .dataframe thead th {\n",
       "        text-align: right;\n",
       "    }\n",
       "</style>\n",
       "<table border=\"1\" class=\"dataframe\">\n",
       "  <thead>\n",
       "    <tr style=\"text-align: right;\">\n",
       "      <th></th>\n",
       "      <th>record_id</th>\n",
       "      <th>item_topic</th>\n",
       "      <th>source_topic</th>\n",
       "      <th>age_segment</th>\n",
       "      <th>dt</th>\n",
       "      <th>visits</th>\n",
       "    </tr>\n",
       "  </thead>\n",
       "  <tbody>\n",
       "    <tr>\n",
       "      <th>0</th>\n",
       "      <td>1040597</td>\n",
       "      <td>Деньги</td>\n",
       "      <td>Авто</td>\n",
       "      <td>18-25</td>\n",
       "      <td>2019-09-24 18:32:00</td>\n",
       "      <td>3</td>\n",
       "    </tr>\n",
       "    <tr>\n",
       "      <th>1</th>\n",
       "      <td>1040598</td>\n",
       "      <td>Деньги</td>\n",
       "      <td>Авто</td>\n",
       "      <td>18-25</td>\n",
       "      <td>2019-09-24 18:35:00</td>\n",
       "      <td>1</td>\n",
       "    </tr>\n",
       "    <tr>\n",
       "      <th>2</th>\n",
       "      <td>1040599</td>\n",
       "      <td>Деньги</td>\n",
       "      <td>Авто</td>\n",
       "      <td>18-25</td>\n",
       "      <td>2019-09-24 18:54:00</td>\n",
       "      <td>4</td>\n",
       "    </tr>\n",
       "    <tr>\n",
       "      <th>3</th>\n",
       "      <td>1040600</td>\n",
       "      <td>Деньги</td>\n",
       "      <td>Авто</td>\n",
       "      <td>18-25</td>\n",
       "      <td>2019-09-24 18:55:00</td>\n",
       "      <td>17</td>\n",
       "    </tr>\n",
       "    <tr>\n",
       "      <th>4</th>\n",
       "      <td>1040601</td>\n",
       "      <td>Деньги</td>\n",
       "      <td>Авто</td>\n",
       "      <td>18-25</td>\n",
       "      <td>2019-09-24 18:56:00</td>\n",
       "      <td>27</td>\n",
       "    </tr>\n",
       "    <tr>\n",
       "      <th>5</th>\n",
       "      <td>1040602</td>\n",
       "      <td>Деньги</td>\n",
       "      <td>Авто</td>\n",
       "      <td>18-25</td>\n",
       "      <td>2019-09-24 18:57:00</td>\n",
       "      <td>22</td>\n",
       "    </tr>\n",
       "    <tr>\n",
       "      <th>6</th>\n",
       "      <td>1040603</td>\n",
       "      <td>Деньги</td>\n",
       "      <td>Авто</td>\n",
       "      <td>18-25</td>\n",
       "      <td>2019-09-24 18:58:00</td>\n",
       "      <td>24</td>\n",
       "    </tr>\n",
       "    <tr>\n",
       "      <th>7</th>\n",
       "      <td>1040604</td>\n",
       "      <td>Деньги</td>\n",
       "      <td>Авто</td>\n",
       "      <td>18-25</td>\n",
       "      <td>2019-09-24 18:59:00</td>\n",
       "      <td>20</td>\n",
       "    </tr>\n",
       "    <tr>\n",
       "      <th>8</th>\n",
       "      <td>1040605</td>\n",
       "      <td>Деньги</td>\n",
       "      <td>Авто</td>\n",
       "      <td>18-25</td>\n",
       "      <td>2019-09-24 19:00:00</td>\n",
       "      <td>5</td>\n",
       "    </tr>\n",
       "    <tr>\n",
       "      <th>9</th>\n",
       "      <td>1040606</td>\n",
       "      <td>Деньги</td>\n",
       "      <td>Авто</td>\n",
       "      <td>26-30</td>\n",
       "      <td>2019-09-24 18:29:00</td>\n",
       "      <td>1</td>\n",
       "    </tr>\n",
       "  </tbody>\n",
       "</table>\n",
       "</div>"
      ],
      "text/plain": [
       "   record_id item_topic source_topic age_segment                  dt  visits\n",
       "0    1040597     Деньги         Авто       18-25 2019-09-24 18:32:00       3\n",
       "1    1040598     Деньги         Авто       18-25 2019-09-24 18:35:00       1\n",
       "2    1040599     Деньги         Авто       18-25 2019-09-24 18:54:00       4\n",
       "3    1040600     Деньги         Авто       18-25 2019-09-24 18:55:00      17\n",
       "4    1040601     Деньги         Авто       18-25 2019-09-24 18:56:00      27\n",
       "5    1040602     Деньги         Авто       18-25 2019-09-24 18:57:00      22\n",
       "6    1040603     Деньги         Авто       18-25 2019-09-24 18:58:00      24\n",
       "7    1040604     Деньги         Авто       18-25 2019-09-24 18:59:00      20\n",
       "8    1040605     Деньги         Авто       18-25 2019-09-24 19:00:00       5\n",
       "9    1040606     Деньги         Авто       26-30 2019-09-24 18:29:00       1"
      ]
     },
     "metadata": {},
     "output_type": "display_data"
    },
    {
     "name": "stdout",
     "output_type": "stream",
     "text": [
      "Основная информация о датафрейме\n",
      "<class 'pandas.core.frame.DataFrame'>\n",
      "RangeIndex: 30745 entries, 0 to 30744\n",
      "Data columns (total 6 columns):\n",
      " #   Column        Non-Null Count  Dtype         \n",
      "---  ------        --------------  -----         \n",
      " 0   record_id     30745 non-null  int64         \n",
      " 1   item_topic    30745 non-null  object        \n",
      " 2   source_topic  30745 non-null  object        \n",
      " 3   age_segment   30745 non-null  object        \n",
      " 4   dt            30745 non-null  datetime64[ns]\n",
      " 5   visits        30745 non-null  int64         \n",
      "dtypes: datetime64[ns](1), int64(2), object(3)\n",
      "memory usage: 1.4+ MB\n"
     ]
    },
    {
     "data": {
      "text/plain": [
       "None"
      ]
     },
     "metadata": {},
     "output_type": "display_data"
    },
    {
     "name": "stdout",
     "output_type": "stream",
     "text": [
      "Описание данных\n"
     ]
    },
    {
     "data": {
      "text/html": [
       "<div>\n",
       "<style scoped>\n",
       "    .dataframe tbody tr th:only-of-type {\n",
       "        vertical-align: middle;\n",
       "    }\n",
       "\n",
       "    .dataframe tbody tr th {\n",
       "        vertical-align: top;\n",
       "    }\n",
       "\n",
       "    .dataframe thead th {\n",
       "        text-align: right;\n",
       "    }\n",
       "</style>\n",
       "<table border=\"1\" class=\"dataframe\">\n",
       "  <thead>\n",
       "    <tr style=\"text-align: right;\">\n",
       "      <th></th>\n",
       "      <th>record_id</th>\n",
       "      <th>visits</th>\n",
       "    </tr>\n",
       "  </thead>\n",
       "  <tbody>\n",
       "    <tr>\n",
       "      <th>count</th>\n",
       "      <td>3.074500e+04</td>\n",
       "      <td>30745.000000</td>\n",
       "    </tr>\n",
       "    <tr>\n",
       "      <th>mean</th>\n",
       "      <td>1.055969e+06</td>\n",
       "      <td>10.089673</td>\n",
       "    </tr>\n",
       "    <tr>\n",
       "      <th>std</th>\n",
       "      <td>8.875461e+03</td>\n",
       "      <td>19.727601</td>\n",
       "    </tr>\n",
       "    <tr>\n",
       "      <th>min</th>\n",
       "      <td>1.040597e+06</td>\n",
       "      <td>1.000000</td>\n",
       "    </tr>\n",
       "    <tr>\n",
       "      <th>25%</th>\n",
       "      <td>1.048283e+06</td>\n",
       "      <td>1.000000</td>\n",
       "    </tr>\n",
       "    <tr>\n",
       "      <th>50%</th>\n",
       "      <td>1.055969e+06</td>\n",
       "      <td>3.000000</td>\n",
       "    </tr>\n",
       "    <tr>\n",
       "      <th>75%</th>\n",
       "      <td>1.063655e+06</td>\n",
       "      <td>10.000000</td>\n",
       "    </tr>\n",
       "    <tr>\n",
       "      <th>max</th>\n",
       "      <td>1.071341e+06</td>\n",
       "      <td>371.000000</td>\n",
       "    </tr>\n",
       "  </tbody>\n",
       "</table>\n",
       "</div>"
      ],
      "text/plain": [
       "          record_id        visits\n",
       "count  3.074500e+04  30745.000000\n",
       "mean   1.055969e+06     10.089673\n",
       "std    8.875461e+03     19.727601\n",
       "min    1.040597e+06      1.000000\n",
       "25%    1.048283e+06      1.000000\n",
       "50%    1.055969e+06      3.000000\n",
       "75%    1.063655e+06     10.000000\n",
       "max    1.071341e+06    371.000000"
      ]
     },
     "metadata": {},
     "output_type": "display_data"
    },
    {
     "name": "stdout",
     "output_type": "stream",
     "text": [
      "Количество строк-дубликатов\n"
     ]
    },
    {
     "data": {
      "text/plain": [
       "0"
      ]
     },
     "metadata": {},
     "output_type": "display_data"
    },
    {
     "name": "stdout",
     "output_type": "stream",
     "text": [
      "Количество пропусков\n"
     ]
    },
    {
     "data": {
      "text/plain": [
       "record_id       0\n",
       "item_topic      0\n",
       "source_topic    0\n",
       "age_segment     0\n",
       "dt              0\n",
       "visits          0\n",
       "dtype: int64"
      ]
     },
     "metadata": {},
     "output_type": "display_data"
    }
   ],
   "source": [
    "# вывод основной информации о датафрейме, подсчет дубликатов и пропусков\n",
    "def df_info(data: pd.DataFrame):\n",
    "    print('Первые 10 строк датафрейма')\n",
    "    display(data.head(10))\n",
    "    print('Основная информация о датафрейме')\n",
    "    display(data.info())\n",
    "    print('Описание данных')\n",
    "    display(data.describe())\n",
    "    print('Количество строк-дубликатов')\n",
    "    display(data.duplicated().sum())\n",
    "    print('Количество пропусков')\n",
    "    display(data.isna().sum())\n",
    "\n",
    "df_info(dash_visits)"
   ]
  },
  {
   "cell_type": "markdown",
   "id": "caf18981",
   "metadata": {},
   "source": [
    "Посмотрим на распределение значений в столбцах с темами карточек, темами источников и возрастными категориями."
   ]
  },
  {
   "cell_type": "code",
   "execution_count": 4,
   "id": "982a0c3e",
   "metadata": {},
   "outputs": [
    {
     "data": {
      "text/plain": [
       "Отношения             1536\n",
       "Интересные факты      1535\n",
       "Наука                 1505\n",
       "Подборки              1456\n",
       "Полезные советы       1424\n",
       "Общество              1422\n",
       "Россия                1385\n",
       "История               1363\n",
       "Семья                 1287\n",
       "Путешествия           1247\n",
       "Деньги                1234\n",
       "Женщины               1230\n",
       "Дети                  1229\n",
       "Туризм                1206\n",
       "Здоровье              1203\n",
       "Красота               1193\n",
       "Культура              1160\n",
       "Юмор                  1129\n",
       "Искусство             1119\n",
       "Рассказы              1109\n",
       "Психология            1056\n",
       "Скандалы              1023\n",
       "Знаменитости           976\n",
       "Женская психология     914\n",
       "Шоу                    804\n",
       "Name: item_topic, dtype: int64"
      ]
     },
     "execution_count": 4,
     "metadata": {},
     "output_type": "execute_result"
    }
   ],
   "source": [
    "# подсчет значений в столбце с темами карточек\n",
    "dash_visits['item_topic'].value_counts()"
   ]
  },
  {
   "cell_type": "code",
   "execution_count": 5,
   "id": "3d6b8024",
   "metadata": {},
   "outputs": [
    {
     "data": {
      "text/plain": [
       "Семейные отношения    1822\n",
       "Россия                1687\n",
       "Знаменитости          1650\n",
       "Полезные советы       1578\n",
       "Путешествия           1563\n",
       "Кино                  1505\n",
       "Дети                  1459\n",
       "История               1437\n",
       "Семья                 1405\n",
       "Одежда                1379\n",
       "Здоровье              1243\n",
       "Искусство             1228\n",
       "Авто                  1077\n",
       "Психология            1055\n",
       "Сад и дача            1036\n",
       "Политика              1024\n",
       "Спорт                 1007\n",
       "Сделай сам             995\n",
       "Ремонт                 985\n",
       "Деньги                 973\n",
       "Еда                    912\n",
       "Интерьеры              809\n",
       "Строительство          758\n",
       "Музыка                 750\n",
       "Технологии             741\n",
       "Финансы                667\n",
       "Name: source_topic, dtype: int64"
      ]
     },
     "execution_count": 5,
     "metadata": {},
     "output_type": "execute_result"
    }
   ],
   "source": [
    "# подсчет значений в столбце с темами источников\n",
    "dash_visits['source_topic'].value_counts()"
   ]
  },
  {
   "cell_type": "code",
   "execution_count": 6,
   "id": "952b0066",
   "metadata": {},
   "outputs": [
    {
     "data": {
      "text/plain": [
       "18-25    7056\n",
       "26-30    5875\n",
       "31-35    5552\n",
       "36-40    5105\n",
       "41-45    3903\n",
       "45+      3254\n",
       "Name: age_segment, dtype: int64"
      ]
     },
     "execution_count": 6,
     "metadata": {},
     "output_type": "execute_result"
    }
   ],
   "source": [
    "# подсчет значений в столбце с возрастными категориями\n",
    "dash_visits['age_segment'].value_counts()"
   ]
  },
  {
   "cell_type": "markdown",
   "id": "4c4d7b65",
   "metadata": {},
   "source": [
    "Определим период времени, за который собраны данные."
   ]
  },
  {
   "cell_type": "code",
   "execution_count": 7,
   "id": "e0ac91bc",
   "metadata": {},
   "outputs": [
    {
     "name": "stdout",
     "output_type": "stream",
     "text": [
      "Рассматриваемый период: с 2019-09-24 18:28:00 до 2019-09-24 19:00:00\n"
     ]
    }
   ],
   "source": [
    "# определение минимальной и максимальной даты\n",
    "print('Рассматриваемый период: с', dash_visits['dt'].min(), 'до', dash_visits['dt'].max())"
   ]
  },
  {
   "cell_type": "markdown",
   "id": "ea0a6791",
   "metadata": {},
   "source": [
    "На основании полученной информации можно сделать следующие выводы:\n",
    "- типы данных столбцов определены корректно;\n",
    "- явные дубликаты и пропущенные значения отсутствуют;\n",
    "- в датасете собрана информация за 24 сентября 2019 (с 18:28 по 19:00).\n",
    "\n",
    "С данными все в порядке, таким образом, можно приступать к подготовке дашборда."
   ]
  },
  {
   "cell_type": "code",
   "execution_count": 8,
   "id": "c79c72f7",
   "metadata": {},
   "outputs": [],
   "source": [
    "# преобразование в CSV-файл\n",
    "dash_visits.to_csv('E:\\My Documents\\Studying\\Data_Analyst\\Projects\\pr_12_dashboard\\dash_visits.csv', index=False)"
   ]
  },
  {
   "cell_type": "markdown",
   "id": "1ed59e94",
   "metadata": {},
   "source": [
    "## Построение дашборда"
   ]
  },
  {
   "cell_type": "markdown",
   "id": "277532cb",
   "metadata": {},
   "source": [
    "Ссылка на дашборд на сайте Tableau Public: https://public.tableau.com/app/profile/ekaterina.esipova/viz/Project12-Yandex_Dzen/Yandex_Dzen?publish=yes"
   ]
  },
  {
   "cell_type": "markdown",
   "id": "671874f4",
   "metadata": {},
   "source": [
    "## Презентация"
   ]
  },
  {
   "cell_type": "markdown",
   "id": "a81491e0",
   "metadata": {},
   "source": [
    "Презентация: https://disk.yandex.ru/i/gzpxQCjHrRV5rg"
   ]
  },
  {
   "cell_type": "markdown",
   "id": "ad90c8f6",
   "metadata": {},
   "source": [
    "## Общий вывод"
   ]
  },
  {
   "cell_type": "markdown",
   "id": "e7d6cfd1",
   "metadata": {},
   "source": [
    "В ходе обзора данных неверные типы данных столбцов, явные дубликаты и пропущенные значения обнаружены не были. \n",
    "\n",
    "После построения дашборда и более детального анализа можно сделать ряд выводов:\n",
    "\n",
    "- самое высокое количество событий было зафиксировано в 18:58; \n",
    "- больше всего взаимодействий пользователей с карточками происходит по темам: \"Наука\" (пиковое значение – 4 372 события (7,1%)), \"Отношения\" (4 145 событий (6,7%)), \"Интересные факты\" (3 910 событий (6,4%)), \"Общество\" (3 897 событий (6,4%)) и \"Подборки\" (3 520 событий (5,7%));\n",
    "- среди источников наиболее популярными являются \"Семейные отношения\" (10,7%), \"Россия\" (9,6%), \"Полезные советы\" (8,8%), \"Путешествия\" (7,8%) и \"Знаменитости\" (7,7%);\n",
    "- по количеству событий лидируют следующие соотношения тем источников и карточек: \"Путешествия\" - \"Рассказы\" (4 587 событий), \"Россия\" - \"Общество\" (3 471 событие), \"Кино\" - \"Наука\" (3 279 событий), \"Россия\" - \"Россия\" (2 847 событий), \"Полезные советы\" - \"Подборки\" (2 795 событий). "
   ]
  }
 ],
 "metadata": {
  "kernelspec": {
   "display_name": "Python 3 (ipykernel)",
   "language": "python",
   "name": "python3"
  },
  "language_info": {
   "codemirror_mode": {
    "name": "ipython",
    "version": 3
   },
   "file_extension": ".py",
   "mimetype": "text/x-python",
   "name": "python",
   "nbconvert_exporter": "python",
   "pygments_lexer": "ipython3",
   "version": "3.9.13"
  },
  "toc": {
   "base_numbering": 1,
   "nav_menu": {},
   "number_sections": true,
   "sideBar": true,
   "skip_h1_title": true,
   "title_cell": "Table of Contents",
   "title_sidebar": "Contents",
   "toc_cell": false,
   "toc_position": {
    "height": "103.391px",
    "left": "30px",
    "top": "111.125px",
    "width": "272px"
   },
   "toc_section_display": true,
   "toc_window_display": true
  }
 },
 "nbformat": 4,
 "nbformat_minor": 5
}
