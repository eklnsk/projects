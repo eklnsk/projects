{
 "cells": [
  {
   "cell_type": "markdown",
   "metadata": {},
   "source": [
    "# Исследование тарифов оператора сотовой связи"
   ]
  },
  {
   "cell_type": "markdown",
   "metadata": {},
   "source": [
    "## 1 Обзор данных"
   ]
  },
  {
   "cell_type": "code",
   "execution_count": 1,
   "metadata": {
    "deletable": false,
    "id": "RrVHWePG_oCV"
   },
   "outputs": [],
   "source": [
    "# импорт библиотек\n",
    "import pandas as pd\n",
    "import numpy as np\n",
    "import matplotlib.pyplot as plt\n",
    "import seaborn as sns\n",
    "from scipy import stats as st\n",
    "from pylab import rcParams"
   ]
  },
  {
   "cell_type": "code",
   "execution_count": 2,
   "metadata": {
    "deletable": false,
    "id": "lPo8_mWg_oCZ"
   },
   "outputs": [],
   "source": [
    "# открытие файла с информацией о звонках\n",
    "calls = pd.read_csv('E:\\My documents\\Studying\\Data_Analyst\\Projects\\pr_4_mobile_operator/calls.csv')\n",
    "# открытие файла с информацией об интернет-сессиях\n",
    "sessions = pd.read_csv('E:\\My documents\\Studying\\Data_Analyst\\Projects\\pr_4_mobile_operator/internet.csv')\n",
    "# открытие файла с информацией о сообщениях\n",
    "messages = pd.read_csv('E:\\My documents\\Studying\\Data_Analyst\\Projects\\pr_4_mobile_operator/messages.csv')\n",
    "# открытие файла с информацией о тарифах\n",
    "tariffs = pd.read_csv('E:\\My documents\\Studying\\Data_Analyst\\Projects\\pr_4_mobile_operator/tariffs.csv')\n",
    "# открытие файла с информацией о пользователях\n",
    "users = pd.read_csv('E:\\My documents\\Studying\\Data_Analyst\\Projects\\pr_4_mobile_operator/users.csv')"
   ]
  },
  {
   "cell_type": "code",
   "execution_count": 3,
   "metadata": {
    "deletable": false,
    "id": "mdxHj-qz_oCZ"
   },
   "outputs": [
    {
     "data": {
      "text/html": [
       "<div>\n",
       "<style scoped>\n",
       "    .dataframe tbody tr th:only-of-type {\n",
       "        vertical-align: middle;\n",
       "    }\n",
       "\n",
       "    .dataframe tbody tr th {\n",
       "        vertical-align: top;\n",
       "    }\n",
       "\n",
       "    .dataframe thead th {\n",
       "        text-align: right;\n",
       "    }\n",
       "</style>\n",
       "<table border=\"1\" class=\"dataframe\">\n",
       "  <thead>\n",
       "    <tr style=\"text-align: right;\">\n",
       "      <th></th>\n",
       "      <th>id</th>\n",
       "      <th>call_date</th>\n",
       "      <th>duration</th>\n",
       "      <th>user_id</th>\n",
       "    </tr>\n",
       "  </thead>\n",
       "  <tbody>\n",
       "    <tr>\n",
       "      <th>0</th>\n",
       "      <td>1000_0</td>\n",
       "      <td>2018-07-25</td>\n",
       "      <td>0.00</td>\n",
       "      <td>1000</td>\n",
       "    </tr>\n",
       "    <tr>\n",
       "      <th>1</th>\n",
       "      <td>1000_1</td>\n",
       "      <td>2018-08-17</td>\n",
       "      <td>0.00</td>\n",
       "      <td>1000</td>\n",
       "    </tr>\n",
       "    <tr>\n",
       "      <th>2</th>\n",
       "      <td>1000_2</td>\n",
       "      <td>2018-06-11</td>\n",
       "      <td>2.85</td>\n",
       "      <td>1000</td>\n",
       "    </tr>\n",
       "    <tr>\n",
       "      <th>3</th>\n",
       "      <td>1000_3</td>\n",
       "      <td>2018-09-21</td>\n",
       "      <td>13.80</td>\n",
       "      <td>1000</td>\n",
       "    </tr>\n",
       "    <tr>\n",
       "      <th>4</th>\n",
       "      <td>1000_4</td>\n",
       "      <td>2018-12-15</td>\n",
       "      <td>5.18</td>\n",
       "      <td>1000</td>\n",
       "    </tr>\n",
       "  </tbody>\n",
       "</table>\n",
       "</div>"
      ],
      "text/plain": [
       "       id   call_date  duration  user_id\n",
       "0  1000_0  2018-07-25      0.00     1000\n",
       "1  1000_1  2018-08-17      0.00     1000\n",
       "2  1000_2  2018-06-11      2.85     1000\n",
       "3  1000_3  2018-09-21     13.80     1000\n",
       "4  1000_4  2018-12-15      5.18     1000"
      ]
     },
     "metadata": {},
     "output_type": "display_data"
    },
    {
     "name": "stdout",
     "output_type": "stream",
     "text": [
      "<class 'pandas.core.frame.DataFrame'>\n",
      "RangeIndex: 202607 entries, 0 to 202606\n",
      "Data columns (total 4 columns):\n",
      " #   Column     Non-Null Count   Dtype  \n",
      "---  ------     --------------   -----  \n",
      " 0   id         202607 non-null  object \n",
      " 1   call_date  202607 non-null  object \n",
      " 2   duration   202607 non-null  float64\n",
      " 3   user_id    202607 non-null  int64  \n",
      "dtypes: float64(1), int64(1), object(2)\n",
      "memory usage: 6.2+ MB\n"
     ]
    },
    {
     "data": {
      "text/html": [
       "<div>\n",
       "<style scoped>\n",
       "    .dataframe tbody tr th:only-of-type {\n",
       "        vertical-align: middle;\n",
       "    }\n",
       "\n",
       "    .dataframe tbody tr th {\n",
       "        vertical-align: top;\n",
       "    }\n",
       "\n",
       "    .dataframe thead th {\n",
       "        text-align: right;\n",
       "    }\n",
       "</style>\n",
       "<table border=\"1\" class=\"dataframe\">\n",
       "  <thead>\n",
       "    <tr style=\"text-align: right;\">\n",
       "      <th></th>\n",
       "      <th>Unnamed: 0</th>\n",
       "      <th>id</th>\n",
       "      <th>mb_used</th>\n",
       "      <th>session_date</th>\n",
       "      <th>user_id</th>\n",
       "    </tr>\n",
       "  </thead>\n",
       "  <tbody>\n",
       "    <tr>\n",
       "      <th>0</th>\n",
       "      <td>0</td>\n",
       "      <td>1000_0</td>\n",
       "      <td>112.95</td>\n",
       "      <td>2018-11-25</td>\n",
       "      <td>1000</td>\n",
       "    </tr>\n",
       "    <tr>\n",
       "      <th>1</th>\n",
       "      <td>1</td>\n",
       "      <td>1000_1</td>\n",
       "      <td>1052.81</td>\n",
       "      <td>2018-09-07</td>\n",
       "      <td>1000</td>\n",
       "    </tr>\n",
       "    <tr>\n",
       "      <th>2</th>\n",
       "      <td>2</td>\n",
       "      <td>1000_2</td>\n",
       "      <td>1197.26</td>\n",
       "      <td>2018-06-25</td>\n",
       "      <td>1000</td>\n",
       "    </tr>\n",
       "    <tr>\n",
       "      <th>3</th>\n",
       "      <td>3</td>\n",
       "      <td>1000_3</td>\n",
       "      <td>550.27</td>\n",
       "      <td>2018-08-22</td>\n",
       "      <td>1000</td>\n",
       "    </tr>\n",
       "    <tr>\n",
       "      <th>4</th>\n",
       "      <td>4</td>\n",
       "      <td>1000_4</td>\n",
       "      <td>302.56</td>\n",
       "      <td>2018-09-24</td>\n",
       "      <td>1000</td>\n",
       "    </tr>\n",
       "  </tbody>\n",
       "</table>\n",
       "</div>"
      ],
      "text/plain": [
       "   Unnamed: 0      id  mb_used session_date  user_id\n",
       "0           0  1000_0   112.95   2018-11-25     1000\n",
       "1           1  1000_1  1052.81   2018-09-07     1000\n",
       "2           2  1000_2  1197.26   2018-06-25     1000\n",
       "3           3  1000_3   550.27   2018-08-22     1000\n",
       "4           4  1000_4   302.56   2018-09-24     1000"
      ]
     },
     "metadata": {},
     "output_type": "display_data"
    },
    {
     "name": "stdout",
     "output_type": "stream",
     "text": [
      "<class 'pandas.core.frame.DataFrame'>\n",
      "RangeIndex: 149396 entries, 0 to 149395\n",
      "Data columns (total 5 columns):\n",
      " #   Column        Non-Null Count   Dtype  \n",
      "---  ------        --------------   -----  \n",
      " 0   Unnamed: 0    149396 non-null  int64  \n",
      " 1   id            149396 non-null  object \n",
      " 2   mb_used       149396 non-null  float64\n",
      " 3   session_date  149396 non-null  object \n",
      " 4   user_id       149396 non-null  int64  \n",
      "dtypes: float64(1), int64(2), object(2)\n",
      "memory usage: 5.7+ MB\n"
     ]
    },
    {
     "data": {
      "text/html": [
       "<div>\n",
       "<style scoped>\n",
       "    .dataframe tbody tr th:only-of-type {\n",
       "        vertical-align: middle;\n",
       "    }\n",
       "\n",
       "    .dataframe tbody tr th {\n",
       "        vertical-align: top;\n",
       "    }\n",
       "\n",
       "    .dataframe thead th {\n",
       "        text-align: right;\n",
       "    }\n",
       "</style>\n",
       "<table border=\"1\" class=\"dataframe\">\n",
       "  <thead>\n",
       "    <tr style=\"text-align: right;\">\n",
       "      <th></th>\n",
       "      <th>id</th>\n",
       "      <th>message_date</th>\n",
       "      <th>user_id</th>\n",
       "    </tr>\n",
       "  </thead>\n",
       "  <tbody>\n",
       "    <tr>\n",
       "      <th>0</th>\n",
       "      <td>1000_0</td>\n",
       "      <td>2018-06-27</td>\n",
       "      <td>1000</td>\n",
       "    </tr>\n",
       "    <tr>\n",
       "      <th>1</th>\n",
       "      <td>1000_1</td>\n",
       "      <td>2018-10-08</td>\n",
       "      <td>1000</td>\n",
       "    </tr>\n",
       "    <tr>\n",
       "      <th>2</th>\n",
       "      <td>1000_2</td>\n",
       "      <td>2018-08-04</td>\n",
       "      <td>1000</td>\n",
       "    </tr>\n",
       "    <tr>\n",
       "      <th>3</th>\n",
       "      <td>1000_3</td>\n",
       "      <td>2018-06-16</td>\n",
       "      <td>1000</td>\n",
       "    </tr>\n",
       "    <tr>\n",
       "      <th>4</th>\n",
       "      <td>1000_4</td>\n",
       "      <td>2018-12-05</td>\n",
       "      <td>1000</td>\n",
       "    </tr>\n",
       "  </tbody>\n",
       "</table>\n",
       "</div>"
      ],
      "text/plain": [
       "       id message_date  user_id\n",
       "0  1000_0   2018-06-27     1000\n",
       "1  1000_1   2018-10-08     1000\n",
       "2  1000_2   2018-08-04     1000\n",
       "3  1000_3   2018-06-16     1000\n",
       "4  1000_4   2018-12-05     1000"
      ]
     },
     "metadata": {},
     "output_type": "display_data"
    },
    {
     "name": "stdout",
     "output_type": "stream",
     "text": [
      "<class 'pandas.core.frame.DataFrame'>\n",
      "RangeIndex: 123036 entries, 0 to 123035\n",
      "Data columns (total 3 columns):\n",
      " #   Column        Non-Null Count   Dtype \n",
      "---  ------        --------------   ----- \n",
      " 0   id            123036 non-null  object\n",
      " 1   message_date  123036 non-null  object\n",
      " 2   user_id       123036 non-null  int64 \n",
      "dtypes: int64(1), object(2)\n",
      "memory usage: 2.8+ MB\n"
     ]
    },
    {
     "data": {
      "text/html": [
       "<div>\n",
       "<style scoped>\n",
       "    .dataframe tbody tr th:only-of-type {\n",
       "        vertical-align: middle;\n",
       "    }\n",
       "\n",
       "    .dataframe tbody tr th {\n",
       "        vertical-align: top;\n",
       "    }\n",
       "\n",
       "    .dataframe thead th {\n",
       "        text-align: right;\n",
       "    }\n",
       "</style>\n",
       "<table border=\"1\" class=\"dataframe\">\n",
       "  <thead>\n",
       "    <tr style=\"text-align: right;\">\n",
       "      <th></th>\n",
       "      <th>messages_included</th>\n",
       "      <th>mb_per_month_included</th>\n",
       "      <th>minutes_included</th>\n",
       "      <th>rub_monthly_fee</th>\n",
       "      <th>rub_per_gb</th>\n",
       "      <th>rub_per_message</th>\n",
       "      <th>rub_per_minute</th>\n",
       "      <th>tariff_name</th>\n",
       "    </tr>\n",
       "  </thead>\n",
       "  <tbody>\n",
       "    <tr>\n",
       "      <th>0</th>\n",
       "      <td>50</td>\n",
       "      <td>15360</td>\n",
       "      <td>500</td>\n",
       "      <td>550</td>\n",
       "      <td>200</td>\n",
       "      <td>3</td>\n",
       "      <td>3</td>\n",
       "      <td>smart</td>\n",
       "    </tr>\n",
       "    <tr>\n",
       "      <th>1</th>\n",
       "      <td>1000</td>\n",
       "      <td>30720</td>\n",
       "      <td>3000</td>\n",
       "      <td>1950</td>\n",
       "      <td>150</td>\n",
       "      <td>1</td>\n",
       "      <td>1</td>\n",
       "      <td>ultra</td>\n",
       "    </tr>\n",
       "  </tbody>\n",
       "</table>\n",
       "</div>"
      ],
      "text/plain": [
       "   messages_included  mb_per_month_included  minutes_included  \\\n",
       "0                 50                  15360               500   \n",
       "1               1000                  30720              3000   \n",
       "\n",
       "   rub_monthly_fee  rub_per_gb  rub_per_message  rub_per_minute tariff_name  \n",
       "0              550         200                3               3       smart  \n",
       "1             1950         150                1               1       ultra  "
      ]
     },
     "metadata": {},
     "output_type": "display_data"
    },
    {
     "name": "stdout",
     "output_type": "stream",
     "text": [
      "<class 'pandas.core.frame.DataFrame'>\n",
      "RangeIndex: 2 entries, 0 to 1\n",
      "Data columns (total 8 columns):\n",
      " #   Column                 Non-Null Count  Dtype \n",
      "---  ------                 --------------  ----- \n",
      " 0   messages_included      2 non-null      int64 \n",
      " 1   mb_per_month_included  2 non-null      int64 \n",
      " 2   minutes_included       2 non-null      int64 \n",
      " 3   rub_monthly_fee        2 non-null      int64 \n",
      " 4   rub_per_gb             2 non-null      int64 \n",
      " 5   rub_per_message        2 non-null      int64 \n",
      " 6   rub_per_minute         2 non-null      int64 \n",
      " 7   tariff_name            2 non-null      object\n",
      "dtypes: int64(7), object(1)\n",
      "memory usage: 256.0+ bytes\n"
     ]
    },
    {
     "data": {
      "text/html": [
       "<div>\n",
       "<style scoped>\n",
       "    .dataframe tbody tr th:only-of-type {\n",
       "        vertical-align: middle;\n",
       "    }\n",
       "\n",
       "    .dataframe tbody tr th {\n",
       "        vertical-align: top;\n",
       "    }\n",
       "\n",
       "    .dataframe thead th {\n",
       "        text-align: right;\n",
       "    }\n",
       "</style>\n",
       "<table border=\"1\" class=\"dataframe\">\n",
       "  <thead>\n",
       "    <tr style=\"text-align: right;\">\n",
       "      <th></th>\n",
       "      <th>user_id</th>\n",
       "      <th>age</th>\n",
       "      <th>churn_date</th>\n",
       "      <th>city</th>\n",
       "      <th>first_name</th>\n",
       "      <th>last_name</th>\n",
       "      <th>reg_date</th>\n",
       "      <th>tariff</th>\n",
       "    </tr>\n",
       "  </thead>\n",
       "  <tbody>\n",
       "    <tr>\n",
       "      <th>0</th>\n",
       "      <td>1000</td>\n",
       "      <td>52</td>\n",
       "      <td>NaN</td>\n",
       "      <td>Краснодар</td>\n",
       "      <td>Рафаил</td>\n",
       "      <td>Верещагин</td>\n",
       "      <td>2018-05-25</td>\n",
       "      <td>ultra</td>\n",
       "    </tr>\n",
       "    <tr>\n",
       "      <th>1</th>\n",
       "      <td>1001</td>\n",
       "      <td>41</td>\n",
       "      <td>NaN</td>\n",
       "      <td>Москва</td>\n",
       "      <td>Иван</td>\n",
       "      <td>Ежов</td>\n",
       "      <td>2018-11-01</td>\n",
       "      <td>smart</td>\n",
       "    </tr>\n",
       "    <tr>\n",
       "      <th>2</th>\n",
       "      <td>1002</td>\n",
       "      <td>59</td>\n",
       "      <td>NaN</td>\n",
       "      <td>Стерлитамак</td>\n",
       "      <td>Евгений</td>\n",
       "      <td>Абрамович</td>\n",
       "      <td>2018-06-17</td>\n",
       "      <td>smart</td>\n",
       "    </tr>\n",
       "    <tr>\n",
       "      <th>3</th>\n",
       "      <td>1003</td>\n",
       "      <td>23</td>\n",
       "      <td>NaN</td>\n",
       "      <td>Москва</td>\n",
       "      <td>Белла</td>\n",
       "      <td>Белякова</td>\n",
       "      <td>2018-08-17</td>\n",
       "      <td>ultra</td>\n",
       "    </tr>\n",
       "    <tr>\n",
       "      <th>4</th>\n",
       "      <td>1004</td>\n",
       "      <td>68</td>\n",
       "      <td>NaN</td>\n",
       "      <td>Новокузнецк</td>\n",
       "      <td>Татьяна</td>\n",
       "      <td>Авдеенко</td>\n",
       "      <td>2018-05-14</td>\n",
       "      <td>ultra</td>\n",
       "    </tr>\n",
       "  </tbody>\n",
       "</table>\n",
       "</div>"
      ],
      "text/plain": [
       "   user_id  age churn_date         city first_name  last_name    reg_date  \\\n",
       "0     1000   52        NaN    Краснодар     Рафаил  Верещагин  2018-05-25   \n",
       "1     1001   41        NaN       Москва       Иван       Ежов  2018-11-01   \n",
       "2     1002   59        NaN  Стерлитамак    Евгений  Абрамович  2018-06-17   \n",
       "3     1003   23        NaN       Москва      Белла   Белякова  2018-08-17   \n",
       "4     1004   68        NaN  Новокузнецк    Татьяна   Авдеенко  2018-05-14   \n",
       "\n",
       "  tariff  \n",
       "0  ultra  \n",
       "1  smart  \n",
       "2  smart  \n",
       "3  ultra  \n",
       "4  ultra  "
      ]
     },
     "metadata": {},
     "output_type": "display_data"
    },
    {
     "name": "stdout",
     "output_type": "stream",
     "text": [
      "<class 'pandas.core.frame.DataFrame'>\n",
      "RangeIndex: 500 entries, 0 to 499\n",
      "Data columns (total 8 columns):\n",
      " #   Column      Non-Null Count  Dtype \n",
      "---  ------      --------------  ----- \n",
      " 0   user_id     500 non-null    int64 \n",
      " 1   age         500 non-null    int64 \n",
      " 2   churn_date  38 non-null     object\n",
      " 3   city        500 non-null    object\n",
      " 4   first_name  500 non-null    object\n",
      " 5   last_name   500 non-null    object\n",
      " 6   reg_date    500 non-null    object\n",
      " 7   tariff      500 non-null    object\n",
      "dtypes: int64(2), object(6)\n",
      "memory usage: 31.4+ KB\n"
     ]
    }
   ],
   "source": [
    "# вывод первых 5 строк каждого датафрейма и основной информации о них\n",
    "\n",
    "files = [calls, sessions, messages, tariffs, users]\n",
    "\n",
    "for file in files:\n",
    "    display(file.head())\n",
    "    file.info()"
   ]
  },
  {
   "cell_type": "code",
   "execution_count": 4,
   "metadata": {},
   "outputs": [],
   "source": [
    "# настройки для графиков\n",
    "plt.style.use('seaborn-pastel')\n",
    "sns.set_style('darkgrid')\n",
    "rcParams['figure.figsize'] = 6, 4"
   ]
  },
  {
   "cell_type": "code",
   "execution_count": 5,
   "metadata": {},
   "outputs": [
    {
     "data": {
      "image/png": "[encoded data removed]",
      "text/plain": [
       "<Figure size 600x400 with 1 Axes>"
      ]
     },
     "metadata": {},
     "output_type": "display_data"
    }
   ],
   "source": [
    "# построение гистограммы по длительности звонка в минутах\n",
    "sns.histplot(data=calls, x='duration', bins=10)\n",
    "plt.title('Длительность звонка в минутах')\n",
    "plt.xlabel('Длительность звонка')\n",
    "plt.ylabel('Частота');"
   ]
  },
  {
   "cell_type": "code",
   "execution_count": 6,
   "metadata": {},
   "outputs": [
    {
     "data": {
      "image/png": "[encoded data removed]",
      "text/plain": [
       "<Figure size 600x400 with 1 Axes>"
      ]
     },
     "metadata": {},
     "output_type": "display_data"
    }
   ],
   "source": [
    "# построение гистограммы по объёму потраченного за сессию интернет-трафика (в мегабайтах)\n",
    "sns.histplot(data=sessions, x='mb_used', bins=10)\n",
    "plt.title('Объём потраченного за сессию интернет-трафика')\n",
    "plt.xlabel('Объем интернет-трафика')\n",
    "plt.ylabel('Частота');"
   ]
  },
  {
   "cell_type": "markdown",
   "metadata": {
    "id": "Y0kllEng_oCf"
   },
   "source": [
    "## 2 Предобработка данных"
   ]
  },
  {
   "cell_type": "code",
   "execution_count": 7,
   "metadata": {
    "deletable": false,
    "id": "Ig2hAtil_oCh"
   },
   "outputs": [],
   "source": [
    "# изменение типов столбцов для проведения операций с датой и временем\n",
    "users['reg_date'] = pd.to_datetime(users['reg_date'], format='%Y-%m-%d')\n",
    "users['churn_date'] = pd.to_datetime(users['churn_date'], format='%Y-%m-%d')\n",
    "calls['call_date'] = pd.to_datetime(calls['call_date'], format='%Y-%m-%d')\n",
    "messages['message_date'] = pd.to_datetime(messages['message_date'], format='%Y-%m-%d')\n",
    "sessions['session_date'] = pd.to_datetime(sessions['session_date'], format='%Y-%m-%d')"
   ]
  },
  {
   "cell_type": "markdown",
   "metadata": {
    "id": "xZgEKVdX_oCi",
    "tags": [
     "start_task"
    ]
   },
   "source": [
    "В данных обнаружены звонки с нулевой продолжительностью. Скорей всего это не ошибка: нулями обозначены пропущенные звонки, поэтому их не нужно удалять."
   ]
  },
  {
   "cell_type": "code",
   "execution_count": 8,
   "metadata": {
    "deletable": false,
    "id": "7Msb3UqS_oCj"
   },
   "outputs": [],
   "source": [
    "# округление значений столбца с длительностью звонков и изменение его типа\n",
    "calls['duration'] = np.ceil(calls['duration']).astype('int')"
   ]
  },
  {
   "cell_type": "code",
   "execution_count": 9,
   "metadata": {
    "deletable": false,
    "id": "0qBUTIJK_oCj"
   },
   "outputs": [],
   "source": [
    "# удаление лишнего столбца с указанием индекса\n",
    "del sessions['Unnamed: 0']"
   ]
  },
  {
   "cell_type": "code",
   "execution_count": 10,
   "metadata": {
    "deletable": false,
    "id": "qepFbMhq_oCj"
   },
   "outputs": [],
   "source": [
    "# создание в датафреймах столбцов с номером месяца\n",
    "calls['month'] = calls['call_date'].dt.month\n",
    "messages['month'] = messages['message_date'].dt.month\n",
    "sessions['month'] = sessions['session_date'].dt.month"
   ]
  },
  {
   "cell_type": "code",
   "execution_count": 11,
   "metadata": {
    "deletable": false,
    "id": "tMAmcPhC_oCl"
   },
   "outputs": [],
   "source": [
    "# подсчёт количества звонков для каждого пользователя по месяцам\n",
    "calls_per_month = calls.groupby(['user_id', 'month']).agg(calls=('duration', 'count'))"
   ]
  },
  {
   "cell_type": "code",
   "execution_count": 12,
   "metadata": {
    "deletable": false,
    "id": "r8pvxWhj_oCl"
   },
   "outputs": [
    {
     "data": {
      "text/html": [
       "<div>\n",
       "<style scoped>\n",
       "    .dataframe tbody tr th:only-of-type {\n",
       "        vertical-align: middle;\n",
       "    }\n",
       "\n",
       "    .dataframe tbody tr th {\n",
       "        vertical-align: top;\n",
       "    }\n",
       "\n",
       "    .dataframe thead th {\n",
       "        text-align: right;\n",
       "    }\n",
       "</style>\n",
       "<table border=\"1\" class=\"dataframe\">\n",
       "  <thead>\n",
       "    <tr style=\"text-align: right;\">\n",
       "      <th></th>\n",
       "      <th></th>\n",
       "      <th>calls</th>\n",
       "    </tr>\n",
       "    <tr>\n",
       "      <th>user_id</th>\n",
       "      <th>month</th>\n",
       "      <th></th>\n",
       "    </tr>\n",
       "  </thead>\n",
       "  <tbody>\n",
       "    <tr>\n",
       "      <th rowspan=\"8\" valign=\"top\">1000</th>\n",
       "      <th>5</th>\n",
       "      <td>22</td>\n",
       "    </tr>\n",
       "    <tr>\n",
       "      <th>6</th>\n",
       "      <td>43</td>\n",
       "    </tr>\n",
       "    <tr>\n",
       "      <th>7</th>\n",
       "      <td>47</td>\n",
       "    </tr>\n",
       "    <tr>\n",
       "      <th>8</th>\n",
       "      <td>52</td>\n",
       "    </tr>\n",
       "    <tr>\n",
       "      <th>9</th>\n",
       "      <td>58</td>\n",
       "    </tr>\n",
       "    <tr>\n",
       "      <th>10</th>\n",
       "      <td>57</td>\n",
       "    </tr>\n",
       "    <tr>\n",
       "      <th>11</th>\n",
       "      <td>43</td>\n",
       "    </tr>\n",
       "    <tr>\n",
       "      <th>12</th>\n",
       "      <td>46</td>\n",
       "    </tr>\n",
       "    <tr>\n",
       "      <th rowspan=\"2\" valign=\"top\">1001</th>\n",
       "      <th>11</th>\n",
       "      <td>59</td>\n",
       "    </tr>\n",
       "    <tr>\n",
       "      <th>12</th>\n",
       "      <td>63</td>\n",
       "    </tr>\n",
       "    <tr>\n",
       "      <th rowspan=\"7\" valign=\"top\">1002</th>\n",
       "      <th>6</th>\n",
       "      <td>15</td>\n",
       "    </tr>\n",
       "    <tr>\n",
       "      <th>7</th>\n",
       "      <td>26</td>\n",
       "    </tr>\n",
       "    <tr>\n",
       "      <th>8</th>\n",
       "      <td>42</td>\n",
       "    </tr>\n",
       "    <tr>\n",
       "      <th>9</th>\n",
       "      <td>36</td>\n",
       "    </tr>\n",
       "    <tr>\n",
       "      <th>10</th>\n",
       "      <td>33</td>\n",
       "    </tr>\n",
       "    <tr>\n",
       "      <th>11</th>\n",
       "      <td>32</td>\n",
       "    </tr>\n",
       "    <tr>\n",
       "      <th>12</th>\n",
       "      <td>33</td>\n",
       "    </tr>\n",
       "    <tr>\n",
       "      <th rowspan=\"5\" valign=\"top\">1003</th>\n",
       "      <th>8</th>\n",
       "      <td>55</td>\n",
       "    </tr>\n",
       "    <tr>\n",
       "      <th>9</th>\n",
       "      <td>134</td>\n",
       "    </tr>\n",
       "    <tr>\n",
       "      <th>10</th>\n",
       "      <td>108</td>\n",
       "    </tr>\n",
       "    <tr>\n",
       "      <th>11</th>\n",
       "      <td>115</td>\n",
       "    </tr>\n",
       "    <tr>\n",
       "      <th>12</th>\n",
       "      <td>108</td>\n",
       "    </tr>\n",
       "    <tr>\n",
       "      <th rowspan=\"8\" valign=\"top\">1004</th>\n",
       "      <th>5</th>\n",
       "      <td>9</td>\n",
       "    </tr>\n",
       "    <tr>\n",
       "      <th>6</th>\n",
       "      <td>31</td>\n",
       "    </tr>\n",
       "    <tr>\n",
       "      <th>7</th>\n",
       "      <td>22</td>\n",
       "    </tr>\n",
       "    <tr>\n",
       "      <th>8</th>\n",
       "      <td>19</td>\n",
       "    </tr>\n",
       "    <tr>\n",
       "      <th>9</th>\n",
       "      <td>26</td>\n",
       "    </tr>\n",
       "    <tr>\n",
       "      <th>10</th>\n",
       "      <td>29</td>\n",
       "    </tr>\n",
       "    <tr>\n",
       "      <th>11</th>\n",
       "      <td>19</td>\n",
       "    </tr>\n",
       "    <tr>\n",
       "      <th>12</th>\n",
       "      <td>21</td>\n",
       "    </tr>\n",
       "  </tbody>\n",
       "</table>\n",
       "</div>"
      ],
      "text/plain": [
       "               calls\n",
       "user_id month       \n",
       "1000    5         22\n",
       "        6         43\n",
       "        7         47\n",
       "        8         52\n",
       "        9         58\n",
       "        10        57\n",
       "        11        43\n",
       "        12        46\n",
       "1001    11        59\n",
       "        12        63\n",
       "1002    6         15\n",
       "        7         26\n",
       "        8         42\n",
       "        9         36\n",
       "        10        33\n",
       "        11        32\n",
       "        12        33\n",
       "1003    8         55\n",
       "        9        134\n",
       "        10       108\n",
       "        11       115\n",
       "        12       108\n",
       "1004    5          9\n",
       "        6         31\n",
       "        7         22\n",
       "        8         19\n",
       "        9         26\n",
       "        10        29\n",
       "        11        19\n",
       "        12        21"
      ]
     },
     "execution_count": 12,
     "metadata": {},
     "output_type": "execute_result"
    }
   ],
   "source": [
    "# вывод 30 первых строк на экран\n",
    "calls_per_month.head(30)"
   ]
  },
  {
   "cell_type": "code",
   "execution_count": 13,
   "metadata": {
    "deletable": false,
    "id": "ehr5Lhq-_oCl"
   },
   "outputs": [],
   "source": [
    "# подсчёт израсходованных минут для каждого пользователя по месяцам\n",
    "minutes_per_month = calls.groupby(['user_id', 'month']).agg(minutes=('duration', 'sum'))"
   ]
  },
  {
   "cell_type": "code",
   "execution_count": 14,
   "metadata": {
    "deletable": false,
    "id": "-vbsnfVq_oCl"
   },
   "outputs": [
    {
     "data": {
      "text/html": [
       "<div>\n",
       "<style scoped>\n",
       "    .dataframe tbody tr th:only-of-type {\n",
       "        vertical-align: middle;\n",
       "    }\n",
       "\n",
       "    .dataframe tbody tr th {\n",
       "        vertical-align: top;\n",
       "    }\n",
       "\n",
       "    .dataframe thead th {\n",
       "        text-align: right;\n",
       "    }\n",
       "</style>\n",
       "<table border=\"1\" class=\"dataframe\">\n",
       "  <thead>\n",
       "    <tr style=\"text-align: right;\">\n",
       "      <th></th>\n",
       "      <th></th>\n",
       "      <th>minutes</th>\n",
       "    </tr>\n",
       "    <tr>\n",
       "      <th>user_id</th>\n",
       "      <th>month</th>\n",
       "      <th></th>\n",
       "    </tr>\n",
       "  </thead>\n",
       "  <tbody>\n",
       "    <tr>\n",
       "      <th rowspan=\"8\" valign=\"top\">1000</th>\n",
       "      <th>5</th>\n",
       "      <td>159</td>\n",
       "    </tr>\n",
       "    <tr>\n",
       "      <th>6</th>\n",
       "      <td>172</td>\n",
       "    </tr>\n",
       "    <tr>\n",
       "      <th>7</th>\n",
       "      <td>340</td>\n",
       "    </tr>\n",
       "    <tr>\n",
       "      <th>8</th>\n",
       "      <td>408</td>\n",
       "    </tr>\n",
       "    <tr>\n",
       "      <th>9</th>\n",
       "      <td>466</td>\n",
       "    </tr>\n",
       "    <tr>\n",
       "      <th>10</th>\n",
       "      <td>350</td>\n",
       "    </tr>\n",
       "    <tr>\n",
       "      <th>11</th>\n",
       "      <td>338</td>\n",
       "    </tr>\n",
       "    <tr>\n",
       "      <th>12</th>\n",
       "      <td>333</td>\n",
       "    </tr>\n",
       "    <tr>\n",
       "      <th rowspan=\"2\" valign=\"top\">1001</th>\n",
       "      <th>11</th>\n",
       "      <td>430</td>\n",
       "    </tr>\n",
       "    <tr>\n",
       "      <th>12</th>\n",
       "      <td>414</td>\n",
       "    </tr>\n",
       "    <tr>\n",
       "      <th rowspan=\"7\" valign=\"top\">1002</th>\n",
       "      <th>6</th>\n",
       "      <td>117</td>\n",
       "    </tr>\n",
       "    <tr>\n",
       "      <th>7</th>\n",
       "      <td>214</td>\n",
       "    </tr>\n",
       "    <tr>\n",
       "      <th>8</th>\n",
       "      <td>289</td>\n",
       "    </tr>\n",
       "    <tr>\n",
       "      <th>9</th>\n",
       "      <td>206</td>\n",
       "    </tr>\n",
       "    <tr>\n",
       "      <th>10</th>\n",
       "      <td>212</td>\n",
       "    </tr>\n",
       "    <tr>\n",
       "      <th>11</th>\n",
       "      <td>243</td>\n",
       "    </tr>\n",
       "    <tr>\n",
       "      <th>12</th>\n",
       "      <td>236</td>\n",
       "    </tr>\n",
       "    <tr>\n",
       "      <th rowspan=\"5\" valign=\"top\">1003</th>\n",
       "      <th>8</th>\n",
       "      <td>380</td>\n",
       "    </tr>\n",
       "    <tr>\n",
       "      <th>9</th>\n",
       "      <td>961</td>\n",
       "    </tr>\n",
       "    <tr>\n",
       "      <th>10</th>\n",
       "      <td>855</td>\n",
       "    </tr>\n",
       "    <tr>\n",
       "      <th>11</th>\n",
       "      <td>824</td>\n",
       "    </tr>\n",
       "    <tr>\n",
       "      <th>12</th>\n",
       "      <td>802</td>\n",
       "    </tr>\n",
       "    <tr>\n",
       "      <th rowspan=\"8\" valign=\"top\">1004</th>\n",
       "      <th>5</th>\n",
       "      <td>35</td>\n",
       "    </tr>\n",
       "    <tr>\n",
       "      <th>6</th>\n",
       "      <td>171</td>\n",
       "    </tr>\n",
       "    <tr>\n",
       "      <th>7</th>\n",
       "      <td>135</td>\n",
       "    </tr>\n",
       "    <tr>\n",
       "      <th>8</th>\n",
       "      <td>137</td>\n",
       "    </tr>\n",
       "    <tr>\n",
       "      <th>9</th>\n",
       "      <td>117</td>\n",
       "    </tr>\n",
       "    <tr>\n",
       "      <th>10</th>\n",
       "      <td>145</td>\n",
       "    </tr>\n",
       "    <tr>\n",
       "      <th>11</th>\n",
       "      <td>117</td>\n",
       "    </tr>\n",
       "    <tr>\n",
       "      <th>12</th>\n",
       "      <td>130</td>\n",
       "    </tr>\n",
       "  </tbody>\n",
       "</table>\n",
       "</div>"
      ],
      "text/plain": [
       "               minutes\n",
       "user_id month         \n",
       "1000    5          159\n",
       "        6          172\n",
       "        7          340\n",
       "        8          408\n",
       "        9          466\n",
       "        10         350\n",
       "        11         338\n",
       "        12         333\n",
       "1001    11         430\n",
       "        12         414\n",
       "1002    6          117\n",
       "        7          214\n",
       "        8          289\n",
       "        9          206\n",
       "        10         212\n",
       "        11         243\n",
       "        12         236\n",
       "1003    8          380\n",
       "        9          961\n",
       "        10         855\n",
       "        11         824\n",
       "        12         802\n",
       "1004    5           35\n",
       "        6          171\n",
       "        7          135\n",
       "        8          137\n",
       "        9          117\n",
       "        10         145\n",
       "        11         117\n",
       "        12         130"
      ]
     },
     "execution_count": 14,
     "metadata": {},
     "output_type": "execute_result"
    }
   ],
   "source": [
    "# вывод первых 30 строк на экран\n",
    "minutes_per_month.head(30)"
   ]
  },
  {
   "cell_type": "code",
   "execution_count": 15,
   "metadata": {
    "deletable": false,
    "id": "YiS9waG7_oCl"
   },
   "outputs": [],
   "source": [
    "# подсчёт количества отправленных сообщений для каждого пользователя по месяцам\n",
    "messages_per_month = messages.groupby(['user_id', 'month']).agg(messages=('message_date', 'count'))"
   ]
  },
  {
   "cell_type": "code",
   "execution_count": 16,
   "metadata": {
    "deletable": false,
    "id": "aaDNanZ0_oCm"
   },
   "outputs": [
    {
     "data": {
      "text/html": [
       "<div>\n",
       "<style scoped>\n",
       "    .dataframe tbody tr th:only-of-type {\n",
       "        vertical-align: middle;\n",
       "    }\n",
       "\n",
       "    .dataframe tbody tr th {\n",
       "        vertical-align: top;\n",
       "    }\n",
       "\n",
       "    .dataframe thead th {\n",
       "        text-align: right;\n",
       "    }\n",
       "</style>\n",
       "<table border=\"1\" class=\"dataframe\">\n",
       "  <thead>\n",
       "    <tr style=\"text-align: right;\">\n",
       "      <th></th>\n",
       "      <th></th>\n",
       "      <th>messages</th>\n",
       "    </tr>\n",
       "    <tr>\n",
       "      <th>user_id</th>\n",
       "      <th>month</th>\n",
       "      <th></th>\n",
       "    </tr>\n",
       "  </thead>\n",
       "  <tbody>\n",
       "    <tr>\n",
       "      <th rowspan=\"8\" valign=\"top\">1000</th>\n",
       "      <th>5</th>\n",
       "      <td>22</td>\n",
       "    </tr>\n",
       "    <tr>\n",
       "      <th>6</th>\n",
       "      <td>60</td>\n",
       "    </tr>\n",
       "    <tr>\n",
       "      <th>7</th>\n",
       "      <td>75</td>\n",
       "    </tr>\n",
       "    <tr>\n",
       "      <th>8</th>\n",
       "      <td>81</td>\n",
       "    </tr>\n",
       "    <tr>\n",
       "      <th>9</th>\n",
       "      <td>57</td>\n",
       "    </tr>\n",
       "    <tr>\n",
       "      <th>10</th>\n",
       "      <td>73</td>\n",
       "    </tr>\n",
       "    <tr>\n",
       "      <th>11</th>\n",
       "      <td>58</td>\n",
       "    </tr>\n",
       "    <tr>\n",
       "      <th>12</th>\n",
       "      <td>70</td>\n",
       "    </tr>\n",
       "    <tr>\n",
       "      <th rowspan=\"7\" valign=\"top\">1002</th>\n",
       "      <th>6</th>\n",
       "      <td>4</td>\n",
       "    </tr>\n",
       "    <tr>\n",
       "      <th>7</th>\n",
       "      <td>11</td>\n",
       "    </tr>\n",
       "    <tr>\n",
       "      <th>8</th>\n",
       "      <td>13</td>\n",
       "    </tr>\n",
       "    <tr>\n",
       "      <th>9</th>\n",
       "      <td>4</td>\n",
       "    </tr>\n",
       "    <tr>\n",
       "      <th>10</th>\n",
       "      <td>10</td>\n",
       "    </tr>\n",
       "    <tr>\n",
       "      <th>11</th>\n",
       "      <td>16</td>\n",
       "    </tr>\n",
       "    <tr>\n",
       "      <th>12</th>\n",
       "      <td>12</td>\n",
       "    </tr>\n",
       "    <tr>\n",
       "      <th rowspan=\"5\" valign=\"top\">1003</th>\n",
       "      <th>8</th>\n",
       "      <td>37</td>\n",
       "    </tr>\n",
       "    <tr>\n",
       "      <th>9</th>\n",
       "      <td>91</td>\n",
       "    </tr>\n",
       "    <tr>\n",
       "      <th>10</th>\n",
       "      <td>83</td>\n",
       "    </tr>\n",
       "    <tr>\n",
       "      <th>11</th>\n",
       "      <td>94</td>\n",
       "    </tr>\n",
       "    <tr>\n",
       "      <th>12</th>\n",
       "      <td>75</td>\n",
       "    </tr>\n",
       "    <tr>\n",
       "      <th rowspan=\"8\" valign=\"top\">1004</th>\n",
       "      <th>5</th>\n",
       "      <td>95</td>\n",
       "    </tr>\n",
       "    <tr>\n",
       "      <th>6</th>\n",
       "      <td>134</td>\n",
       "    </tr>\n",
       "    <tr>\n",
       "      <th>7</th>\n",
       "      <td>181</td>\n",
       "    </tr>\n",
       "    <tr>\n",
       "      <th>8</th>\n",
       "      <td>151</td>\n",
       "    </tr>\n",
       "    <tr>\n",
       "      <th>9</th>\n",
       "      <td>146</td>\n",
       "    </tr>\n",
       "    <tr>\n",
       "      <th>10</th>\n",
       "      <td>165</td>\n",
       "    </tr>\n",
       "    <tr>\n",
       "      <th>11</th>\n",
       "      <td>158</td>\n",
       "    </tr>\n",
       "    <tr>\n",
       "      <th>12</th>\n",
       "      <td>162</td>\n",
       "    </tr>\n",
       "    <tr>\n",
       "      <th rowspan=\"2\" valign=\"top\">1005</th>\n",
       "      <th>1</th>\n",
       "      <td>7</td>\n",
       "    </tr>\n",
       "    <tr>\n",
       "      <th>2</th>\n",
       "      <td>38</td>\n",
       "    </tr>\n",
       "  </tbody>\n",
       "</table>\n",
       "</div>"
      ],
      "text/plain": [
       "               messages\n",
       "user_id month          \n",
       "1000    5            22\n",
       "        6            60\n",
       "        7            75\n",
       "        8            81\n",
       "        9            57\n",
       "        10           73\n",
       "        11           58\n",
       "        12           70\n",
       "1002    6             4\n",
       "        7            11\n",
       "        8            13\n",
       "        9             4\n",
       "        10           10\n",
       "        11           16\n",
       "        12           12\n",
       "1003    8            37\n",
       "        9            91\n",
       "        10           83\n",
       "        11           94\n",
       "        12           75\n",
       "1004    5            95\n",
       "        6           134\n",
       "        7           181\n",
       "        8           151\n",
       "        9           146\n",
       "        10          165\n",
       "        11          158\n",
       "        12          162\n",
       "1005    1             7\n",
       "        2            38"
      ]
     },
     "execution_count": 16,
     "metadata": {},
     "output_type": "execute_result"
    }
   ],
   "source": [
    "# вывод первых 30 строк на экран\n",
    "messages_per_month.head(30)"
   ]
  },
  {
   "cell_type": "code",
   "execution_count": 17,
   "metadata": {
    "deletable": false,
    "id": "-ITlvcsU_oCm"
   },
   "outputs": [],
   "source": [
    "# подсчёт потраченных мегабайт для каждого пользователя по месяцам\n",
    "sessions_per_month = sessions.groupby(['user_id', 'month']).agg({'mb_used': 'sum'})"
   ]
  },
  {
   "cell_type": "code",
   "execution_count": 18,
   "metadata": {
    "deletable": false,
    "id": "YF7FQfXf_oCm"
   },
   "outputs": [
    {
     "data": {
      "text/html": [
       "<div>\n",
       "<style scoped>\n",
       "    .dataframe tbody tr th:only-of-type {\n",
       "        vertical-align: middle;\n",
       "    }\n",
       "\n",
       "    .dataframe tbody tr th {\n",
       "        vertical-align: top;\n",
       "    }\n",
       "\n",
       "    .dataframe thead th {\n",
       "        text-align: right;\n",
       "    }\n",
       "</style>\n",
       "<table border=\"1\" class=\"dataframe\">\n",
       "  <thead>\n",
       "    <tr style=\"text-align: right;\">\n",
       "      <th></th>\n",
       "      <th></th>\n",
       "      <th>mb_used</th>\n",
       "    </tr>\n",
       "    <tr>\n",
       "      <th>user_id</th>\n",
       "      <th>month</th>\n",
       "      <th></th>\n",
       "    </tr>\n",
       "  </thead>\n",
       "  <tbody>\n",
       "    <tr>\n",
       "      <th rowspan=\"8\" valign=\"top\">1000</th>\n",
       "      <th>5</th>\n",
       "      <td>2253.49</td>\n",
       "    </tr>\n",
       "    <tr>\n",
       "      <th>6</th>\n",
       "      <td>23233.77</td>\n",
       "    </tr>\n",
       "    <tr>\n",
       "      <th>7</th>\n",
       "      <td>14003.64</td>\n",
       "    </tr>\n",
       "    <tr>\n",
       "      <th>8</th>\n",
       "      <td>14055.93</td>\n",
       "    </tr>\n",
       "    <tr>\n",
       "      <th>9</th>\n",
       "      <td>14568.91</td>\n",
       "    </tr>\n",
       "    <tr>\n",
       "      <th>10</th>\n",
       "      <td>14702.49</td>\n",
       "    </tr>\n",
       "    <tr>\n",
       "      <th>11</th>\n",
       "      <td>14756.47</td>\n",
       "    </tr>\n",
       "    <tr>\n",
       "      <th>12</th>\n",
       "      <td>9817.61</td>\n",
       "    </tr>\n",
       "    <tr>\n",
       "      <th rowspan=\"2\" valign=\"top\">1001</th>\n",
       "      <th>11</th>\n",
       "      <td>18429.34</td>\n",
       "    </tr>\n",
       "    <tr>\n",
       "      <th>12</th>\n",
       "      <td>14036.66</td>\n",
       "    </tr>\n",
       "    <tr>\n",
       "      <th rowspan=\"7\" valign=\"top\">1002</th>\n",
       "      <th>6</th>\n",
       "      <td>10856.82</td>\n",
       "    </tr>\n",
       "    <tr>\n",
       "      <th>7</th>\n",
       "      <td>17580.10</td>\n",
       "    </tr>\n",
       "    <tr>\n",
       "      <th>8</th>\n",
       "      <td>20319.26</td>\n",
       "    </tr>\n",
       "    <tr>\n",
       "      <th>9</th>\n",
       "      <td>16691.08</td>\n",
       "    </tr>\n",
       "    <tr>\n",
       "      <th>10</th>\n",
       "      <td>13888.25</td>\n",
       "    </tr>\n",
       "    <tr>\n",
       "      <th>11</th>\n",
       "      <td>18587.28</td>\n",
       "    </tr>\n",
       "    <tr>\n",
       "      <th>12</th>\n",
       "      <td>18113.73</td>\n",
       "    </tr>\n",
       "    <tr>\n",
       "      <th rowspan=\"5\" valign=\"top\">1003</th>\n",
       "      <th>8</th>\n",
       "      <td>8565.21</td>\n",
       "    </tr>\n",
       "    <tr>\n",
       "      <th>9</th>\n",
       "      <td>12468.87</td>\n",
       "    </tr>\n",
       "    <tr>\n",
       "      <th>10</th>\n",
       "      <td>14768.14</td>\n",
       "    </tr>\n",
       "    <tr>\n",
       "      <th>11</th>\n",
       "      <td>11356.89</td>\n",
       "    </tr>\n",
       "    <tr>\n",
       "      <th>12</th>\n",
       "      <td>10121.53</td>\n",
       "    </tr>\n",
       "    <tr>\n",
       "      <th rowspan=\"8\" valign=\"top\">1004</th>\n",
       "      <th>5</th>\n",
       "      <td>13403.98</td>\n",
       "    </tr>\n",
       "    <tr>\n",
       "      <th>6</th>\n",
       "      <td>17600.02</td>\n",
       "    </tr>\n",
       "    <tr>\n",
       "      <th>7</th>\n",
       "      <td>22229.58</td>\n",
       "    </tr>\n",
       "    <tr>\n",
       "      <th>8</th>\n",
       "      <td>28584.37</td>\n",
       "    </tr>\n",
       "    <tr>\n",
       "      <th>9</th>\n",
       "      <td>15109.03</td>\n",
       "    </tr>\n",
       "    <tr>\n",
       "      <th>10</th>\n",
       "      <td>18475.44</td>\n",
       "    </tr>\n",
       "    <tr>\n",
       "      <th>11</th>\n",
       "      <td>15616.02</td>\n",
       "    </tr>\n",
       "    <tr>\n",
       "      <th>12</th>\n",
       "      <td>18021.04</td>\n",
       "    </tr>\n",
       "  </tbody>\n",
       "</table>\n",
       "</div>"
      ],
      "text/plain": [
       "                mb_used\n",
       "user_id month          \n",
       "1000    5       2253.49\n",
       "        6      23233.77\n",
       "        7      14003.64\n",
       "        8      14055.93\n",
       "        9      14568.91\n",
       "        10     14702.49\n",
       "        11     14756.47\n",
       "        12      9817.61\n",
       "1001    11     18429.34\n",
       "        12     14036.66\n",
       "1002    6      10856.82\n",
       "        7      17580.10\n",
       "        8      20319.26\n",
       "        9      16691.08\n",
       "        10     13888.25\n",
       "        11     18587.28\n",
       "        12     18113.73\n",
       "1003    8       8565.21\n",
       "        9      12468.87\n",
       "        10     14768.14\n",
       "        11     11356.89\n",
       "        12     10121.53\n",
       "1004    5      13403.98\n",
       "        6      17600.02\n",
       "        7      22229.58\n",
       "        8      28584.37\n",
       "        9      15109.03\n",
       "        10     18475.44\n",
       "        11     15616.02\n",
       "        12     18021.04"
      ]
     },
     "execution_count": 18,
     "metadata": {},
     "output_type": "execute_result"
    }
   ],
   "source": [
    "# вывод первых 30 строк на экран\n",
    "sessions_per_month.head(30)"
   ]
  },
  {
   "cell_type": "markdown",
   "metadata": {
    "deletable": false,
    "id": "7U9eZ81t_oCn"
   },
   "source": [
    "Объединим все посчитанные выше значения в один датафрейм `user_behavior`.\n",
    "Для каждой пары «пользователь — месяц» будут доступны информация о тарифе, количестве звонков, сообщений и потраченных мегабайтах."
   ]
  },
  {
   "cell_type": "code",
   "execution_count": 19,
   "metadata": {
    "deletable": false,
    "id": "SDchqQI5_oCn",
    "outputId": "760b21d8-9344-46a3-9c6e-a3cbbc7dd542"
   },
   "outputs": [
    {
     "data": {
      "text/plain": [
       "7.6"
      ]
     },
     "execution_count": 19,
     "metadata": {},
     "output_type": "execute_result"
    }
   ],
   "source": [
    "# расчет количества клиентов, расторгнувших договор\n",
    "users['churn_date'].count() / users['churn_date'].shape[0] * 100"
   ]
  },
  {
   "cell_type": "markdown",
   "metadata": {
    "id": "7jb0qJhe_oCn"
   },
   "source": [
    "Расторгли договор 7.6% клиентов из датасета."
   ]
  },
  {
   "cell_type": "code",
   "execution_count": 20,
   "metadata": {
    "deletable": false,
    "id": "QJuiD1cd_oCo",
    "outputId": "60af33ba-196b-464c-e15d-239dd446a4f4"
   },
   "outputs": [
    {
     "data": {
      "text/html": [
       "<div>\n",
       "<style scoped>\n",
       "    .dataframe tbody tr th:only-of-type {\n",
       "        vertical-align: middle;\n",
       "    }\n",
       "\n",
       "    .dataframe tbody tr th {\n",
       "        vertical-align: top;\n",
       "    }\n",
       "\n",
       "    .dataframe thead th {\n",
       "        text-align: right;\n",
       "    }\n",
       "</style>\n",
       "<table border=\"1\" class=\"dataframe\">\n",
       "  <thead>\n",
       "    <tr style=\"text-align: right;\">\n",
       "      <th></th>\n",
       "      <th>user_id</th>\n",
       "      <th>month</th>\n",
       "      <th>calls</th>\n",
       "      <th>messages</th>\n",
       "      <th>mb_used</th>\n",
       "      <th>minutes</th>\n",
       "      <th>age</th>\n",
       "      <th>churn_date</th>\n",
       "      <th>city</th>\n",
       "      <th>first_name</th>\n",
       "      <th>last_name</th>\n",
       "      <th>reg_date</th>\n",
       "      <th>tariff</th>\n",
       "    </tr>\n",
       "  </thead>\n",
       "  <tbody>\n",
       "    <tr>\n",
       "      <th>0</th>\n",
       "      <td>1000</td>\n",
       "      <td>5</td>\n",
       "      <td>22.0</td>\n",
       "      <td>22.0</td>\n",
       "      <td>2253.49</td>\n",
       "      <td>159.0</td>\n",
       "      <td>52</td>\n",
       "      <td>NaT</td>\n",
       "      <td>Краснодар</td>\n",
       "      <td>Рафаил</td>\n",
       "      <td>Верещагин</td>\n",
       "      <td>2018-05-25</td>\n",
       "      <td>ultra</td>\n",
       "    </tr>\n",
       "    <tr>\n",
       "      <th>1</th>\n",
       "      <td>1000</td>\n",
       "      <td>6</td>\n",
       "      <td>43.0</td>\n",
       "      <td>60.0</td>\n",
       "      <td>23233.77</td>\n",
       "      <td>172.0</td>\n",
       "      <td>52</td>\n",
       "      <td>NaT</td>\n",
       "      <td>Краснодар</td>\n",
       "      <td>Рафаил</td>\n",
       "      <td>Верещагин</td>\n",
       "      <td>2018-05-25</td>\n",
       "      <td>ultra</td>\n",
       "    </tr>\n",
       "    <tr>\n",
       "      <th>2</th>\n",
       "      <td>1000</td>\n",
       "      <td>7</td>\n",
       "      <td>47.0</td>\n",
       "      <td>75.0</td>\n",
       "      <td>14003.64</td>\n",
       "      <td>340.0</td>\n",
       "      <td>52</td>\n",
       "      <td>NaT</td>\n",
       "      <td>Краснодар</td>\n",
       "      <td>Рафаил</td>\n",
       "      <td>Верещагин</td>\n",
       "      <td>2018-05-25</td>\n",
       "      <td>ultra</td>\n",
       "    </tr>\n",
       "    <tr>\n",
       "      <th>3</th>\n",
       "      <td>1000</td>\n",
       "      <td>8</td>\n",
       "      <td>52.0</td>\n",
       "      <td>81.0</td>\n",
       "      <td>14055.93</td>\n",
       "      <td>408.0</td>\n",
       "      <td>52</td>\n",
       "      <td>NaT</td>\n",
       "      <td>Краснодар</td>\n",
       "      <td>Рафаил</td>\n",
       "      <td>Верещагин</td>\n",
       "      <td>2018-05-25</td>\n",
       "      <td>ultra</td>\n",
       "    </tr>\n",
       "    <tr>\n",
       "      <th>4</th>\n",
       "      <td>1000</td>\n",
       "      <td>9</td>\n",
       "      <td>58.0</td>\n",
       "      <td>57.0</td>\n",
       "      <td>14568.91</td>\n",
       "      <td>466.0</td>\n",
       "      <td>52</td>\n",
       "      <td>NaT</td>\n",
       "      <td>Краснодар</td>\n",
       "      <td>Рафаил</td>\n",
       "      <td>Верещагин</td>\n",
       "      <td>2018-05-25</td>\n",
       "      <td>ultra</td>\n",
       "    </tr>\n",
       "  </tbody>\n",
       "</table>\n",
       "</div>"
      ],
      "text/plain": [
       "   user_id  month  calls  messages   mb_used  minutes  age churn_date  \\\n",
       "0     1000      5   22.0      22.0   2253.49    159.0   52        NaT   \n",
       "1     1000      6   43.0      60.0  23233.77    172.0   52        NaT   \n",
       "2     1000      7   47.0      75.0  14003.64    340.0   52        NaT   \n",
       "3     1000      8   52.0      81.0  14055.93    408.0   52        NaT   \n",
       "4     1000      9   58.0      57.0  14568.91    466.0   52        NaT   \n",
       "\n",
       "        city first_name  last_name   reg_date tariff  \n",
       "0  Краснодар     Рафаил  Верещагин 2018-05-25  ultra  \n",
       "1  Краснодар     Рафаил  Верещагин 2018-05-25  ultra  \n",
       "2  Краснодар     Рафаил  Верещагин 2018-05-25  ultra  \n",
       "3  Краснодар     Рафаил  Верещагин 2018-05-25  ultra  \n",
       "4  Краснодар     Рафаил  Верещагин 2018-05-25  ultra  "
      ]
     },
     "execution_count": 20,
     "metadata": {},
     "output_type": "execute_result"
    }
   ],
   "source": [
    "# объединение всех имеющихся таблиц в одну\n",
    "user_behavior = calls_per_month\\\n",
    "    .merge(messages_per_month, left_index=True, right_index=True, how='outer')\\\n",
    "    .merge(sessions_per_month, left_index=True, right_index=True, how='outer')\\\n",
    "    .merge(minutes_per_month, left_index=True, right_index=True, how='outer')\\\n",
    "    .reset_index()\\\n",
    "    .merge(users, how='left', left_on='user_id', right_on='user_id')\\\n",
    "\n",
    "user_behavior.head()"
   ]
  },
  {
   "cell_type": "markdown",
   "metadata": {
    "deletable": false,
    "editable": false,
    "id": "9Kif7-vi_oCo"
   },
   "source": [
    "Проверим пропуски в таблице `user_behavior` после объединения:"
   ]
  },
  {
   "cell_type": "code",
   "execution_count": 21,
   "metadata": {
    "deletable": false,
    "id": "MExwRr6x_oCo",
    "outputId": "1362c11d-ba78-47b6-8495-ba877c2cae38"
   },
   "outputs": [
    {
     "data": {
      "text/plain": [
       "user_id          0\n",
       "month            0\n",
       "calls           40\n",
       "messages       497\n",
       "mb_used         11\n",
       "minutes         40\n",
       "age              0\n",
       "churn_date    3027\n",
       "city             0\n",
       "first_name       0\n",
       "last_name        0\n",
       "reg_date         0\n",
       "tariff           0\n",
       "dtype: int64"
      ]
     },
     "execution_count": 21,
     "metadata": {},
     "output_type": "execute_result"
    }
   ],
   "source": [
    "# подсчет количества пропусков\n",
    "user_behavior.isna().sum()"
   ]
  },
  {
   "cell_type": "markdown",
   "metadata": {
    "deletable": false,
    "editable": false,
    "id": "eNUHBFPI_oCo"
   },
   "source": [
    "Заполним образовавшиеся пропуски в данных:"
   ]
  },
  {
   "cell_type": "code",
   "execution_count": 22,
   "metadata": {
    "deletable": false,
    "id": "2aCyfvNX_oCo"
   },
   "outputs": [],
   "source": [
    "# заполнение пропущенных значений\n",
    "user_behavior['calls'] = user_behavior['calls'].fillna(0)\n",
    "user_behavior['minutes'] = user_behavior['minutes'].fillna(0)\n",
    "user_behavior['messages'] = user_behavior['messages'].fillna(0)\n",
    "user_behavior['mb_used'] = user_behavior['mb_used'].fillna(0)"
   ]
  },
  {
   "cell_type": "markdown",
   "metadata": {
    "id": "JTszP_Iy_oCo"
   },
   "source": [
    "Присоединим информацию о тарифах:"
   ]
  },
  {
   "cell_type": "code",
   "execution_count": 23,
   "metadata": {
    "deletable": false,
    "id": "zmnnqTIq_oCo"
   },
   "outputs": [],
   "source": [
    "# переименование столбца tariff_name на более простое tariff\n",
    "\n",
    "tariffs = tariffs.rename(\n",
    "    columns={\n",
    "        'tariff_name': 'tariff'\n",
    "    }\n",
    ")"
   ]
  },
  {
   "cell_type": "code",
   "execution_count": 24,
   "metadata": {
    "deletable": false,
    "id": "hop7kFhB_oCp"
   },
   "outputs": [],
   "source": [
    "# объединение таблиц\n",
    "user_behavior = user_behavior.merge(tariffs, on='tariff')"
   ]
  },
  {
   "cell_type": "markdown",
   "metadata": {
    "id": "aJZeqJwL_oCp"
   },
   "source": [
    "Считаем количество минут разговора, сообщений и мегабайт, превышающих включённые в тариф."
   ]
  },
  {
   "cell_type": "code",
   "execution_count": 25,
   "metadata": {
    "deletable": false,
    "id": "1Tcf3IxI_oCp"
   },
   "outputs": [],
   "source": [
    "# расчет минут, сообщений и мегабайт, превышающих заложенные в тариф\n",
    "user_behavior['paid_minutes'] = user_behavior['minutes'] - user_behavior['minutes_included']\n",
    "user_behavior['paid_messages'] = user_behavior['messages'] - user_behavior['messages_included']\n",
    "user_behavior['paid_mb'] = user_behavior['mb_used'] - user_behavior['mb_per_month_included']\n",
    "\n",
    "for col in ['paid_messages', 'paid_minutes', 'paid_mb']:\n",
    "    user_behavior.loc[user_behavior[col] < 0, col] = 0"
   ]
  },
  {
   "cell_type": "markdown",
   "metadata": {
    "deletable": false,
    "id": "9mf7Pko9_oCp"
   },
   "source": [
    "Переводим превышающие тариф мегабайты в гигабайты и сохраняем в столбец `paid_gb`."
   ]
  },
  {
   "cell_type": "code",
   "execution_count": 26,
   "metadata": {
    "deletable": false,
    "id": "cct5ZB60_oCp"
   },
   "outputs": [],
   "source": [
    "# создание столбца с количеством гигабайт, превышающих заложенные в тариф\n",
    "user_behavior['paid_gb'] = np.ceil(user_behavior['paid_mb'] / 1024).astype(int)"
   ]
  },
  {
   "cell_type": "markdown",
   "metadata": {
    "id": "KEZ1rO-r_oCp"
   },
   "source": [
    "Считаем выручку за минуты разговора, сообщения и интернет."
   ]
  },
  {
   "cell_type": "code",
   "execution_count": 27,
   "metadata": {
    "deletable": false,
    "id": "U302RLm6_oCp"
   },
   "outputs": [],
   "source": [
    "# подсчет выручки за минуты, сообщения и гигабайты, превышающие тариф\n",
    "user_behavior['cost_minutes'] = user_behavior['paid_minutes'] * user_behavior['rub_per_minute']\n",
    "user_behavior['cost_messages'] = user_behavior['paid_messages'] * user_behavior['rub_per_message']\n",
    "user_behavior['cost_gb'] = user_behavior['paid_gb'] * user_behavior['rub_per_gb']"
   ]
  },
  {
   "cell_type": "markdown",
   "metadata": {
    "id": "18ruYfTJ_oCp"
   },
   "source": [
    "Считаем помесячную выручку с каждого пользователя, она будет храниться в столбце `total_cost`."
   ]
  },
  {
   "cell_type": "code",
   "execution_count": 28,
   "metadata": {
    "deletable": false,
    "id": "Uf2YyazE_oCp"
   },
   "outputs": [],
   "source": [
    "# создание столбца с общим значением выручки\n",
    "user_behavior['total_cost'] = \\\n",
    "      user_behavior['rub_monthly_fee']\\\n",
    "    + user_behavior['cost_minutes']\\\n",
    "    + user_behavior['cost_messages']\\\n",
    "    + user_behavior['cost_gb']"
   ]
  },
  {
   "cell_type": "markdown",
   "metadata": {
    "id": "49WKdXmA_oCp"
   },
   "source": [
    "Датафрейм `stats_df` для каждой пары «месяц — тариф» будет хранить основные характеристики."
   ]
  },
  {
   "cell_type": "code",
   "execution_count": 29,
   "metadata": {
    "deletable": false,
    "id": "4V-Kl67S_oCp",
    "outputId": "ed8b1220-debd-42f0-9941-3acb27e94db1"
   },
   "outputs": [
    {
     "data": {
      "text/html": [
       "<div>\n",
       "<style scoped>\n",
       "    .dataframe tbody tr th:only-of-type {\n",
       "        vertical-align: middle;\n",
       "    }\n",
       "\n",
       "    .dataframe tbody tr th {\n",
       "        vertical-align: top;\n",
       "    }\n",
       "\n",
       "    .dataframe thead th {\n",
       "        text-align: right;\n",
       "    }\n",
       "</style>\n",
       "<table border=\"1\" class=\"dataframe\">\n",
       "  <thead>\n",
       "    <tr style=\"text-align: right;\">\n",
       "      <th></th>\n",
       "      <th>month</th>\n",
       "      <th>tariff</th>\n",
       "      <th>calls_mean</th>\n",
       "      <th>sessions_mean</th>\n",
       "      <th>messages_mean</th>\n",
       "      <th>minutes_mean</th>\n",
       "      <th>calls_std</th>\n",
       "      <th>sessions_std</th>\n",
       "      <th>messages_std</th>\n",
       "      <th>minutes_std</th>\n",
       "      <th>calls_median</th>\n",
       "      <th>sessions_median</th>\n",
       "      <th>messages_median</th>\n",
       "      <th>minutes_median</th>\n",
       "    </tr>\n",
       "  </thead>\n",
       "  <tbody>\n",
       "    <tr>\n",
       "      <th>0</th>\n",
       "      <td>1</td>\n",
       "      <td>smart</td>\n",
       "      <td>27.68</td>\n",
       "      <td>8513.72</td>\n",
       "      <td>18.24</td>\n",
       "      <td>203.85</td>\n",
       "      <td>20.81</td>\n",
       "      <td>6444.68</td>\n",
       "      <td>16.20</td>\n",
       "      <td>154.23</td>\n",
       "      <td>20.5</td>\n",
       "      <td>7096.18</td>\n",
       "      <td>15.0</td>\n",
       "      <td>162.5</td>\n",
       "    </tr>\n",
       "    <tr>\n",
       "      <th>1</th>\n",
       "      <td>1</td>\n",
       "      <td>ultra</td>\n",
       "      <td>59.44</td>\n",
       "      <td>13140.68</td>\n",
       "      <td>33.78</td>\n",
       "      <td>428.11</td>\n",
       "      <td>41.64</td>\n",
       "      <td>6865.35</td>\n",
       "      <td>30.67</td>\n",
       "      <td>269.76</td>\n",
       "      <td>51.0</td>\n",
       "      <td>14791.37</td>\n",
       "      <td>32.0</td>\n",
       "      <td>382.0</td>\n",
       "    </tr>\n",
       "    <tr>\n",
       "      <th>2</th>\n",
       "      <td>2</td>\n",
       "      <td>smart</td>\n",
       "      <td>40.19</td>\n",
       "      <td>11597.05</td>\n",
       "      <td>24.09</td>\n",
       "      <td>298.69</td>\n",
       "      <td>25.39</td>\n",
       "      <td>6247.35</td>\n",
       "      <td>21.75</td>\n",
       "      <td>190.82</td>\n",
       "      <td>38.5</td>\n",
       "      <td>12553.71</td>\n",
       "      <td>20.0</td>\n",
       "      <td>258.0</td>\n",
       "    </tr>\n",
       "    <tr>\n",
       "      <th>3</th>\n",
       "      <td>2</td>\n",
       "      <td>ultra</td>\n",
       "      <td>41.54</td>\n",
       "      <td>11775.94</td>\n",
       "      <td>21.96</td>\n",
       "      <td>297.12</td>\n",
       "      <td>40.97</td>\n",
       "      <td>10644.64</td>\n",
       "      <td>26.77</td>\n",
       "      <td>296.51</td>\n",
       "      <td>25.0</td>\n",
       "      <td>7327.12</td>\n",
       "      <td>5.5</td>\n",
       "      <td>168.0</td>\n",
       "    </tr>\n",
       "    <tr>\n",
       "      <th>4</th>\n",
       "      <td>3</td>\n",
       "      <td>smart</td>\n",
       "      <td>54.32</td>\n",
       "      <td>15104.16</td>\n",
       "      <td>31.86</td>\n",
       "      <td>390.05</td>\n",
       "      <td>25.54</td>\n",
       "      <td>5828.24</td>\n",
       "      <td>26.80</td>\n",
       "      <td>191.89</td>\n",
       "      <td>59.0</td>\n",
       "      <td>15670.25</td>\n",
       "      <td>23.0</td>\n",
       "      <td>409.0</td>\n",
       "    </tr>\n",
       "    <tr>\n",
       "      <th>5</th>\n",
       "      <td>3</td>\n",
       "      <td>ultra</td>\n",
       "      <td>67.68</td>\n",
       "      <td>17535.55</td>\n",
       "      <td>32.30</td>\n",
       "      <td>489.65</td>\n",
       "      <td>44.84</td>\n",
       "      <td>10951.79</td>\n",
       "      <td>41.62</td>\n",
       "      <td>333.74</td>\n",
       "      <td>57.0</td>\n",
       "      <td>17495.18</td>\n",
       "      <td>20.0</td>\n",
       "      <td>403.0</td>\n",
       "    </tr>\n",
       "    <tr>\n",
       "      <th>6</th>\n",
       "      <td>4</td>\n",
       "      <td>smart</td>\n",
       "      <td>51.31</td>\n",
       "      <td>13462.18</td>\n",
       "      <td>30.74</td>\n",
       "      <td>367.13</td>\n",
       "      <td>25.70</td>\n",
       "      <td>5698.25</td>\n",
       "      <td>24.54</td>\n",
       "      <td>186.49</td>\n",
       "      <td>52.0</td>\n",
       "      <td>14087.65</td>\n",
       "      <td>28.0</td>\n",
       "      <td>368.5</td>\n",
       "    </tr>\n",
       "    <tr>\n",
       "      <th>7</th>\n",
       "      <td>4</td>\n",
       "      <td>ultra</td>\n",
       "      <td>64.09</td>\n",
       "      <td>16828.13</td>\n",
       "      <td>31.56</td>\n",
       "      <td>458.02</td>\n",
       "      <td>36.27</td>\n",
       "      <td>9718.65</td>\n",
       "      <td>37.51</td>\n",
       "      <td>267.68</td>\n",
       "      <td>61.0</td>\n",
       "      <td>16645.78</td>\n",
       "      <td>17.0</td>\n",
       "      <td>453.0</td>\n",
       "    </tr>\n",
       "    <tr>\n",
       "      <th>8</th>\n",
       "      <td>5</td>\n",
       "      <td>smart</td>\n",
       "      <td>55.24</td>\n",
       "      <td>15805.18</td>\n",
       "      <td>33.77</td>\n",
       "      <td>387.36</td>\n",
       "      <td>25.38</td>\n",
       "      <td>5978.23</td>\n",
       "      <td>27.04</td>\n",
       "      <td>186.60</td>\n",
       "      <td>59.0</td>\n",
       "      <td>16323.94</td>\n",
       "      <td>30.0</td>\n",
       "      <td>433.0</td>\n",
       "    </tr>\n",
       "    <tr>\n",
       "      <th>9</th>\n",
       "      <td>5</td>\n",
       "      <td>ultra</td>\n",
       "      <td>72.51</td>\n",
       "      <td>19363.15</td>\n",
       "      <td>37.85</td>\n",
       "      <td>510.33</td>\n",
       "      <td>41.08</td>\n",
       "      <td>10046.11</td>\n",
       "      <td>40.31</td>\n",
       "      <td>289.60</td>\n",
       "      <td>75.0</td>\n",
       "      <td>18696.43</td>\n",
       "      <td>25.0</td>\n",
       "      <td>519.0</td>\n",
       "    </tr>\n",
       "  </tbody>\n",
       "</table>\n",
       "</div>"
      ],
      "text/plain": [
       "   month tariff  calls_mean  sessions_mean  messages_mean  minutes_mean  \\\n",
       "0      1  smart       27.68        8513.72          18.24        203.85   \n",
       "1      1  ultra       59.44       13140.68          33.78        428.11   \n",
       "2      2  smart       40.19       11597.05          24.09        298.69   \n",
       "3      2  ultra       41.54       11775.94          21.96        297.12   \n",
       "4      3  smart       54.32       15104.16          31.86        390.05   \n",
       "5      3  ultra       67.68       17535.55          32.30        489.65   \n",
       "6      4  smart       51.31       13462.18          30.74        367.13   \n",
       "7      4  ultra       64.09       16828.13          31.56        458.02   \n",
       "8      5  smart       55.24       15805.18          33.77        387.36   \n",
       "9      5  ultra       72.51       19363.15          37.85        510.33   \n",
       "\n",
       "   calls_std  sessions_std  messages_std  minutes_std  calls_median  \\\n",
       "0      20.81       6444.68         16.20       154.23          20.5   \n",
       "1      41.64       6865.35         30.67       269.76          51.0   \n",
       "2      25.39       6247.35         21.75       190.82          38.5   \n",
       "3      40.97      10644.64         26.77       296.51          25.0   \n",
       "4      25.54       5828.24         26.80       191.89          59.0   \n",
       "5      44.84      10951.79         41.62       333.74          57.0   \n",
       "6      25.70       5698.25         24.54       186.49          52.0   \n",
       "7      36.27       9718.65         37.51       267.68          61.0   \n",
       "8      25.38       5978.23         27.04       186.60          59.0   \n",
       "9      41.08      10046.11         40.31       289.60          75.0   \n",
       "\n",
       "   sessions_median  messages_median  minutes_median  \n",
       "0          7096.18             15.0           162.5  \n",
       "1         14791.37             32.0           382.0  \n",
       "2         12553.71             20.0           258.0  \n",
       "3          7327.12              5.5           168.0  \n",
       "4         15670.25             23.0           409.0  \n",
       "5         17495.18             20.0           403.0  \n",
       "6         14087.65             28.0           368.5  \n",
       "7         16645.78             17.0           453.0  \n",
       "8         16323.94             30.0           433.0  \n",
       "9         18696.43             25.0           519.0  "
      ]
     },
     "execution_count": 29,
     "metadata": {},
     "output_type": "execute_result"
    }
   ],
   "source": [
    "# сохранение статистических метрик для каждой пары месяц-тариф\n",
    "# в одной таблице stats_df (среднее значение, стандартное отклонение, медиана)\n",
    "\n",
    "stats_df = user_behavior.pivot_table(\n",
    "            index=['month', 'tariff'],\\\n",
    "            values=['calls', 'minutes', 'messages', 'mb_used'],\\\n",
    "            aggfunc=['mean', 'std', 'median']\\\n",
    ").round(2).reset_index()\n",
    "\n",
    "stats_df.columns=['month', 'tariff', 'calls_mean', 'sessions_mean', 'messages_mean', 'minutes_mean',\n",
    "                                     'calls_std',  'sessions_std', 'messages_std', 'minutes_std', \n",
    "                                     'calls_median', 'sessions_median', 'messages_median',  'minutes_median']\n",
    "\n",
    "stats_df.head(10)"
   ]
  },
  {
   "cell_type": "markdown",
   "metadata": {},
   "source": [
    "## 3 Исследовательский анализ данных"
   ]
  },
  {
   "cell_type": "markdown",
   "metadata": {},
   "source": [
    "Построим распределение среднего количества звонков по видам тарифов и месяцам."
   ]
  },
  {
   "cell_type": "code",
   "execution_count": 30,
   "metadata": {
    "deletable": false,
    "id": "HKlQp7la_oCq",
    "outputId": "18ba7a99-d460-44f5-9c08-a67e71e18aa2"
   },
   "outputs": [
    {
     "data": {
      "image/png": "[encoded data removed]",
      "text/plain": [
       "<Figure size 600x400 with 1 Axes>"
      ]
     },
     "metadata": {},
     "output_type": "display_data"
    }
   ],
   "source": [
    "# построение столбчатой диаграммы по среднему количеству звонков по месяцам\n",
    "ax = sns.barplot(x='month',\n",
    "            y='calls_mean',\n",
    "            hue=\"tariff\",\n",
    "            data=stats_df,\n",
    "            palette=['lightblue', 'blue'])\n",
    "\n",
    "ax.set_title('Распределение количества звонков по видам тарифов и месяцам')\n",
    "ax.set(xlabel='Номер месяца', ylabel='Среднее количество звонков');"
   ]
  },
  {
   "cell_type": "code",
   "execution_count": 31,
   "metadata": {
    "deletable": false,
    "id": "LBzNZDS1_oCq",
    "outputId": "12f9ceca-41e4-4ff9-ebf7-1a778751b299"
   },
   "outputs": [
    {
     "data": {
      "image/png": "[encoded data removed]",
      "text/plain": [
       "<Figure size 600x400 with 1 Axes>"
      ]
     },
     "metadata": {},
     "output_type": "display_data"
    }
   ],
   "source": [
    "# построение гистограммы с количеством звонков и количеством клиентов\n",
    "user_behavior.groupby('tariff')['calls'].plot(kind='hist', bins=35)\n",
    "plt.legend(['Smart', 'Ultra'])\n",
    "plt.xlabel('Количество звонков')\n",
    "plt.ylabel('Количество клиентов')\n",
    "plt.show()"
   ]
  },
  {
   "cell_type": "markdown",
   "metadata": {
    "id": "6ApNiP3G_oCq"
   },
   "source": [
    "Построим распределение средней продолжительности звонков по видам тарифов и месяцам."
   ]
  },
  {
   "cell_type": "code",
   "execution_count": 32,
   "metadata": {
    "deletable": false,
    "id": "NB9xuopA_oCq",
    "outputId": "f4f1696b-7a58-41b3-8085-f86e0c866bc9"
   },
   "outputs": [
    {
     "data": {
      "image/png": "[encoded data removed]",
      "text/plain": [
       "<Figure size 600x400 with 1 Axes>"
      ]
     },
     "metadata": {},
     "output_type": "display_data"
    }
   ],
   "source": [
    "# построение столбчатой диаграммы по средней продолжительности звонков по месяцам\n",
    "ax = sns.barplot(x='month',\n",
    "            y='minutes_mean',\n",
    "            hue=\"tariff\",\n",
    "            data=stats_df,\n",
    "            palette=['lightblue', 'blue'])\n",
    "\n",
    "ax.set_title('Распределение продолжительности звонков по видам тарифов и месяцам')\n",
    "ax.set(xlabel='Номер месяца', ylabel='Средняя продолжительность звонков');"
   ]
  },
  {
   "cell_type": "code",
   "execution_count": 33,
   "metadata": {},
   "outputs": [
    {
     "data": {
      "image/png": "[encoded data removed]",
      "text/plain": [
       "<Figure size 600x400 with 1 Axes>"
      ]
     },
     "metadata": {},
     "output_type": "display_data"
    }
   ],
   "source": [
    "# построение гистограммы с продолжительностью звонков и количеством клиентов\n",
    "user_behavior.groupby('tariff')['minutes'].plot(kind='hist', bins=35)\n",
    "plt.legend(['Smart', 'Ultra'])\n",
    "plt.xlabel('Продолжительность звонков')\n",
    "plt.ylabel('Количество клиентов')\n",
    "plt.show()"
   ]
  },
  {
   "cell_type": "markdown",
   "metadata": {
    "deletable": false,
    "editable": false,
    "id": "G3NDyWZy_oCq"
   },
   "source": [
    "Средняя длительность разговоров у абонентов тарифа Ultra больше, чем у абонентов тарифа Smart. В течение года пользователи обоих тарифов увеличивают среднюю продолжительность своих разговоров. Рост средней длительности разговоров у абонентов тарифа Smart равномерный в течение года. Пользователи тарифа Ultra не проявляют подобной линейной стабильности. Стоит отметить, что феврале у абонентов обоих тарифных планов наблюдались самые низкие показатели."
   ]
  },
  {
   "cell_type": "markdown",
   "metadata": {
    "id": "ils1vnE7_oCq"
   },
   "source": [
    "Построим распределение среднего количества сообщений по видам тарифов и месяцам."
   ]
  },
  {
   "cell_type": "code",
   "execution_count": 34,
   "metadata": {
    "deletable": false,
    "id": "zkSEsDH__oCq",
    "outputId": "34370df8-5375-4a80-b1f5-ad6d556f6a54"
   },
   "outputs": [
    {
     "data": {
      "image/png": "[encoded data removed]",
      "text/plain": [
       "<Figure size 600x400 with 1 Axes>"
      ]
     },
     "metadata": {},
     "output_type": "display_data"
    }
   ],
   "source": [
    "# построение столбчатой диаграммы по среднему количеству сообщений по месяцам\n",
    "ax = sns.barplot(x='month',\n",
    "            y='messages_mean',\n",
    "            hue=\"tariff\",\n",
    "            data=stats_df,\n",
    "            palette=['lightblue', 'blue']\n",
    ")\n",
    "\n",
    "ax.set_title('Распределение количества сообщений по видам тарифов и месяцам')\n",
    "ax.set(xlabel='Номер месяца', ylabel='Среднее количество сообщений');"
   ]
  },
  {
   "cell_type": "code",
   "execution_count": 35,
   "metadata": {},
   "outputs": [
    {
     "data": {
      "image/png": "[encoded data removed]",
      "text/plain": [
       "<Figure size 600x400 with 1 Axes>"
      ]
     },
     "metadata": {},
     "output_type": "display_data"
    }
   ],
   "source": [
    "# построение гистограммы с количеством сообщений и количеством клиентов\n",
    "user_behavior.groupby('tariff')['messages'].plot(kind='hist', bins=35)\n",
    "plt.legend(['Smart', 'Ultra'])\n",
    "plt.xlabel('Количество сообщений')\n",
    "plt.ylabel('Количество клиентов')\n",
    "plt.show()"
   ]
  },
  {
   "cell_type": "markdown",
   "metadata": {
    "id": "IKu7ZqEy_oCq"
   },
   "source": [
    "В среднем пользователи тарифа Ultra отправляют больше сообщений — почти на 20 сообщений больше, чем пользователи тарифа Smart. Количество сообщений в течение года на обоих тарифах растёт. Динамика по отправке сообщений схожа с тенденциями по длительности разговоров: в феврале отмечено наименьшее количество сообщений за год и пользователи тарифа Ultra также проявляют нелинейную положительную динамику."
   ]
  },
  {
   "cell_type": "code",
   "execution_count": 36,
   "metadata": {
    "deletable": false,
    "id": "q866NzDW_oCr",
    "outputId": "18a00f1a-0227-4176-da41-47d448aecc0b"
   },
   "outputs": [
    {
     "data": {
      "image/png": "[encoded data removed]",
      "text/plain": [
       "<Figure size 600x400 with 1 Axes>"
      ]
     },
     "metadata": {},
     "output_type": "display_data"
    }
   ],
   "source": [
    "# построение столбчатой диаграммы по среднему количеству трафика по месяцам\n",
    "ax = sns.barplot(x='month',\n",
    "            y='sessions_mean',\n",
    "            hue='tariff',\n",
    "            data=stats_df,\n",
    "            palette=['lightblue', 'blue']\n",
    ")\n",
    "\n",
    "ax.set_title('Распределение количества потраченного трафика (Мб) по видам тарифов и месяцам')\n",
    "ax.set(xlabel='Номер месяца', ylabel='Среднее количество мегабайт');"
   ]
  },
  {
   "cell_type": "code",
   "execution_count": 37,
   "metadata": {
    "deletable": false,
    "id": "Czm2mIhd_oCr",
    "outputId": "af40db5d-21b7-4991-bcfb-cd57eec6bb3d"
   },
   "outputs": [
    {
     "data": {
      "image/png": "[encoded data removed]",
      "text/plain": [
       "<Figure size 600x400 with 1 Axes>"
      ]
     },
     "metadata": {},
     "output_type": "display_data"
    }
   ],
   "source": [
    "# построение гистограммы с количеством трафика и количеством клиентов\n",
    "user_behavior.groupby('tariff')['mb_used'].plot(kind='hist', bins=35)\n",
    "plt.legend(['Smart', 'Ultra'])\n",
    "plt.xlabel('Количество трафика')\n",
    "plt.ylabel('Количество клиентов')\n",
    "plt.show()"
   ]
  },
  {
   "cell_type": "markdown",
   "metadata": {
    "deletable": false,
    "editable": false,
    "id": "DQp_KGw1_oCr"
   },
   "source": [
    "Меньше всего пользователи использовали интернет в январе, феврале и апреле. Чаще всего абоненты тарифа Smart тратят 15–17 Гб, а абоненты тарифного плана Ultra — 19–21 ГБ."
   ]
  },
  {
   "cell_type": "markdown",
   "metadata": {
    "id": "aKJz6DhN_oCr"
   },
   "source": [
    "## 4 Проверка гипотез"
   ]
  },
  {
   "cell_type": "markdown",
   "metadata": {
    "id": "FW2jChme_oCr",
    "tags": [
     "start_task"
    ]
   },
   "source": [
    "Далее в работе необходимо проверить следующие гипотезы:\n",
    "\n",
    "- **Нулевая гипотеза**: Значения выручки пользователей тарифов \"Ultra\" и \"Smart\" равны;\n",
    "- **Альтернативная гипотеза**: Значения выручки пользователей тарифов \"Ultra\" и \"Smart\" не равны.\n",
    "\n",
    "\n",
    "- **Нулевая гипотеза**: Значения выручки пользователей из Москвы и из других регионов равны;\n",
    "- **Альтернативная гипотеза**: Значения выручки пользователей из Москвы и из других регионов не равны."
   ]
  },
  {
   "cell_type": "code",
   "execution_count": 38,
   "metadata": {},
   "outputs": [],
   "source": [
    "total_cost_ultra = user_behavior.query('tariff == \"ultra\"')['total_cost']\n",
    "total_cost_smart = user_behavior.query('tariff == \"smart\"')['total_cost']"
   ]
  },
  {
   "cell_type": "code",
   "execution_count": 39,
   "metadata": {
    "deletable": false,
    "id": "OxsrhJXE_oCr"
   },
   "outputs": [
    {
     "name": "stdout",
     "output_type": "stream",
     "text": [
      "4.2606313931076085e-250\n",
      "Отвергаем нулевую гипотезу\n"
     ]
    }
   ],
   "source": [
    "# проверка первой нулевой гипотезы\n",
    "alpha = 0.05\n",
    "\n",
    "results = st.ttest_ind(total_cost_ultra, total_cost_smart, equal_var=False)\n",
    "\n",
    "print(results.pvalue)\n",
    "\n",
    "if results.pvalue < alpha:\n",
    "    print('Отвергаем нулевую гипотезу')\n",
    "else:\n",
    "    print('Не получилось отвергнуть нулевую гипотезу')"
   ]
  },
  {
   "cell_type": "markdown",
   "metadata": {},
   "source": [
    "По результатам расчета нулевая гипотеза отвергается, соответственно, принимается альтернативная: выручка пользователей тарифов \"Ultra\" отличается от выручки пользоваталей тарифа \"Smart\"."
   ]
  },
  {
   "cell_type": "code",
   "execution_count": 40,
   "metadata": {},
   "outputs": [],
   "source": [
    "total_cost_msk = user_behavior.query('city == \"Москва\"')['total_cost']\n",
    "total_cost_not_msk = user_behavior.query('city != \"Москва\"')['total_cost']"
   ]
  },
  {
   "cell_type": "code",
   "execution_count": 41,
   "metadata": {
    "deletable": false,
    "id": "RznkRUuu_oCr"
   },
   "outputs": [
    {
     "name": "stdout",
     "output_type": "stream",
     "text": [
      "0.5257376663729298\n",
      "Не получилось отвергнуть нулевую гипотезу\n"
     ]
    }
   ],
   "source": [
    "# проверка второй нулевой гипотезы\n",
    "results = st.ttest_ind(total_cost_msk, total_cost_not_msk, equal_var=False)\n",
    "\n",
    "print(results.pvalue)\n",
    "\n",
    "if results.pvalue < alpha:\n",
    "    print('Отвергаем нулевую гипотезу')\n",
    "else:\n",
    "    print('Не получилось отвергнуть нулевую гипотезу')"
   ]
  },
  {
   "cell_type": "markdown",
   "metadata": {},
   "source": [
    "По результатам расчета нельзя отвергнуть нулевую гипотезу, значит, она остается верной: значения выручки пользователей из Москвы и не из Москвы одинаковы."
   ]
  },
  {
   "cell_type": "markdown",
   "metadata": {},
   "source": [
    "### Общий вывод"
   ]
  },
  {
   "cell_type": "markdown",
   "metadata": {},
   "source": [
    "В ходе изучения общей информации о датафрейме были обнаружены неверные типы данных некоторых столбцов, а также лишние столбцы.\n",
    "\n",
    "Во время предобработки данных типы данных были исправлены, также, были добавлены дополнительные столбцы для проведения более тщательного анализа.\n",
    "\n",
    "В ходе исследовательского анализа данных было изучено распределение количества звонков, продолжительности звонков, количества сообщений и количества трафика по месяцам и видам тарифа, а также проверены несколько гипотез.\n",
    "\n",
    "По результатам можно сделать ряд выводов:\n",
    "- средние значения количества звонков, длительности разговоров, количества сообщений и размера трафика у абонентов тарифа Ultra выше, чем у абонентов тарифа Smart;\n",
    "- количество, продолжительность звонков и количество отправленных сообщений увеличивается в течение года у пользователей обоих тарифов;\n",
    "- самое низкое значение средней продолжительности и количества сообщений наблюдалось в феврале, а значения количества трафика - в январе, феврале и апреле.\n",
    "- значение выручки, полученной от абонентов тарифа Ultra превышает значение выручки, полученной от абонентов тарифа Smart."
   ]
  }
 ],
 "metadata": {
  "ExecuteTimeLog": [
   {
    "duration": 388,
    "start_time": "2023-02-01T12:40:07.014Z"
   },
   {
    "duration": 529,
    "start_time": "2023-02-01T12:40:09.118Z"
   },
   {
    "duration": 16,
    "start_time": "2023-02-01T12:40:17.033Z"
   },
   {
    "duration": 9,
    "start_time": "2023-02-01T12:40:40.431Z"
   },
   {
    "duration": 31,
    "start_time": "2023-02-01T12:40:43.538Z"
   },
   {
    "duration": 553,
    "start_time": "2023-02-01T12:41:32.146Z"
   },
   {
    "duration": 326,
    "start_time": "2023-02-01T12:42:17.540Z"
   },
   {
    "duration": 10,
    "start_time": "2023-02-01T12:42:39.702Z"
   },
   {
    "duration": 23,
    "start_time": "2023-02-01T12:43:17.318Z"
   },
   {
    "duration": 152,
    "start_time": "2023-02-01T12:44:05.335Z"
   },
   {
    "duration": 353,
    "start_time": "2023-02-01T12:44:36.723Z"
   },
   {
    "duration": 7,
    "start_time": "2023-02-01T12:44:58.536Z"
   },
   {
    "duration": 16,
    "start_time": "2023-02-01T12:45:24.122Z"
   },
   {
    "duration": 80,
    "start_time": "2023-02-01T12:45:51.714Z"
   },
   {
    "duration": 8,
    "start_time": "2023-02-01T12:46:07.110Z"
   },
   {
    "duration": 12,
    "start_time": "2023-02-01T12:46:39.240Z"
   },
   {
    "duration": 86,
    "start_time": "2023-02-01T12:47:10.121Z"
   },
   {
    "duration": 10,
    "start_time": "2023-02-01T12:47:29.955Z"
   },
   {
    "duration": 11,
    "start_time": "2023-02-01T12:47:51.622Z"
   },
   {
    "duration": 4,
    "start_time": "2023-02-01T12:50:48.303Z"
   },
   {
    "duration": 12,
    "start_time": "2023-02-01T12:51:04.564Z"
   },
   {
    "duration": 4,
    "start_time": "2023-02-01T12:51:52.907Z"
   },
   {
    "duration": 78,
    "start_time": "2023-02-01T12:54:03.411Z"
   },
   {
    "duration": 238,
    "start_time": "2023-02-01T14:06:11.524Z"
   },
   {
    "duration": 421,
    "start_time": "2023-02-01T14:06:27.868Z"
   },
   {
    "duration": 565,
    "start_time": "2023-02-01T14:06:28.291Z"
   },
   {
    "duration": 15,
    "start_time": "2023-02-01T14:06:28.858Z"
   },
   {
    "duration": 43,
    "start_time": "2023-02-01T14:06:28.874Z"
   },
   {
    "duration": 614,
    "start_time": "2023-02-01T14:06:28.918Z"
   },
   {
    "duration": 510,
    "start_time": "2023-02-01T14:06:29.533Z"
   },
   {
    "duration": 10,
    "start_time": "2023-02-01T14:06:30.045Z"
   },
   {
    "duration": 71,
    "start_time": "2023-02-01T14:06:30.057Z"
   },
   {
    "duration": 160,
    "start_time": "2023-02-01T14:06:30.130Z"
   },
   {
    "duration": 369,
    "start_time": "2023-02-01T14:06:30.292Z"
   },
   {
    "duration": 9,
    "start_time": "2023-02-01T14:06:30.663Z"
   },
   {
    "duration": 82,
    "start_time": "2023-02-01T14:06:30.673Z"
   },
   {
    "duration": 160,
    "start_time": "2023-02-01T14:06:30.757Z"
   },
   {
    "duration": 8,
    "start_time": "2023-02-01T14:06:30.919Z"
   },
   {
    "duration": 73,
    "start_time": "2023-02-01T14:06:30.929Z"
   },
   {
    "duration": 121,
    "start_time": "2023-02-01T14:06:31.004Z"
   },
   {
    "duration": 12,
    "start_time": "2023-02-01T14:06:31.126Z"
   },
   {
    "duration": 42,
    "start_time": "2023-02-01T14:06:31.140Z"
   },
   {
    "duration": 130,
    "start_time": "2023-02-01T14:06:31.184Z"
   },
   {
    "duration": 81,
    "start_time": "2023-02-01T14:06:35.722Z"
   },
   {
    "duration": 9,
    "start_time": "2023-02-01T14:07:54.718Z"
   },
   {
    "duration": 7,
    "start_time": "2023-02-01T14:08:05.329Z"
   },
   {
    "duration": 5,
    "start_time": "2023-02-01T14:11:55.400Z"
   },
   {
    "duration": 12,
    "start_time": "2023-02-01T14:12:41.065Z"
   },
   {
    "duration": 11,
    "start_time": "2023-02-01T14:13:38.620Z"
   },
   {
    "duration": 397,
    "start_time": "2023-02-01T14:13:54.582Z"
   },
   {
    "duration": 154,
    "start_time": "2023-02-01T14:13:54.981Z"
   },
   {
    "duration": 15,
    "start_time": "2023-02-01T14:13:55.137Z"
   },
   {
    "duration": 30,
    "start_time": "2023-02-01T14:13:55.154Z"
   },
   {
    "duration": 378,
    "start_time": "2023-02-01T14:13:55.186Z"
   },
   {
    "duration": 131,
    "start_time": "2023-02-01T14:13:55.566Z"
   },
   {
    "duration": 10,
    "start_time": "2023-02-01T14:13:55.699Z"
   },
   {
    "duration": 23,
    "start_time": "2023-02-01T14:13:55.711Z"
   },
   {
    "duration": 166,
    "start_time": "2023-02-01T14:13:55.736Z"
   },
   {
    "duration": 106,
    "start_time": "2023-02-01T14:13:55.904Z"
   },
   {
    "duration": 10,
    "start_time": "2023-02-01T14:13:56.012Z"
   },
   {
    "duration": 22,
    "start_time": "2023-02-01T14:13:56.024Z"
   },
   {
    "duration": 39,
    "start_time": "2023-02-01T14:13:56.047Z"
   },
   {
    "duration": 11,
    "start_time": "2023-02-01T14:13:56.090Z"
   },
   {
    "duration": 17,
    "start_time": "2023-02-01T14:13:56.103Z"
   },
   {
    "duration": 32,
    "start_time": "2023-02-01T14:13:56.122Z"
   },
   {
    "duration": 11,
    "start_time": "2023-02-01T14:13:56.156Z"
   },
   {
    "duration": 19,
    "start_time": "2023-02-01T14:13:56.169Z"
   },
   {
    "duration": 90,
    "start_time": "2023-02-01T14:13:56.190Z"
   },
   {
    "duration": 6,
    "start_time": "2023-02-01T14:13:56.282Z"
   },
   {
    "duration": 6,
    "start_time": "2023-02-01T14:13:59.919Z"
   },
   {
    "duration": 1259,
    "start_time": "2023-02-01T14:14:45.177Z"
   },
   {
    "duration": 17,
    "start_time": "2023-02-01T14:14:46.677Z"
   },
   {
    "duration": 402,
    "start_time": "2023-02-01T14:15:02.084Z"
   },
   {
    "duration": 155,
    "start_time": "2023-02-01T14:15:02.488Z"
   },
   {
    "duration": 16,
    "start_time": "2023-02-01T14:15:02.644Z"
   },
   {
    "duration": 48,
    "start_time": "2023-02-01T14:15:02.662Z"
   },
   {
    "duration": 380,
    "start_time": "2023-02-01T14:15:02.712Z"
   },
   {
    "duration": 131,
    "start_time": "2023-02-01T14:15:03.094Z"
   },
   {
    "duration": 9,
    "start_time": "2023-02-01T14:15:03.227Z"
   },
   {
    "duration": 25,
    "start_time": "2023-02-01T14:15:03.237Z"
   },
   {
    "duration": 145,
    "start_time": "2023-02-01T14:15:03.264Z"
   },
   {
    "duration": 94,
    "start_time": "2023-02-01T14:15:03.410Z"
   },
   {
    "duration": 7,
    "start_time": "2023-02-01T14:15:03.506Z"
   },
   {
    "duration": 50,
    "start_time": "2023-02-01T14:15:03.514Z"
   },
   {
    "duration": 45,
    "start_time": "2023-02-01T14:15:03.565Z"
   },
   {
    "duration": 8,
    "start_time": "2023-02-01T14:15:03.612Z"
   },
   {
    "duration": 27,
    "start_time": "2023-02-01T14:15:03.622Z"
   },
   {
    "duration": 43,
    "start_time": "2023-02-01T14:15:03.651Z"
   },
   {
    "duration": 10,
    "start_time": "2023-02-01T14:15:03.695Z"
   },
   {
    "duration": 14,
    "start_time": "2023-02-01T14:15:03.707Z"
   },
   {
    "duration": 74,
    "start_time": "2023-02-01T14:15:03.723Z"
   },
   {
    "duration": 6,
    "start_time": "2023-02-01T14:15:03.799Z"
   },
   {
    "duration": 3,
    "start_time": "2023-02-01T14:15:06.478Z"
   },
   {
    "duration": 15,
    "start_time": "2023-02-01T14:15:08.082Z"
   },
   {
    "duration": 24,
    "start_time": "2023-02-01T14:16:19.166Z"
   },
   {
    "duration": 15,
    "start_time": "2023-02-01T14:17:15.722Z"
   },
   {
    "duration": 20,
    "start_time": "2023-02-01T14:17:55.130Z"
   },
   {
    "duration": 88,
    "start_time": "2023-02-01T14:21:48.580Z"
   },
   {
    "duration": 44,
    "start_time": "2023-02-01T14:22:10.781Z"
   },
   {
    "duration": 32,
    "start_time": "2023-02-01T14:22:12.715Z"
   },
   {
    "duration": 12,
    "start_time": "2023-02-01T14:24:27.332Z"
   },
   {
    "duration": 22,
    "start_time": "2023-02-01T14:24:41.625Z"
   },
   {
    "duration": 8,
    "start_time": "2023-02-01T14:24:44.178Z"
   },
   {
    "duration": 96,
    "start_time": "2023-02-01T14:27:54.708Z"
   },
   {
    "duration": 25,
    "start_time": "2023-02-01T14:28:14.169Z"
   },
   {
    "duration": 9,
    "start_time": "2023-02-01T14:28:14.973Z"
   },
   {
    "duration": 26,
    "start_time": "2023-02-01T14:29:21.200Z"
   },
   {
    "duration": 8,
    "start_time": "2023-02-01T14:29:22.153Z"
   },
   {
    "duration": 19,
    "start_time": "2023-02-01T14:31:07.742Z"
   },
   {
    "duration": 9,
    "start_time": "2023-02-01T14:31:08.355Z"
   },
   {
    "duration": 15,
    "start_time": "2023-02-01T14:32:36.508Z"
   },
   {
    "duration": 11,
    "start_time": "2023-02-01T14:32:37.093Z"
   },
   {
    "duration": 5,
    "start_time": "2023-02-01T14:33:11.456Z"
   },
   {
    "duration": 39,
    "start_time": "2023-02-01T14:33:37.979Z"
   },
   {
    "duration": 9,
    "start_time": "2023-02-01T14:33:52.910Z"
   },
   {
    "duration": 5,
    "start_time": "2023-02-01T14:33:56.937Z"
   },
   {
    "duration": 3,
    "start_time": "2023-02-01T14:34:03.772Z"
   },
   {
    "duration": 8,
    "start_time": "2023-02-01T14:34:06.886Z"
   },
   {
    "duration": 9,
    "start_time": "2023-02-01T14:34:12.191Z"
   },
   {
    "duration": 5,
    "start_time": "2023-02-01T14:34:24.927Z"
   },
   {
    "duration": 7,
    "start_time": "2023-02-01T14:34:27.574Z"
   },
   {
    "duration": 5,
    "start_time": "2023-02-01T14:34:31.312Z"
   },
   {
    "duration": 54,
    "start_time": "2023-02-01T14:34:35.524Z"
   },
   {
    "duration": 834,
    "start_time": "2023-02-01T14:34:40.621Z"
   },
   {
    "duration": 247,
    "start_time": "2023-02-01T14:34:49.310Z"
   },
   {
    "duration": 291,
    "start_time": "2023-02-01T14:34:56.941Z"
   },
   {
    "duration": 304,
    "start_time": "2023-02-01T14:35:00.687Z"
   },
   {
    "duration": 272,
    "start_time": "2023-02-01T14:42:45.882Z"
   },
   {
    "duration": 206,
    "start_time": "2023-02-01T14:42:59.414Z"
   },
   {
    "duration": 297,
    "start_time": "2023-02-01T14:43:37.696Z"
   },
   {
    "duration": 220,
    "start_time": "2023-02-01T14:43:46.089Z"
   },
   {
    "duration": 3,
    "start_time": "2023-02-01T14:44:36.397Z"
   },
   {
    "duration": 33,
    "start_time": "2023-02-01T14:47:08.716Z"
   },
   {
    "duration": 38,
    "start_time": "2023-02-01T14:49:04.093Z"
   },
   {
    "duration": 7,
    "start_time": "2023-02-01T14:51:50.295Z"
   },
   {
    "duration": 4,
    "start_time": "2023-02-01T14:51:58.068Z"
   },
   {
    "duration": 11,
    "start_time": "2023-02-01T14:52:18.595Z"
   },
   {
    "duration": 4,
    "start_time": "2023-02-01T14:52:24.428Z"
   },
   {
    "duration": 9,
    "start_time": "2023-02-01T14:55:43.910Z"
   },
   {
    "duration": 392,
    "start_time": "2023-02-01T14:56:56.222Z"
   },
   {
    "duration": 167,
    "start_time": "2023-02-01T14:56:56.616Z"
   },
   {
    "duration": 16,
    "start_time": "2023-02-01T14:56:56.784Z"
   },
   {
    "duration": 42,
    "start_time": "2023-02-01T14:56:56.802Z"
   },
   {
    "duration": 394,
    "start_time": "2023-02-01T14:56:56.845Z"
   },
   {
    "duration": 135,
    "start_time": "2023-02-01T14:56:57.241Z"
   },
   {
    "duration": 9,
    "start_time": "2023-02-01T14:56:57.378Z"
   },
   {
    "duration": 21,
    "start_time": "2023-02-01T14:56:57.389Z"
   },
   {
    "duration": 169,
    "start_time": "2023-02-01T14:56:57.412Z"
   },
   {
    "duration": 102,
    "start_time": "2023-02-01T14:56:57.585Z"
   },
   {
    "duration": 9,
    "start_time": "2023-02-01T14:56:57.689Z"
   },
   {
    "duration": 21,
    "start_time": "2023-02-01T14:56:57.699Z"
   },
   {
    "duration": 28,
    "start_time": "2023-02-01T14:56:57.722Z"
   },
   {
    "duration": 8,
    "start_time": "2023-02-01T14:56:57.752Z"
   },
   {
    "duration": 12,
    "start_time": "2023-02-01T14:56:57.761Z"
   },
   {
    "duration": 35,
    "start_time": "2023-02-01T14:56:57.775Z"
   },
   {
    "duration": 10,
    "start_time": "2023-02-01T14:56:57.812Z"
   },
   {
    "duration": 13,
    "start_time": "2023-02-01T14:56:57.823Z"
   },
   {
    "duration": 77,
    "start_time": "2023-02-01T14:56:57.838Z"
   },
   {
    "duration": 6,
    "start_time": "2023-02-01T14:56:57.917Z"
   },
   {
    "duration": 3,
    "start_time": "2023-02-01T14:56:57.925Z"
   },
   {
    "duration": 27,
    "start_time": "2023-02-01T14:56:57.930Z"
   },
   {
    "duration": 29,
    "start_time": "2023-02-01T14:56:57.958Z"
   },
   {
    "duration": 19,
    "start_time": "2023-02-01T14:56:57.989Z"
   },
   {
    "duration": 28,
    "start_time": "2023-02-01T14:56:58.010Z"
   },
   {
    "duration": 9,
    "start_time": "2023-02-01T14:56:58.040Z"
   },
   {
    "duration": 56,
    "start_time": "2023-02-01T14:56:58.050Z"
   },
   {
    "duration": 8,
    "start_time": "2023-02-01T14:56:58.110Z"
   },
   {
    "duration": 32,
    "start_time": "2023-02-01T14:56:58.120Z"
   },
   {
    "duration": 21,
    "start_time": "2023-02-01T14:56:58.154Z"
   },
   {
    "duration": 29,
    "start_time": "2023-02-01T14:56:58.176Z"
   },
   {
    "duration": 9,
    "start_time": "2023-02-01T14:56:58.207Z"
   },
   {
    "duration": 27,
    "start_time": "2023-02-01T14:56:58.218Z"
   },
   {
    "duration": 49,
    "start_time": "2023-02-01T14:56:58.246Z"
   },
   {
    "duration": 8,
    "start_time": "2023-02-01T14:56:58.296Z"
   },
   {
    "duration": 11,
    "start_time": "2023-02-01T14:56:58.305Z"
   },
   {
    "duration": 28,
    "start_time": "2023-02-01T14:56:58.317Z"
   },
   {
    "duration": 28,
    "start_time": "2023-02-01T14:56:58.347Z"
   },
   {
    "duration": 9,
    "start_time": "2023-02-01T14:56:58.377Z"
   },
   {
    "duration": 6,
    "start_time": "2023-02-01T14:56:58.387Z"
   },
   {
    "duration": 14,
    "start_time": "2023-02-01T14:56:58.394Z"
   },
   {
    "duration": 10,
    "start_time": "2023-02-01T14:56:58.409Z"
   },
   {
    "duration": 72,
    "start_time": "2023-02-01T14:56:58.420Z"
   },
   {
    "duration": 863,
    "start_time": "2023-02-01T14:56:58.494Z"
   },
   {
    "duration": 263,
    "start_time": "2023-02-01T14:56:59.359Z"
   },
   {
    "duration": 325,
    "start_time": "2023-02-01T14:56:59.624Z"
   },
   {
    "duration": 301,
    "start_time": "2023-02-01T14:56:59.951Z"
   },
   {
    "duration": 270,
    "start_time": "2023-02-01T14:57:00.253Z"
   },
   {
    "duration": 241,
    "start_time": "2023-02-01T14:57:00.525Z"
   },
   {
    "duration": 335,
    "start_time": "2023-02-01T14:57:00.768Z"
   },
   {
    "duration": 240,
    "start_time": "2023-02-01T14:57:01.104Z"
   },
   {
    "duration": 3,
    "start_time": "2023-02-01T14:57:01.346Z"
   },
   {
    "duration": 45,
    "start_time": "2023-02-01T14:57:01.350Z"
   },
   {
    "duration": 18,
    "start_time": "2023-02-01T14:57:01.397Z"
   },
   {
    "duration": 6,
    "start_time": "2023-02-01T14:57:05.390Z"
   },
   {
    "duration": 5,
    "start_time": "2023-02-01T14:57:41.569Z"
   },
   {
    "duration": 9,
    "start_time": "2023-02-01T17:05:41.797Z"
   },
   {
    "duration": 99,
    "start_time": "2023-02-01T17:07:33.896Z"
   },
   {
    "duration": 373,
    "start_time": "2023-02-01T17:08:43.934Z"
   },
   {
    "duration": 163,
    "start_time": "2023-02-01T17:08:44.309Z"
   },
   {
    "duration": 16,
    "start_time": "2023-02-01T17:08:44.473Z"
   },
   {
    "duration": 41,
    "start_time": "2023-02-01T17:08:44.492Z"
   },
   {
    "duration": 393,
    "start_time": "2023-02-01T17:08:44.535Z"
   },
   {
    "duration": 135,
    "start_time": "2023-02-01T17:08:44.929Z"
   },
   {
    "duration": 9,
    "start_time": "2023-02-01T17:08:45.066Z"
   },
   {
    "duration": 43,
    "start_time": "2023-02-01T17:08:45.081Z"
   },
   {
    "duration": 158,
    "start_time": "2023-02-01T17:08:45.125Z"
   },
   {
    "duration": 93,
    "start_time": "2023-02-01T17:08:45.286Z"
   },
   {
    "duration": 7,
    "start_time": "2023-02-01T17:08:45.381Z"
   },
   {
    "duration": 41,
    "start_time": "2023-02-01T17:08:45.389Z"
   },
   {
    "duration": 43,
    "start_time": "2023-02-01T17:08:45.432Z"
   },
   {
    "duration": 7,
    "start_time": "2023-02-01T17:08:45.477Z"
   },
   {
    "duration": 35,
    "start_time": "2023-02-01T17:08:45.486Z"
   },
   {
    "duration": 59,
    "start_time": "2023-02-01T17:08:45.523Z"
   },
   {
    "duration": 10,
    "start_time": "2023-02-01T17:08:45.584Z"
   },
   {
    "duration": 14,
    "start_time": "2023-02-01T17:08:45.596Z"
   },
   {
    "duration": 80,
    "start_time": "2023-02-01T17:08:45.611Z"
   },
   {
    "duration": 6,
    "start_time": "2023-02-01T17:08:45.693Z"
   },
   {
    "duration": 4,
    "start_time": "2023-02-01T17:08:45.700Z"
   },
   {
    "duration": 50,
    "start_time": "2023-02-01T17:08:45.705Z"
   },
   {
    "duration": 15,
    "start_time": "2023-02-01T17:08:45.756Z"
   },
   {
    "duration": 26,
    "start_time": "2023-02-01T17:08:45.773Z"
   },
   {
    "duration": 29,
    "start_time": "2023-02-01T17:08:45.800Z"
   },
   {
    "duration": 8,
    "start_time": "2023-02-01T17:08:45.831Z"
   },
   {
    "duration": 51,
    "start_time": "2023-02-01T17:08:45.840Z"
   },
   {
    "duration": 7,
    "start_time": "2023-02-01T17:08:45.895Z"
   },
   {
    "duration": 47,
    "start_time": "2023-02-01T17:08:45.904Z"
   },
   {
    "duration": 16,
    "start_time": "2023-02-01T17:08:45.953Z"
   },
   {
    "duration": 53,
    "start_time": "2023-02-01T17:08:45.970Z"
   },
   {
    "duration": 34,
    "start_time": "2023-02-01T17:08:46.025Z"
   },
   {
    "duration": 43,
    "start_time": "2023-02-01T17:08:46.061Z"
   },
   {
    "duration": 76,
    "start_time": "2023-02-01T17:08:46.107Z"
   },
   {
    "duration": 31,
    "start_time": "2023-02-01T17:08:46.185Z"
   },
   {
    "duration": 44,
    "start_time": "2023-02-01T17:08:46.218Z"
   },
   {
    "duration": 41,
    "start_time": "2023-02-01T17:08:46.264Z"
   },
   {
    "duration": 33,
    "start_time": "2023-02-01T17:08:46.307Z"
   },
   {
    "duration": 40,
    "start_time": "2023-02-01T17:08:46.341Z"
   },
   {
    "duration": 39,
    "start_time": "2023-02-01T17:08:46.383Z"
   },
   {
    "duration": 47,
    "start_time": "2023-02-01T17:08:46.424Z"
   },
   {
    "duration": 45,
    "start_time": "2023-02-01T17:08:46.473Z"
   },
   {
    "duration": 77,
    "start_time": "2023-02-01T17:08:46.519Z"
   },
   {
    "duration": 843,
    "start_time": "2023-02-01T17:08:46.598Z"
   },
   {
    "duration": 260,
    "start_time": "2023-02-01T17:08:47.443Z"
   },
   {
    "duration": 304,
    "start_time": "2023-02-01T17:08:47.705Z"
   },
   {
    "duration": 298,
    "start_time": "2023-02-01T17:08:48.010Z"
   },
   {
    "duration": 276,
    "start_time": "2023-02-01T17:08:48.309Z"
   },
   {
    "duration": 223,
    "start_time": "2023-02-01T17:08:48.586Z"
   },
   {
    "duration": 306,
    "start_time": "2023-02-01T17:08:48.810Z"
   },
   {
    "duration": 228,
    "start_time": "2023-02-01T17:08:49.117Z"
   },
   {
    "duration": 3,
    "start_time": "2023-02-01T17:08:49.347Z"
   },
   {
    "duration": 54,
    "start_time": "2023-02-01T17:08:49.351Z"
   },
   {
    "duration": 13,
    "start_time": "2023-02-01T17:08:49.407Z"
   },
   {
    "duration": 34,
    "start_time": "2023-02-01T17:08:49.421Z"
   },
   {
    "duration": 9,
    "start_time": "2023-02-01T17:09:11.547Z"
   },
   {
    "duration": 5,
    "start_time": "2023-02-01T17:09:14.619Z"
   }
  ],
  "colab": {
   "provenance": []
  },
  "kernelspec": {
   "display_name": "Python 3 (ipykernel)",
   "language": "python",
   "name": "python3"
  },
  "language_info": {
   "codemirror_mode": {
    "name": "ipython",
    "version": 3
   },
   "file_extension": ".py",
   "mimetype": "text/x-python",
   "name": "python",
   "nbconvert_exporter": "python",
   "pygments_lexer": "ipython3",
   "version": "3.9.13"
  },
  "toc": {
   "base_numbering": 1,
   "nav_menu": {},
   "number_sections": true,
   "sideBar": true,
   "skip_h1_title": true,
   "title_cell": "Table of Contents",
   "title_sidebar": "Contents",
   "toc_cell": false,
   "toc_position": {},
   "toc_section_display": true,
   "toc_window_display": false
  }
 },
 "nbformat": 4,
 "nbformat_minor": 1
}
