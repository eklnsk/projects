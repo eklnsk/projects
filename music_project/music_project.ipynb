{
 "cells": [
  {
   "cell_type": "markdown",
   "metadata": {},
   "source": [
    "# Исследование предпочтений пользователей музыкального сервиса"
   ]
  },
  {
   "cell_type": "markdown",
   "metadata": {
    "id": "Ml1hmfXC_Zcs"
   },
   "source": [
    "## 1 Обзор данных"
   ]
  },
  {
   "cell_type": "code",
   "execution_count": 1,
   "metadata": {
    "deletable": false,
    "id": "AXN7PHPN_Zcs"
   },
   "outputs": [],
   "source": [
    "# импорт библиотеки и открытие файла\n",
    "import pandas as pd\n",
    "\n",
    "df = pd.read_csv('E:\\My documents\\Studying\\Data_Analyst\\Projects\\pr_1_music_project\\data.csv') "
   ]
  },
  {
   "cell_type": "code",
   "execution_count": 2,
   "metadata": {
    "deletable": false,
    "id": "oWTVX3gW_Zct"
   },
   "outputs": [
    {
     "data": {
      "text/html": [
       "<div>\n",
       "<style scoped>\n",
       "    .dataframe tbody tr th:only-of-type {\n",
       "        vertical-align: middle;\n",
       "    }\n",
       "\n",
       "    .dataframe tbody tr th {\n",
       "        vertical-align: top;\n",
       "    }\n",
       "\n",
       "    .dataframe thead th {\n",
       "        text-align: right;\n",
       "    }\n",
       "</style>\n",
       "<table border=\"1\" class=\"dataframe\">\n",
       "  <thead>\n",
       "    <tr style=\"text-align: right;\">\n",
       "      <th></th>\n",
       "      <th>userID</th>\n",
       "      <th>Track</th>\n",
       "      <th>artist</th>\n",
       "      <th>genre</th>\n",
       "      <th>City</th>\n",
       "      <th>time</th>\n",
       "      <th>Day</th>\n",
       "    </tr>\n",
       "  </thead>\n",
       "  <tbody>\n",
       "    <tr>\n",
       "      <th>0</th>\n",
       "      <td>FFB692EC</td>\n",
       "      <td>Kamigata To Boots</td>\n",
       "      <td>The Mass Missile</td>\n",
       "      <td>rock</td>\n",
       "      <td>Saint-Petersburg</td>\n",
       "      <td>20:28:33</td>\n",
       "      <td>Wednesday</td>\n",
       "    </tr>\n",
       "    <tr>\n",
       "      <th>1</th>\n",
       "      <td>55204538</td>\n",
       "      <td>Delayed Because of Accident</td>\n",
       "      <td>Andreas Rönnberg</td>\n",
       "      <td>rock</td>\n",
       "      <td>Moscow</td>\n",
       "      <td>14:07:09</td>\n",
       "      <td>Friday</td>\n",
       "    </tr>\n",
       "    <tr>\n",
       "      <th>2</th>\n",
       "      <td>20EC38</td>\n",
       "      <td>Funiculì funiculà</td>\n",
       "      <td>Mario Lanza</td>\n",
       "      <td>pop</td>\n",
       "      <td>Saint-Petersburg</td>\n",
       "      <td>20:58:07</td>\n",
       "      <td>Wednesday</td>\n",
       "    </tr>\n",
       "    <tr>\n",
       "      <th>3</th>\n",
       "      <td>A3DD03C9</td>\n",
       "      <td>Dragons in the Sunset</td>\n",
       "      <td>Fire + Ice</td>\n",
       "      <td>folk</td>\n",
       "      <td>Saint-Petersburg</td>\n",
       "      <td>08:37:09</td>\n",
       "      <td>Monday</td>\n",
       "    </tr>\n",
       "    <tr>\n",
       "      <th>4</th>\n",
       "      <td>E2DC1FAE</td>\n",
       "      <td>Soul People</td>\n",
       "      <td>Space Echo</td>\n",
       "      <td>dance</td>\n",
       "      <td>Moscow</td>\n",
       "      <td>08:34:34</td>\n",
       "      <td>Monday</td>\n",
       "    </tr>\n",
       "    <tr>\n",
       "      <th>5</th>\n",
       "      <td>842029A1</td>\n",
       "      <td>Преданная</td>\n",
       "      <td>IMPERVTOR</td>\n",
       "      <td>rusrap</td>\n",
       "      <td>Saint-Petersburg</td>\n",
       "      <td>13:09:41</td>\n",
       "      <td>Friday</td>\n",
       "    </tr>\n",
       "    <tr>\n",
       "      <th>6</th>\n",
       "      <td>4CB90AA5</td>\n",
       "      <td>True</td>\n",
       "      <td>Roman Messer</td>\n",
       "      <td>dance</td>\n",
       "      <td>Moscow</td>\n",
       "      <td>13:00:07</td>\n",
       "      <td>Wednesday</td>\n",
       "    </tr>\n",
       "    <tr>\n",
       "      <th>7</th>\n",
       "      <td>F03E1C1F</td>\n",
       "      <td>Feeling This Way</td>\n",
       "      <td>Polina Griffith</td>\n",
       "      <td>dance</td>\n",
       "      <td>Moscow</td>\n",
       "      <td>20:47:49</td>\n",
       "      <td>Wednesday</td>\n",
       "    </tr>\n",
       "    <tr>\n",
       "      <th>8</th>\n",
       "      <td>8FA1D3BE</td>\n",
       "      <td>И вновь продолжается бой</td>\n",
       "      <td>NaN</td>\n",
       "      <td>ruspop</td>\n",
       "      <td>Moscow</td>\n",
       "      <td>09:17:40</td>\n",
       "      <td>Friday</td>\n",
       "    </tr>\n",
       "    <tr>\n",
       "      <th>9</th>\n",
       "      <td>E772D5C0</td>\n",
       "      <td>Pessimist</td>\n",
       "      <td>NaN</td>\n",
       "      <td>dance</td>\n",
       "      <td>Saint-Petersburg</td>\n",
       "      <td>21:20:49</td>\n",
       "      <td>Wednesday</td>\n",
       "    </tr>\n",
       "  </tbody>\n",
       "</table>\n",
       "</div>"
      ],
      "text/plain": [
       "     userID                        Track            artist   genre  \\\n",
       "0  FFB692EC            Kamigata To Boots  The Mass Missile    rock   \n",
       "1  55204538  Delayed Because of Accident  Andreas Rönnberg    rock   \n",
       "2    20EC38            Funiculì funiculà       Mario Lanza     pop   \n",
       "3  A3DD03C9        Dragons in the Sunset        Fire + Ice    folk   \n",
       "4  E2DC1FAE                  Soul People        Space Echo   dance   \n",
       "5  842029A1                    Преданная         IMPERVTOR  rusrap   \n",
       "6  4CB90AA5                         True      Roman Messer   dance   \n",
       "7  F03E1C1F             Feeling This Way   Polina Griffith   dance   \n",
       "8  8FA1D3BE     И вновь продолжается бой               NaN  ruspop   \n",
       "9  E772D5C0                    Pessimist               NaN   dance   \n",
       "\n",
       "             City        time        Day  \n",
       "0  Saint-Petersburg  20:28:33  Wednesday  \n",
       "1            Moscow  14:07:09     Friday  \n",
       "2  Saint-Petersburg  20:58:07  Wednesday  \n",
       "3  Saint-Petersburg  08:37:09     Monday  \n",
       "4            Moscow  08:34:34     Monday  \n",
       "5  Saint-Petersburg  13:09:41     Friday  \n",
       "6            Moscow  13:00:07  Wednesday  \n",
       "7            Moscow  20:47:49  Wednesday  \n",
       "8            Moscow  09:17:40     Friday  \n",
       "9  Saint-Petersburg  21:20:49  Wednesday  "
      ]
     },
     "execution_count": 2,
     "metadata": {},
     "output_type": "execute_result"
    }
   ],
   "source": [
    "# вывод первых 10 строк датафрейма\n",
    "df.head(10) "
   ]
  },
  {
   "cell_type": "code",
   "execution_count": 3,
   "metadata": {
    "deletable": false,
    "id": "DSf2kIb-_Zct"
   },
   "outputs": [
    {
     "name": "stdout",
     "output_type": "stream",
     "text": [
      "<class 'pandas.core.frame.DataFrame'>\n",
      "RangeIndex: 65079 entries, 0 to 65078\n",
      "Data columns (total 7 columns):\n",
      " #   Column    Non-Null Count  Dtype \n",
      "---  ------    --------------  ----- \n",
      " 0     userID  65079 non-null  object\n",
      " 1   Track     63848 non-null  object\n",
      " 2   artist    57876 non-null  object\n",
      " 3   genre     63881 non-null  object\n",
      " 4     City    65079 non-null  object\n",
      " 5   time      65079 non-null  object\n",
      " 6   Day       65079 non-null  object\n",
      "dtypes: object(7)\n",
      "memory usage: 3.5+ MB\n"
     ]
    }
   ],
   "source": [
    "# вывод основной информации о датафрейме\n",
    "df.info() "
   ]
  },
  {
   "cell_type": "markdown",
   "metadata": {
    "id": "SjYF6Ub9_Zct"
   },
   "source": [
    "## 2 Предобработка данных"
   ]
  },
  {
   "cell_type": "markdown",
   "metadata": {},
   "source": [
    "### Переименование столбцов"
   ]
  },
  {
   "cell_type": "code",
   "execution_count": 4,
   "metadata": {
    "deletable": false,
    "id": "oKOTdF_Q_Zct"
   },
   "outputs": [
    {
     "data": {
      "text/plain": [
       "Index(['  userID', 'Track', 'artist', 'genre', '  City  ', 'time', 'Day'], dtype='object')"
      ]
     },
     "execution_count": 4,
     "metadata": {},
     "output_type": "execute_result"
    }
   ],
   "source": [
    "# вывод перечня названий столбцов\n",
    "df.columns "
   ]
  },
  {
   "cell_type": "code",
   "execution_count": 5,
   "metadata": {
    "deletable": false,
    "id": "ISlFqs5y_Zct"
   },
   "outputs": [],
   "source": [
    "# переименование столбцов\n",
    "df = df.rename(columns={'  userID': 'user_id', 'Track': 'track', '  City  ': 'city', 'Day': 'day'}) "
   ]
  },
  {
   "cell_type": "code",
   "execution_count": 6,
   "metadata": {
    "deletable": false,
    "id": "d4NOAmTW_Zct",
    "scrolled": false
   },
   "outputs": [
    {
     "data": {
      "text/plain": [
       "Index(['user_id', 'track', 'artist', 'genre', 'city', 'time', 'day'], dtype='object')"
      ]
     },
     "execution_count": 6,
     "metadata": {},
     "output_type": "execute_result"
    }
   ],
   "source": [
    "# проверка результатов\n",
    "df.columns "
   ]
  },
  {
   "cell_type": "markdown",
   "metadata": {},
   "source": [
    "### Удаление пропусков"
   ]
  },
  {
   "cell_type": "code",
   "execution_count": 7,
   "metadata": {
    "deletable": false,
    "id": "RskX29qr_Zct"
   },
   "outputs": [
    {
     "data": {
      "text/plain": [
       "user_id       0\n",
       "track      1231\n",
       "artist     7203\n",
       "genre      1198\n",
       "city          0\n",
       "time          0\n",
       "day           0\n",
       "dtype: int64"
      ]
     },
     "execution_count": 7,
     "metadata": {},
     "output_type": "execute_result"
    }
   ],
   "source": [
    "# подсчет количества пропусков в каждом из столбцов\n",
    "df.isna().sum() "
   ]
  },
  {
   "cell_type": "code",
   "execution_count": 8,
   "metadata": {
    "deletable": false,
    "id": "KplB5qWs_Zct"
   },
   "outputs": [],
   "source": [
    "# перебор названий столбцов в цикле и замена пропущенных значений на 'unknown'\n",
    "columns_to_replace = ['track', 'artist', 'genre']\n",
    "for col in columns_to_replace:\n",
    "    df[col] = df[col].fillna('unknown')"
   ]
  },
  {
   "cell_type": "code",
   "execution_count": 9,
   "metadata": {
    "deletable": false,
    "id": "Tq4nYRX4_Zct"
   },
   "outputs": [
    {
     "data": {
      "text/plain": [
       "user_id    0\n",
       "track      0\n",
       "artist     0\n",
       "genre      0\n",
       "city       0\n",
       "time       0\n",
       "day        0\n",
       "dtype: int64"
      ]
     },
     "execution_count": 9,
     "metadata": {},
     "output_type": "execute_result"
    }
   ],
   "source": [
    "# проверка устранения пропусков\n",
    "df.isna().sum()"
   ]
  },
  {
   "cell_type": "markdown",
   "metadata": {
    "id": "BWKRtBJ3_Zct",
    "tags": [
     "start_task"
    ]
   },
   "source": [
    "### Обработка дубликатов"
   ]
  },
  {
   "cell_type": "code",
   "execution_count": 10,
   "metadata": {
    "deletable": false,
    "id": "36eES_S0_Zct"
   },
   "outputs": [
    {
     "data": {
      "text/plain": [
       "3826"
      ]
     },
     "execution_count": 10,
     "metadata": {},
     "output_type": "execute_result"
    }
   ],
   "source": [
    "# вывод количества строк-дубликатов\n",
    "df.duplicated().sum() "
   ]
  },
  {
   "cell_type": "code",
   "execution_count": 11,
   "metadata": {
    "deletable": false,
    "id": "exFHq6tt_Zct"
   },
   "outputs": [],
   "source": [
    "# удаление явных дубликатов\n",
    "df = df.drop_duplicates() "
   ]
  },
  {
   "cell_type": "code",
   "execution_count": 12,
   "metadata": {
    "deletable": false,
    "id": "-8PuNWQ0_Zct"
   },
   "outputs": [
    {
     "data": {
      "text/plain": [
       "0"
      ]
     },
     "execution_count": 12,
     "metadata": {},
     "output_type": "execute_result"
    }
   ],
   "source": [
    "# проверка на отсутствие дубликатов\n",
    "df.duplicated().sum() "
   ]
  },
  {
   "cell_type": "code",
   "execution_count": 13,
   "metadata": {
    "deletable": false,
    "id": "JIUcqzZN_Zct"
   },
   "outputs": [
    {
     "data": {
      "text/plain": [
       "array(['acid', 'acoustic', 'action', 'adult', 'africa', 'afrikaans',\n",
       "       'alternative', 'alternativepunk', 'ambient', 'americana',\n",
       "       'animated', 'anime', 'arabesk', 'arabic', 'arena',\n",
       "       'argentinetango', 'art', 'audiobook', 'author', 'avantgarde',\n",
       "       'axé', 'baile', 'balkan', 'beats', 'bigroom', 'black', 'bluegrass',\n",
       "       'blues', 'bollywood', 'bossa', 'brazilian', 'breakbeat', 'breaks',\n",
       "       'broadway', 'cantautori', 'cantopop', 'canzone', 'caribbean',\n",
       "       'caucasian', 'celtic', 'chamber', 'chanson', 'children', 'chill',\n",
       "       'chinese', 'choral', 'christian', 'christmas', 'classical',\n",
       "       'classicmetal', 'club', 'colombian', 'comedy', 'conjazz',\n",
       "       'contemporary', 'country', 'cuban', 'dance', 'dancehall',\n",
       "       'dancepop', 'dark', 'death', 'deep', 'deutschrock', 'deutschspr',\n",
       "       'dirty', 'disco', 'dnb', 'documentary', 'downbeat', 'downtempo',\n",
       "       'drum', 'dub', 'dubstep', 'eastern', 'easy', 'electronic',\n",
       "       'electropop', 'emo', 'entehno', 'epicmetal', 'estrada', 'ethnic',\n",
       "       'eurofolk', 'european', 'experimental', 'extrememetal', 'fado',\n",
       "       'fairytail', 'film', 'fitness', 'flamenco', 'folk', 'folklore',\n",
       "       'folkmetal', 'folkrock', 'folktronica', 'forró', 'frankreich',\n",
       "       'französisch', 'french', 'funk', 'future', 'gangsta', 'garage',\n",
       "       'german', 'ghazal', 'gitarre', 'glitch', 'gospel', 'gothic',\n",
       "       'grime', 'grunge', 'gypsy', 'handsup', \"hard'n'heavy\", 'hardcore',\n",
       "       'hardstyle', 'hardtechno', 'hip', 'hip-hop', 'hiphop',\n",
       "       'historisch', 'holiday', 'hop', 'horror', 'house', 'hymn', 'idm',\n",
       "       'independent', 'indian', 'indie', 'indipop', 'industrial',\n",
       "       'inspirational', 'instrumental', 'international', 'irish', 'jam',\n",
       "       'japanese', 'jazz', 'jewish', 'jpop', 'jungle', 'k-pop',\n",
       "       'karadeniz', 'karaoke', 'kayokyoku', 'korean', 'laiko', 'latin',\n",
       "       'latino', 'leftfield', 'local', 'lounge', 'loungeelectronic',\n",
       "       'lovers', 'malaysian', 'mandopop', 'marschmusik', 'meditative',\n",
       "       'mediterranean', 'melodic', 'metal', 'metalcore', 'mexican',\n",
       "       'middle', 'minimal', 'miscellaneous', 'modern', 'mood', 'mpb',\n",
       "       'muslim', 'native', 'neoklassik', 'neue', 'new', 'newage',\n",
       "       'newwave', 'nu', 'nujazz', 'numetal', 'oceania', 'old', 'opera',\n",
       "       'orchestral', 'other', 'piano', 'podcasts', 'pop', 'popdance',\n",
       "       'popelectronic', 'popeurodance', 'poprussian', 'post',\n",
       "       'posthardcore', 'postrock', 'power', 'progmetal', 'progressive',\n",
       "       'psychedelic', 'punjabi', 'punk', 'quebecois', 'ragga', 'ram',\n",
       "       'rancheras', 'rap', 'rave', 'reggae', 'reggaeton', 'regional',\n",
       "       'relax', 'religious', 'retro', 'rhythm', 'rnb', 'rnr', 'rock',\n",
       "       'rockabilly', 'rockalternative', 'rockindie', 'rockother',\n",
       "       'romance', 'roots', 'ruspop', 'rusrap', 'rusrock', 'russian',\n",
       "       'salsa', 'samba', 'scenic', 'schlager', 'self', 'sertanejo',\n",
       "       'shanson', 'shoegazing', 'showtunes', 'singer', 'ska', 'skarock',\n",
       "       'slow', 'smooth', 'soft', 'soul', 'soulful', 'sound', 'soundtrack',\n",
       "       'southern', 'specialty', 'speech', 'spiritual', 'sport',\n",
       "       'stonerrock', 'surf', 'swing', 'synthpop', 'synthrock',\n",
       "       'sängerportrait', 'tango', 'tanzorchester', 'taraftar', 'tatar',\n",
       "       'tech', 'techno', 'teen', 'thrash', 'top', 'traditional',\n",
       "       'tradjazz', 'trance', 'tribal', 'trip', 'triphop', 'tropical',\n",
       "       'türk', 'türkçe', 'ukrrock', 'unknown', 'urban', 'uzbek',\n",
       "       'variété', 'vi', 'videogame', 'vocal', 'western', 'world',\n",
       "       'worldbeat', 'ïîï', 'электроника'], dtype=object)"
      ]
     },
     "execution_count": 13,
     "metadata": {},
     "output_type": "execute_result"
    }
   ],
   "source": [
    "# вывод уникальных названий жанров\n",
    "df['genre'].sort_values().unique() "
   ]
  },
  {
   "cell_type": "code",
   "execution_count": 14,
   "metadata": {
    "deletable": false,
    "id": "ErNDkmns_Zct"
   },
   "outputs": [],
   "source": [
    "# устранение неявных дубликатов\n",
    "duplicates = ['hip', 'hop', 'hip-hop']\n",
    "correct_name = 'hiphop'\n",
    "df['genre'] = df['genre'].replace(duplicates, correct_name)"
   ]
  },
  {
   "cell_type": "code",
   "execution_count": 15,
   "metadata": {
    "deletable": false,
    "id": "wvixALnFG15m"
   },
   "outputs": [
    {
     "data": {
      "text/plain": [
       "array(['acid', 'acoustic', 'action', 'adult', 'africa', 'afrikaans',\n",
       "       'alternative', 'alternativepunk', 'ambient', 'americana',\n",
       "       'animated', 'anime', 'arabesk', 'arabic', 'arena',\n",
       "       'argentinetango', 'art', 'audiobook', 'author', 'avantgarde',\n",
       "       'axé', 'baile', 'balkan', 'beats', 'bigroom', 'black', 'bluegrass',\n",
       "       'blues', 'bollywood', 'bossa', 'brazilian', 'breakbeat', 'breaks',\n",
       "       'broadway', 'cantautori', 'cantopop', 'canzone', 'caribbean',\n",
       "       'caucasian', 'celtic', 'chamber', 'chanson', 'children', 'chill',\n",
       "       'chinese', 'choral', 'christian', 'christmas', 'classical',\n",
       "       'classicmetal', 'club', 'colombian', 'comedy', 'conjazz',\n",
       "       'contemporary', 'country', 'cuban', 'dance', 'dancehall',\n",
       "       'dancepop', 'dark', 'death', 'deep', 'deutschrock', 'deutschspr',\n",
       "       'dirty', 'disco', 'dnb', 'documentary', 'downbeat', 'downtempo',\n",
       "       'drum', 'dub', 'dubstep', 'eastern', 'easy', 'electronic',\n",
       "       'electropop', 'emo', 'entehno', 'epicmetal', 'estrada', 'ethnic',\n",
       "       'eurofolk', 'european', 'experimental', 'extrememetal', 'fado',\n",
       "       'fairytail', 'film', 'fitness', 'flamenco', 'folk', 'folklore',\n",
       "       'folkmetal', 'folkrock', 'folktronica', 'forró', 'frankreich',\n",
       "       'französisch', 'french', 'funk', 'future', 'gangsta', 'garage',\n",
       "       'german', 'ghazal', 'gitarre', 'glitch', 'gospel', 'gothic',\n",
       "       'grime', 'grunge', 'gypsy', 'handsup', \"hard'n'heavy\", 'hardcore',\n",
       "       'hardstyle', 'hardtechno', 'hiphop', 'historisch', 'holiday',\n",
       "       'horror', 'house', 'hymn', 'idm', 'independent', 'indian', 'indie',\n",
       "       'indipop', 'industrial', 'inspirational', 'instrumental',\n",
       "       'international', 'irish', 'jam', 'japanese', 'jazz', 'jewish',\n",
       "       'jpop', 'jungle', 'k-pop', 'karadeniz', 'karaoke', 'kayokyoku',\n",
       "       'korean', 'laiko', 'latin', 'latino', 'leftfield', 'local',\n",
       "       'lounge', 'loungeelectronic', 'lovers', 'malaysian', 'mandopop',\n",
       "       'marschmusik', 'meditative', 'mediterranean', 'melodic', 'metal',\n",
       "       'metalcore', 'mexican', 'middle', 'minimal', 'miscellaneous',\n",
       "       'modern', 'mood', 'mpb', 'muslim', 'native', 'neoklassik', 'neue',\n",
       "       'new', 'newage', 'newwave', 'nu', 'nujazz', 'numetal', 'oceania',\n",
       "       'old', 'opera', 'orchestral', 'other', 'piano', 'podcasts', 'pop',\n",
       "       'popdance', 'popelectronic', 'popeurodance', 'poprussian', 'post',\n",
       "       'posthardcore', 'postrock', 'power', 'progmetal', 'progressive',\n",
       "       'psychedelic', 'punjabi', 'punk', 'quebecois', 'ragga', 'ram',\n",
       "       'rancheras', 'rap', 'rave', 'reggae', 'reggaeton', 'regional',\n",
       "       'relax', 'religious', 'retro', 'rhythm', 'rnb', 'rnr', 'rock',\n",
       "       'rockabilly', 'rockalternative', 'rockindie', 'rockother',\n",
       "       'romance', 'roots', 'ruspop', 'rusrap', 'rusrock', 'russian',\n",
       "       'salsa', 'samba', 'scenic', 'schlager', 'self', 'sertanejo',\n",
       "       'shanson', 'shoegazing', 'showtunes', 'singer', 'ska', 'skarock',\n",
       "       'slow', 'smooth', 'soft', 'soul', 'soulful', 'sound', 'soundtrack',\n",
       "       'southern', 'specialty', 'speech', 'spiritual', 'sport',\n",
       "       'stonerrock', 'surf', 'swing', 'synthpop', 'synthrock',\n",
       "       'sängerportrait', 'tango', 'tanzorchester', 'taraftar', 'tatar',\n",
       "       'tech', 'techno', 'teen', 'thrash', 'top', 'traditional',\n",
       "       'tradjazz', 'trance', 'tribal', 'trip', 'triphop', 'tropical',\n",
       "       'türk', 'türkçe', 'ukrrock', 'unknown', 'urban', 'uzbek',\n",
       "       'variété', 'vi', 'videogame', 'vocal', 'western', 'world',\n",
       "       'worldbeat', 'ïîï', 'электроника'], dtype=object)"
      ]
     },
     "execution_count": 15,
     "metadata": {},
     "output_type": "execute_result"
    }
   ],
   "source": [
    "# проверка на неявные дубликаты\n",
    "df['genre'].sort_values().unique()"
   ]
  },
  {
   "cell_type": "markdown",
   "metadata": {
    "id": "jz6a9-7HQUDd"
   },
   "source": [
    "**Выводы**\n",
    "\n",
    "Предобработка обнаружила три проблемы в данных:\n",
    "\n",
    "- нарушения в стиле заголовков,\n",
    "- пропущенные значения,\n",
    "- дубликаты — явные и неявные.\n",
    "\n",
    "Теперь можно перейти к проверке гипотез. "
   ]
  },
  {
   "cell_type": "markdown",
   "metadata": {
    "id": "WttZHXH0SqKk"
   },
   "source": [
    "## 3 Проверка гипотез"
   ]
  },
  {
   "cell_type": "markdown",
   "metadata": {
    "deletable": false,
    "editable": false,
    "id": "Im936VVi_Zcu"
   },
   "source": [
    "### Сравнение поведения пользователей двух столиц"
   ]
  },
  {
   "cell_type": "markdown",
   "metadata": {
    "id": "nwt_MuaL_Zcu"
   },
   "source": [
    "Первая гипотеза утверждает, что пользователи по-разному слушают музыку в Москве и Санкт-Петербурге. Проверим это предположение по данным о трёх днях недели — понедельнике, среде и пятнице."
   ]
  },
  {
   "cell_type": "code",
   "execution_count": 16,
   "metadata": {
    "deletable": false,
    "id": "0_Qs96oh_Zcu"
   },
   "outputs": [
    {
     "data": {
      "text/plain": [
       "city\n",
       "Moscow              42741\n",
       "Saint-Petersburg    18512\n",
       "Name: track, dtype: int64"
      ]
     },
     "execution_count": 16,
     "metadata": {},
     "output_type": "execute_result"
    }
   ],
   "source": [
    "# подсчёт прослушиваний в каждом городе\n",
    "df.groupby('city')['track'].count() "
   ]
  },
  {
   "cell_type": "markdown",
   "metadata": {
    "id": "dzli3w8o_Zcu",
    "tags": [
     "start_task"
    ]
   },
   "source": [
    "В Москве прослушиваний больше, чем в Петербурге. Из этого не следует, что московские пользователи чаще слушают музыку. Просто самих пользователей в Москве больше."
   ]
  },
  {
   "cell_type": "code",
   "execution_count": 17,
   "metadata": {
    "deletable": false,
    "id": "uZMKjiJz_Zcu"
   },
   "outputs": [
    {
     "data": {
      "text/plain": [
       "day\n",
       "Friday       21840\n",
       "Monday       21354\n",
       "Wednesday    18059\n",
       "Name: track, dtype: int64"
      ]
     },
     "execution_count": 17,
     "metadata": {},
     "output_type": "execute_result"
    }
   ],
   "source": [
    "# подсчёт прослушиваний в каждый из трёх дней\n",
    "df.groupby('day')['track'].count() "
   ]
  },
  {
   "cell_type": "markdown",
   "metadata": {
    "deletable": false,
    "editable": false,
    "id": "cC2tNrlL_Zcu"
   },
   "source": [
    "В среднем пользователи из двух городов менее активны по средам. Но картина может измениться, если рассмотреть каждый город в отдельности."
   ]
  },
  {
   "cell_type": "code",
   "execution_count": 18,
   "metadata": {
    "deletable": false,
    "id": "Nz3GdQB1_Zcu"
   },
   "outputs": [],
   "source": [
    "# создание функции, подсчитывающей количество прослушаний в определенный день\n",
    "def number_tracks(day, city):\n",
    "    track_list = df[df['day'] == day]\n",
    "    track_list = track_list[track_list['city'] == city]\n",
    "    track_list_count = track_list['user_id'].count()\n",
    "    return track_list_count"
   ]
  },
  {
   "cell_type": "code",
   "execution_count": 19,
   "metadata": {
    "deletable": false,
    "id": "rJcRATNQ_Zcu"
   },
   "outputs": [
    {
     "data": {
      "text/plain": [
       "15740"
      ]
     },
     "execution_count": 19,
     "metadata": {},
     "output_type": "execute_result"
    }
   ],
   "source": [
    "# расчет количества прослушиваний в Москве по понедельникам\n",
    "number_tracks('Monday', 'Moscow')"
   ]
  },
  {
   "cell_type": "code",
   "execution_count": 20,
   "metadata": {
    "deletable": false,
    "id": "hq_ncZ5T_Zcu"
   },
   "outputs": [
    {
     "data": {
      "text/plain": [
       "5614"
      ]
     },
     "execution_count": 20,
     "metadata": {},
     "output_type": "execute_result"
    }
   ],
   "source": [
    "# расчет количества прослушиваний в Санкт-Петербурге по понедельникам\n",
    "number_tracks('Monday', 'Saint-Petersburg')"
   ]
  },
  {
   "cell_type": "code",
   "execution_count": 21,
   "metadata": {
    "deletable": false,
    "id": "_NTy2VPU_Zcu"
   },
   "outputs": [
    {
     "data": {
      "text/plain": [
       "11056"
      ]
     },
     "execution_count": 21,
     "metadata": {},
     "output_type": "execute_result"
    }
   ],
   "source": [
    "# расчет количества прослушиваний в Москве по средам\n",
    "number_tracks('Wednesday', 'Moscow')"
   ]
  },
  {
   "cell_type": "code",
   "execution_count": 22,
   "metadata": {
    "deletable": false,
    "id": "j2y3TAwo_Zcu"
   },
   "outputs": [
    {
     "data": {
      "text/plain": [
       "7003"
      ]
     },
     "execution_count": 22,
     "metadata": {},
     "output_type": "execute_result"
    }
   ],
   "source": [
    "# расчет количества прослушиваний в Санкт-Петербурге по средам\n",
    "number_tracks('Wednesday', 'Saint-Petersburg')"
   ]
  },
  {
   "cell_type": "code",
   "execution_count": 23,
   "metadata": {
    "deletable": false,
    "id": "vYDw5u_K_Zcu"
   },
   "outputs": [
    {
     "data": {
      "text/plain": [
       "15945"
      ]
     },
     "execution_count": 23,
     "metadata": {},
     "output_type": "execute_result"
    }
   ],
   "source": [
    "# расчет количества прослушиваний в Москве по пятницам\n",
    "number_tracks('Friday', 'Moscow')"
   ]
  },
  {
   "cell_type": "code",
   "execution_count": 24,
   "metadata": {
    "deletable": false,
    "id": "8_yzFtW3_Zcu"
   },
   "outputs": [
    {
     "data": {
      "text/plain": [
       "5895"
      ]
     },
     "execution_count": 24,
     "metadata": {},
     "output_type": "execute_result"
    }
   ],
   "source": [
    "# расчет количества прослушиваний в Санкт-Петербурге по пятницам\n",
    "number_tracks('Friday', 'Saint-Petersburg')"
   ]
  },
  {
   "cell_type": "code",
   "execution_count": 25,
   "metadata": {
    "deletable": false,
    "id": "APAcLpOr_Zcu"
   },
   "outputs": [],
   "source": [
    "# создание таблицы с результатами\n",
    "column_names = ['city', 'monday', 'wednesday', 'friday']\n",
    "info = pd.DataFrame(data=[['Moscow', 15740, 11056, 15945], ['Saint-Petersburg', 5614, 7003, 5895]], columns=column_names)"
   ]
  },
  {
   "cell_type": "markdown",
   "metadata": {
    "deletable": false,
    "editable": false,
    "id": "-EgPIHYu_Zcu"
   },
   "source": [
    "**Выводы**\n",
    "\n",
    "Данные показывают разницу поведения пользователей:\n",
    "\n",
    "- В Москве пик прослушиваний приходится на понедельник и пятницу, а в среду заметен спад.\n",
    "- В Петербурге, наоборот, больше слушают музыку по средам. Активность в понедельник и пятницу здесь почти в равной мере уступает среде.\n",
    "\n",
    "Значит, данные говорят в пользу первой гипотезы."
   ]
  },
  {
   "cell_type": "markdown",
   "metadata": {
    "deletable": false,
    "editable": false,
    "id": "atZAxtq4_Zcu"
   },
   "source": [
    "### Музыка в начале и в конце недели"
   ]
  },
  {
   "cell_type": "markdown",
   "metadata": {
    "deletable": false,
    "editable": false,
    "id": "eXrQqXFH_Zcu"
   },
   "source": [
    "Согласно второй гипотезе, утром в понедельник в Москве преобладают одни жанры, а в Петербурге — другие. Так же и вечером пятницы преобладают разные жанры — в зависимости от города."
   ]
  },
  {
   "cell_type": "code",
   "execution_count": 26,
   "metadata": {
    "deletable": false,
    "id": "qeaFfM_P_Zcu"
   },
   "outputs": [],
   "source": [
    "# создание таблицы с прослушиваниями в Москве\n",
    "moscow_general = df[df['city'] == 'Moscow']"
   ]
  },
  {
   "cell_type": "code",
   "execution_count": 27,
   "metadata": {
    "deletable": false,
    "id": "ORaVRKto_Zcu"
   },
   "outputs": [],
   "source": [
    "# создание таблицы с прослушиваниями в Санкт-Петербурге\n",
    "spb_general = df[df['city'] == 'Saint-Petersburg']"
   ]
  },
  {
   "cell_type": "code",
   "execution_count": 28,
   "metadata": {
    "deletable": false,
    "id": "laJT9BYl_Zcu"
   },
   "outputs": [],
   "source": [
    "# создание функции, подсчитывающей количество жанров, прослушанное в определенный день и промежуток времени\n",
    "def genre_weekday(df, day, time1, time2):\n",
    "    # последовательная фильтрация\n",
    "    # оставляем в genre_df только те строки df, у которых день равен day\n",
    "    genre_df = df[df['day'] == day]\n",
    "    # оставляем в genre_df только те строки genre_df, у которых время меньше time2\n",
    "    genre_df = genre_df[genre_df['time'] < time2]\n",
    "    # оставляем в genre_df только те строки genre_df, у которых время больше time1\n",
    "    genre_df = genre_df[genre_df['time'] > time1]\n",
    "    # сгруппируем отфильтрованный датафрейм по столбцу с названиями жанров, возьмём столбец genre и посчитаем кол-во строк для каждого жанра методом count()\n",
    "    genre_df_grouped = genre_df.groupby('genre')['genre'].count()\n",
    "    # отсортируем результат по убыванию (чтобы в начале Series оказались самые популярные жанры)\n",
    "    genre_df_sorted = genre_df_grouped.sort_values(ascending=False)\n",
    "    # вернём Series с 10 самыми популярными жанрами в указанный отрезок времени заданного дня\n",
    "    return genre_df_sorted[:10]"
   ]
  },
  {
   "cell_type": "code",
   "execution_count": 29,
   "metadata": {
    "deletable": false,
    "id": "yz7itPUQ_Zcu"
   },
   "outputs": [
    {
     "data": {
      "text/plain": [
       "genre\n",
       "pop            781\n",
       "dance          549\n",
       "electronic     480\n",
       "rock           474\n",
       "hiphop         286\n",
       "ruspop         186\n",
       "world          181\n",
       "rusrap         175\n",
       "alternative    164\n",
       "unknown        161\n",
       "Name: genre, dtype: int64"
      ]
     },
     "execution_count": 29,
     "metadata": {},
     "output_type": "execute_result"
    }
   ],
   "source": [
    "# вызов функции для утра понедельника в Москве\n",
    "genre_weekday(moscow_general, 'Monday', '07:00', '11:00')"
   ]
  },
  {
   "cell_type": "code",
   "execution_count": 30,
   "metadata": {
    "deletable": false,
    "id": "kwUcHPdy_Zcu"
   },
   "outputs": [
    {
     "data": {
      "text/plain": [
       "genre\n",
       "pop            218\n",
       "dance          182\n",
       "rock           162\n",
       "electronic     147\n",
       "hiphop          80\n",
       "ruspop          64\n",
       "alternative     58\n",
       "rusrap          55\n",
       "jazz            44\n",
       "classical       40\n",
       "Name: genre, dtype: int64"
      ]
     },
     "execution_count": 30,
     "metadata": {},
     "output_type": "execute_result"
    }
   ],
   "source": [
    "# вызов функции для утра понедельника в Петербурге\n",
    "genre_weekday(spb_general, 'Monday', '07:00', '11:00')"
   ]
  },
  {
   "cell_type": "code",
   "execution_count": 31,
   "metadata": {
    "deletable": false,
    "id": "EzXVRE1o_Zcu"
   },
   "outputs": [
    {
     "data": {
      "text/plain": [
       "genre\n",
       "pop            713\n",
       "rock           517\n",
       "dance          495\n",
       "electronic     482\n",
       "hiphop         273\n",
       "world          208\n",
       "ruspop         170\n",
       "alternative    163\n",
       "classical      163\n",
       "rusrap         142\n",
       "Name: genre, dtype: int64"
      ]
     },
     "execution_count": 31,
     "metadata": {},
     "output_type": "execute_result"
    }
   ],
   "source": [
    "# вызов функции для вечера пятницы в Москве\n",
    "genre_weekday(moscow_general, 'Friday', '17:00', '23:00')"
   ]
  },
  {
   "cell_type": "code",
   "execution_count": 32,
   "metadata": {
    "deletable": false,
    "id": "JZaEKu5v_Zcu"
   },
   "outputs": [
    {
     "data": {
      "text/plain": [
       "genre\n",
       "pop            256\n",
       "electronic     216\n",
       "rock           216\n",
       "dance          210\n",
       "hiphop          97\n",
       "alternative     63\n",
       "jazz            61\n",
       "classical       60\n",
       "rusrap          59\n",
       "world           54\n",
       "Name: genre, dtype: int64"
      ]
     },
     "execution_count": 32,
     "metadata": {},
     "output_type": "execute_result"
    }
   ],
   "source": [
    "# вызов функции для вечера пятницы в Петербурге\n",
    "genre_weekday(spb_general, 'Friday', '17:00', '23:00')"
   ]
  },
  {
   "cell_type": "markdown",
   "metadata": {
    "id": "wrCe4MNX_Zcu"
   },
   "source": [
    "**Выводы**\n",
    "\n",
    "Если сравнить топ-10 жанров в понедельник утром, можно сделать такие выводы:\n",
    "\n",
    "1. В Москве и Петербурге слушают похожую музыку. Единственное отличие — в московский рейтинг вошёл жанр “world”, а в петербургский — джаз и классика.\n",
    "\n",
    "2. В Москве пропущенных значений оказалось так много, что значение `'unknown'` заняло десятое место среди самых популярных жанров. Значит, пропущенные значения занимают существенную долю в данных и угрожают достоверности исследования.\n",
    "\n",
    "Вечер пятницы не меняет эту картину. Некоторые жанры поднимаются немного выше, другие спускаются, но в целом топ-10 остаётся тем же самым.\n",
    "\n",
    "Таким образом, вторая гипотеза подтвердилась лишь частично:\n",
    "* Пользователи слушают похожую музыку в начале недели и в конце.\n",
    "* Разница между Москвой и Петербургом не слишком выражена. В Москве чаще слушают русскую популярную музыку, в Петербурге — джаз.\n",
    "\n",
    "Однако пропуски в данных ставят под сомнение этот результат. В Москве их так много, что рейтинг топ-10 мог бы выглядеть иначе, если бы не утерянные  данные о жанрах."
   ]
  },
  {
   "cell_type": "markdown",
   "metadata": {
    "deletable": false,
    "editable": false,
    "id": "JolODAqr_Zcu"
   },
   "source": [
    "### Жанровые предпочтения в Москве и Петербурге\n",
    "\n",
    "Гипотеза: Петербург — столица рэпа, музыку этого жанра там слушают чаще, чем в Москве.  А Москва — город контрастов, в котором, тем не менее, преобладает поп-музыка."
   ]
  },
  {
   "cell_type": "code",
   "execution_count": 33,
   "metadata": {
    "deletable": false,
    "id": "r19lIPke_Zcu"
   },
   "outputs": [],
   "source": [
    "# создание таблицы с количеством прослушанных жанров в Москве \n",
    "moscow_genres = moscow_general.groupby('genre')['genre'].count().sort_values(ascending=False)"
   ]
  },
  {
   "cell_type": "code",
   "execution_count": 34,
   "metadata": {
    "deletable": false,
    "id": "WhCSooF8_Zcv"
   },
   "outputs": [
    {
     "data": {
      "text/plain": [
       "genre\n",
       "pop            5892\n",
       "dance          4435\n",
       "rock           3965\n",
       "electronic     3786\n",
       "hiphop         2096\n",
       "classical      1616\n",
       "world          1432\n",
       "alternative    1379\n",
       "ruspop         1372\n",
       "rusrap         1161\n",
       "Name: genre, dtype: int64"
      ]
     },
     "execution_count": 34,
     "metadata": {},
     "output_type": "execute_result"
    }
   ],
   "source": [
    "# вывод первых 10 строк\n",
    "moscow_genres.head(10)"
   ]
  },
  {
   "cell_type": "code",
   "execution_count": 35,
   "metadata": {
    "deletable": false,
    "id": "gluLIpE7_Zcv"
   },
   "outputs": [],
   "source": [
    "# создание таблицы с количеством прослушанных жанров в Санкт-Петербурге \n",
    "spb_genres = spb_general.groupby('genre')['genre'].count().sort_values(ascending=False)"
   ]
  },
  {
   "cell_type": "code",
   "execution_count": 36,
   "metadata": {
    "deletable": false,
    "id": "uaGJHjVU_Zcv"
   },
   "outputs": [
    {
     "data": {
      "text/plain": [
       "genre\n",
       "pop            2431\n",
       "dance          1932\n",
       "rock           1879\n",
       "electronic     1736\n",
       "hiphop          960\n",
       "alternative     649\n",
       "classical       646\n",
       "rusrap          564\n",
       "ruspop          538\n",
       "world           515\n",
       "Name: genre, dtype: int64"
      ]
     },
     "execution_count": 36,
     "metadata": {},
     "output_type": "execute_result"
    }
   ],
   "source": [
    "# вывод первых 10 строк\n",
    "spb_genres.head(10)"
   ]
  },
  {
   "cell_type": "markdown",
   "metadata": {
    "id": "nVhnJEm__Zcv"
   },
   "source": [
    "**Выводы**\n",
    "\n",
    "Гипотеза частично подтвердилась:\n",
    "* Поп-музыка — самый популярный жанр в Москве, как и предполагала гипотеза. Более того, в топ-10 жанров встречается близкий жанр — русская популярная музыка.\n",
    "* Вопреки ожиданиям, рэп одинаково популярен в Москве и Петербурге. \n"
   ]
  },
  {
   "cell_type": "markdown",
   "metadata": {
    "id": "ykKQ0N65_Zcv"
   },
   "source": [
    "### Общий вывод"
   ]
  },
  {
   "cell_type": "markdown",
   "metadata": {
    "id": "tjUwbHb3_Zcv"
   },
   "source": [
    "Были проверены три гипотезы:\n",
    "\n",
    "1. День недели по-разному влияет на активность пользователей в Москве и Петербурге. \n",
    "\n",
    "Первая гипотеза полностью подтвердилась.\n",
    "\n",
    "2. Музыкальные предпочтения не сильно меняются в течение недели — будь то Москва или Петербург. Небольшие различия заметны в начале недели, по понедельникам:\n",
    "* в Москве слушают музыку жанра “world”,\n",
    "* в Петербурге — джаз и классику.\n",
    "\n",
    "Таким образом, вторая гипотеза подтвердилась лишь отчасти. Этот результат мог оказаться иным, если бы не пропуски в данных.\n",
    "\n",
    "3. Во вкусах пользователей Москвы и Петербурга больше общего чем различий. Вопреки ожиданиям, предпочтения жанров в Петербурге напоминают московские.\n",
    "\n",
    "Третья гипотеза не подтвердилась. Если различия в предпочтениях и существуют, на основной массе пользователей они незаметны.\n"
   ]
  }
 ],
 "metadata": {
  "ExecuteTimeLog": [
   {
    "duration": 76,
    "start_time": "2022-12-15T07:58:16.541Z"
   },
   {
    "duration": 424,
    "start_time": "2022-12-15T07:58:26.816Z"
   },
   {
    "duration": 438,
    "start_time": "2022-12-15T08:00:33.320Z"
   },
   {
    "duration": 175,
    "start_time": "2022-12-15T08:00:42.129Z"
   },
   {
    "duration": 17,
    "start_time": "2022-12-15T08:01:58.052Z"
   },
   {
    "duration": 25,
    "start_time": "2022-12-15T08:02:55.141Z"
   },
   {
    "duration": 5,
    "start_time": "2022-12-15T08:08:05.268Z"
   },
   {
    "duration": 9,
    "start_time": "2022-12-15T08:14:54.280Z"
   },
   {
    "duration": 26,
    "start_time": "2022-12-15T08:15:04.718Z"
   },
   {
    "duration": 7,
    "start_time": "2022-12-15T08:15:22.295Z"
   },
   {
    "duration": 420,
    "start_time": "2022-12-15T08:17:13.696Z"
   },
   {
    "duration": 192,
    "start_time": "2022-12-15T08:17:16.841Z"
   },
   {
    "duration": 17,
    "start_time": "2022-12-15T08:17:22.474Z"
   },
   {
    "duration": 28,
    "start_time": "2022-12-15T08:17:28.669Z"
   },
   {
    "duration": 4,
    "start_time": "2022-12-15T08:17:41.601Z"
   },
   {
    "duration": 12,
    "start_time": "2022-12-15T08:17:50.935Z"
   },
   {
    "duration": 5,
    "start_time": "2022-12-15T08:18:10.420Z"
   },
   {
    "duration": 26,
    "start_time": "2022-12-15T08:19:48.374Z"
   },
   {
    "duration": 21,
    "start_time": "2022-12-15T08:32:24.484Z"
   },
   {
    "duration": 23,
    "start_time": "2022-12-15T08:32:56.217Z"
   },
   {
    "duration": 65,
    "start_time": "2022-12-15T08:33:59.325Z"
   },
   {
    "duration": 47,
    "start_time": "2022-12-15T08:35:43.976Z"
   },
   {
    "duration": 364,
    "start_time": "2022-12-15T08:36:57.549Z"
   },
   {
    "duration": 183,
    "start_time": "2022-12-15T08:36:59.911Z"
   },
   {
    "duration": 17,
    "start_time": "2022-12-15T08:37:01.793Z"
   },
   {
    "duration": 33,
    "start_time": "2022-12-15T08:37:04.559Z"
   },
   {
    "duration": 4,
    "start_time": "2022-12-15T08:37:10.537Z"
   },
   {
    "duration": 11,
    "start_time": "2022-12-15T08:37:14.107Z"
   },
   {
    "duration": 4,
    "start_time": "2022-12-15T08:37:16.380Z"
   },
   {
    "duration": 23,
    "start_time": "2022-12-15T08:37:18.585Z"
   },
   {
    "duration": 22,
    "start_time": "2022-12-15T08:37:21.621Z"
   },
   {
    "duration": 23,
    "start_time": "2022-12-15T08:37:24.190Z"
   },
   {
    "duration": 69,
    "start_time": "2022-12-15T08:37:28.750Z"
   },
   {
    "duration": 87,
    "start_time": "2022-12-15T08:39:24.903Z"
   },
   {
    "duration": 47,
    "start_time": "2022-12-15T08:42:35.268Z"
   },
   {
    "duration": 8,
    "start_time": "2022-12-15T08:43:13.283Z"
   },
   {
    "duration": 504,
    "start_time": "2022-12-15T08:43:43.999Z"
   },
   {
    "duration": 180,
    "start_time": "2022-12-15T08:43:44.505Z"
   },
   {
    "duration": 23,
    "start_time": "2022-12-15T08:43:44.687Z"
   },
   {
    "duration": 42,
    "start_time": "2022-12-15T08:43:44.713Z"
   },
   {
    "duration": 9,
    "start_time": "2022-12-15T08:43:44.757Z"
   },
   {
    "duration": 7,
    "start_time": "2022-12-15T08:43:44.768Z"
   },
   {
    "duration": 13,
    "start_time": "2022-12-15T08:43:44.778Z"
   },
   {
    "duration": 5,
    "start_time": "2022-12-15T08:43:44.814Z"
   },
   {
    "duration": 28,
    "start_time": "2022-12-15T08:43:44.821Z"
   },
   {
    "duration": 22,
    "start_time": "2022-12-15T08:43:44.852Z"
   },
   {
    "duration": 48,
    "start_time": "2022-12-15T08:43:44.875Z"
   },
   {
    "duration": 128,
    "start_time": "2022-12-15T08:43:44.925Z"
   },
   {
    "duration": 102,
    "start_time": "2022-12-15T08:43:45.055Z"
   },
   {
    "duration": 3,
    "start_time": "2022-12-15T08:43:45.159Z"
   },
   {
    "duration": 16,
    "start_time": "2022-12-15T08:43:45.164Z"
   },
   {
    "duration": 17,
    "start_time": "2022-12-15T08:43:45.182Z"
   },
   {
    "duration": 12,
    "start_time": "2022-12-15T08:43:45.201Z"
   },
   {
    "duration": 5,
    "start_time": "2022-12-15T08:43:45.215Z"
   },
   {
    "duration": 6,
    "start_time": "2022-12-15T08:43:45.222Z"
   },
   {
    "duration": 7,
    "start_time": "2022-12-15T08:43:45.229Z"
   },
   {
    "duration": 8,
    "start_time": "2022-12-15T08:43:45.238Z"
   },
   {
    "duration": 11,
    "start_time": "2022-12-15T08:43:45.248Z"
   },
   {
    "duration": 8,
    "start_time": "2022-12-15T08:43:45.261Z"
   },
   {
    "duration": 10,
    "start_time": "2022-12-15T08:43:45.270Z"
   },
   {
    "duration": 15,
    "start_time": "2022-12-15T08:43:45.282Z"
   },
   {
    "duration": 9,
    "start_time": "2022-12-15T08:43:45.299Z"
   },
   {
    "duration": 9,
    "start_time": "2022-12-15T08:43:45.311Z"
   },
   {
    "duration": 3,
    "start_time": "2022-12-15T08:43:45.326Z"
   },
   {
    "duration": 5,
    "start_time": "2022-12-15T08:43:45.331Z"
   },
   {
    "duration": 89,
    "start_time": "2022-12-15T08:43:45.338Z"
   },
   {
    "duration": 0,
    "start_time": "2022-12-15T08:43:45.429Z"
   },
   {
    "duration": 0,
    "start_time": "2022-12-15T08:43:45.430Z"
   },
   {
    "duration": 0,
    "start_time": "2022-12-15T08:43:45.432Z"
   },
   {
    "duration": 0,
    "start_time": "2022-12-15T08:43:45.433Z"
   },
   {
    "duration": 0,
    "start_time": "2022-12-15T08:43:45.435Z"
   },
   {
    "duration": 0,
    "start_time": "2022-12-15T08:43:45.436Z"
   },
   {
    "duration": 0,
    "start_time": "2022-12-15T08:43:45.438Z"
   },
   {
    "duration": 0,
    "start_time": "2022-12-15T08:43:45.440Z"
   },
   {
    "duration": 114,
    "start_time": "2022-12-15T08:45:20.231Z"
   },
   {
    "duration": 80,
    "start_time": "2022-12-15T08:46:03.795Z"
   },
   {
    "duration": 474,
    "start_time": "2022-12-15T08:47:00.210Z"
   },
   {
    "duration": 180,
    "start_time": "2022-12-15T08:47:03.029Z"
   },
   {
    "duration": 18,
    "start_time": "2022-12-15T08:47:05.578Z"
   },
   {
    "duration": 28,
    "start_time": "2022-12-15T08:47:08.324Z"
   },
   {
    "duration": 4,
    "start_time": "2022-12-15T08:47:13.326Z"
   },
   {
    "duration": 11,
    "start_time": "2022-12-15T08:47:16.499Z"
   },
   {
    "duration": 4,
    "start_time": "2022-12-15T08:47:18.843Z"
   },
   {
    "duration": 24,
    "start_time": "2022-12-15T08:47:21.210Z"
   },
   {
    "duration": 26,
    "start_time": "2022-12-15T08:47:24.695Z"
   },
   {
    "duration": 25,
    "start_time": "2022-12-15T08:47:26.978Z"
   },
   {
    "duration": 72,
    "start_time": "2022-12-15T08:47:32.098Z"
   },
   {
    "duration": 76,
    "start_time": "2022-12-15T08:47:36.539Z"
   },
   {
    "duration": 60,
    "start_time": "2022-12-15T08:49:59.090Z"
   },
   {
    "duration": 36,
    "start_time": "2022-12-15T08:51:42.366Z"
   },
   {
    "duration": 14,
    "start_time": "2022-12-15T08:54:19.103Z"
   },
   {
    "duration": 932,
    "start_time": "2022-12-15T08:55:37.295Z"
   },
   {
    "duration": 893,
    "start_time": "2022-12-15T09:11:34.202Z"
   },
   {
    "duration": 827,
    "start_time": "2022-12-15T09:12:06.079Z"
   },
   {
    "duration": 432,
    "start_time": "2022-12-15T09:15:36.713Z"
   },
   {
    "duration": 178,
    "start_time": "2022-12-15T09:15:39.262Z"
   },
   {
    "duration": 30,
    "start_time": "2022-12-15T09:15:41.949Z"
   },
   {
    "duration": 30,
    "start_time": "2022-12-15T09:15:44.623Z"
   },
   {
    "duration": 6,
    "start_time": "2022-12-15T09:15:49.063Z"
   },
   {
    "duration": 12,
    "start_time": "2022-12-15T09:15:51.468Z"
   },
   {
    "duration": 6,
    "start_time": "2022-12-15T09:15:53.124Z"
   },
   {
    "duration": 47,
    "start_time": "2022-12-15T09:15:54.920Z"
   },
   {
    "duration": 23,
    "start_time": "2022-12-15T09:15:57.447Z"
   },
   {
    "duration": 22,
    "start_time": "2022-12-15T09:15:58.843Z"
   },
   {
    "duration": 70,
    "start_time": "2022-12-15T09:16:01.613Z"
   },
   {
    "duration": 75,
    "start_time": "2022-12-15T09:16:03.142Z"
   },
   {
    "duration": 69,
    "start_time": "2022-12-15T09:16:05.063Z"
   },
   {
    "duration": 36,
    "start_time": "2022-12-15T09:16:07.497Z"
   },
   {
    "duration": 14,
    "start_time": "2022-12-15T09:16:13.026Z"
   },
   {
    "duration": 35,
    "start_time": "2022-12-15T09:16:58.221Z"
   },
   {
    "duration": 15,
    "start_time": "2022-12-15T09:20:03.095Z"
   },
   {
    "duration": 53,
    "start_time": "2022-12-15T10:02:01.343Z"
   },
   {
    "duration": 414,
    "start_time": "2022-12-15T10:02:17.900Z"
   },
   {
    "duration": 252,
    "start_time": "2022-12-15T10:02:20.606Z"
   },
   {
    "duration": 20,
    "start_time": "2022-12-15T10:02:23.195Z"
   },
   {
    "duration": 32,
    "start_time": "2022-12-15T10:02:25.922Z"
   },
   {
    "duration": 4,
    "start_time": "2022-12-15T10:02:37.283Z"
   },
   {
    "duration": 11,
    "start_time": "2022-12-15T10:02:39.809Z"
   },
   {
    "duration": 4,
    "start_time": "2022-12-15T10:02:41.565Z"
   },
   {
    "duration": 27,
    "start_time": "2022-12-15T10:02:43.560Z"
   },
   {
    "duration": 21,
    "start_time": "2022-12-15T10:02:46.272Z"
   },
   {
    "duration": 26,
    "start_time": "2022-12-15T10:02:48.819Z"
   },
   {
    "duration": 74,
    "start_time": "2022-12-15T10:02:51.160Z"
   },
   {
    "duration": 82,
    "start_time": "2022-12-15T10:02:53.197Z"
   },
   {
    "duration": 67,
    "start_time": "2022-12-15T10:02:55.307Z"
   },
   {
    "duration": 46,
    "start_time": "2022-12-15T10:02:57.353Z"
   },
   {
    "duration": 14,
    "start_time": "2022-12-15T10:03:01.018Z"
   },
   {
    "duration": 42,
    "start_time": "2022-12-15T10:03:08.697Z"
   },
   {
    "duration": 15,
    "start_time": "2022-12-15T10:03:14.147Z"
   },
   {
    "duration": 16,
    "start_time": "2022-12-15T10:03:19.043Z"
   },
   {
    "duration": 3,
    "start_time": "2022-12-15T10:08:55.793Z"
   },
   {
    "duration": 4,
    "start_time": "2022-12-15T10:11:42.908Z"
   },
   {
    "duration": 4,
    "start_time": "2022-12-15T10:15:41.006Z"
   },
   {
    "duration": 471,
    "start_time": "2022-12-15T10:16:26.698Z"
   },
   {
    "duration": 186,
    "start_time": "2022-12-15T10:16:27.171Z"
   },
   {
    "duration": 21,
    "start_time": "2022-12-15T10:16:27.359Z"
   },
   {
    "duration": 57,
    "start_time": "2022-12-15T10:16:27.383Z"
   },
   {
    "duration": 10,
    "start_time": "2022-12-15T10:16:27.442Z"
   },
   {
    "duration": 18,
    "start_time": "2022-12-15T10:16:27.456Z"
   },
   {
    "duration": 23,
    "start_time": "2022-12-15T10:16:27.476Z"
   },
   {
    "duration": 28,
    "start_time": "2022-12-15T10:16:27.500Z"
   },
   {
    "duration": 30,
    "start_time": "2022-12-15T10:16:27.531Z"
   },
   {
    "duration": 37,
    "start_time": "2022-12-15T10:16:27.565Z"
   },
   {
    "duration": 60,
    "start_time": "2022-12-15T10:16:27.605Z"
   },
   {
    "duration": 93,
    "start_time": "2022-12-15T10:16:27.667Z"
   },
   {
    "duration": 93,
    "start_time": "2022-12-15T10:16:27.762Z"
   },
   {
    "duration": 70,
    "start_time": "2022-12-15T10:16:27.857Z"
   },
   {
    "duration": 57,
    "start_time": "2022-12-15T10:16:27.929Z"
   },
   {
    "duration": 18,
    "start_time": "2022-12-15T10:16:27.988Z"
   },
   {
    "duration": 73,
    "start_time": "2022-12-15T10:16:28.009Z"
   },
   {
    "duration": 16,
    "start_time": "2022-12-15T10:16:28.083Z"
   },
   {
    "duration": 14,
    "start_time": "2022-12-15T10:16:28.101Z"
   },
   {
    "duration": 5,
    "start_time": "2022-12-15T10:16:31.705Z"
   },
   {
    "duration": 28,
    "start_time": "2022-12-15T10:18:01.947Z"
   },
   {
    "duration": 16,
    "start_time": "2022-12-15T10:18:49.519Z"
   },
   {
    "duration": 23,
    "start_time": "2022-12-15T10:19:19.339Z"
   },
   {
    "duration": 28,
    "start_time": "2022-12-15T10:19:33.605Z"
   },
   {
    "duration": 26,
    "start_time": "2022-12-15T10:19:46.807Z"
   },
   {
    "duration": 17,
    "start_time": "2022-12-15T10:20:00.234Z"
   },
   {
    "duration": 10,
    "start_time": "2022-12-15T10:25:04.518Z"
   },
   {
    "duration": 11,
    "start_time": "2022-12-15T10:27:47.914Z"
   },
   {
    "duration": 10,
    "start_time": "2022-12-15T10:27:48.915Z"
   },
   {
    "duration": 71,
    "start_time": "2022-12-15T10:35:07.807Z"
   },
   {
    "duration": 4,
    "start_time": "2022-12-15T10:35:27.221Z"
   },
   {
    "duration": 379,
    "start_time": "2022-12-15T10:35:49.213Z"
   },
   {
    "duration": 176,
    "start_time": "2022-12-15T10:35:49.594Z"
   },
   {
    "duration": 18,
    "start_time": "2022-12-15T10:35:49.772Z"
   },
   {
    "duration": 29,
    "start_time": "2022-12-15T10:35:49.792Z"
   },
   {
    "duration": 3,
    "start_time": "2022-12-15T10:35:49.823Z"
   },
   {
    "duration": 29,
    "start_time": "2022-12-15T10:35:49.827Z"
   },
   {
    "duration": 11,
    "start_time": "2022-12-15T10:35:49.857Z"
   },
   {
    "duration": 8,
    "start_time": "2022-12-15T10:35:49.870Z"
   },
   {
    "duration": 32,
    "start_time": "2022-12-15T10:35:49.880Z"
   },
   {
    "duration": 47,
    "start_time": "2022-12-15T10:35:49.915Z"
   },
   {
    "duration": 25,
    "start_time": "2022-12-15T10:35:49.964Z"
   },
   {
    "duration": 79,
    "start_time": "2022-12-15T10:35:49.991Z"
   },
   {
    "duration": 83,
    "start_time": "2022-12-15T10:35:50.072Z"
   },
   {
    "duration": 63,
    "start_time": "2022-12-15T10:35:50.157Z"
   },
   {
    "duration": 56,
    "start_time": "2022-12-15T10:35:50.222Z"
   },
   {
    "duration": 11,
    "start_time": "2022-12-15T10:35:50.280Z"
   },
   {
    "duration": 43,
    "start_time": "2022-12-15T10:35:50.293Z"
   },
   {
    "duration": 12,
    "start_time": "2022-12-15T10:35:50.354Z"
   },
   {
    "duration": 13,
    "start_time": "2022-12-15T10:35:50.368Z"
   },
   {
    "duration": 3,
    "start_time": "2022-12-15T10:35:50.383Z"
   },
   {
    "duration": 26,
    "start_time": "2022-12-15T10:35:50.387Z"
   },
   {
    "duration": 39,
    "start_time": "2022-12-15T10:35:50.415Z"
   },
   {
    "duration": 14,
    "start_time": "2022-12-15T10:35:50.456Z"
   },
   {
    "duration": 21,
    "start_time": "2022-12-15T10:35:50.472Z"
   },
   {
    "duration": 18,
    "start_time": "2022-12-15T10:35:50.494Z"
   },
   {
    "duration": 27,
    "start_time": "2022-12-15T10:35:50.513Z"
   },
   {
    "duration": 22,
    "start_time": "2022-12-15T10:35:50.542Z"
   },
   {
    "duration": 20,
    "start_time": "2022-12-15T10:35:50.567Z"
   },
   {
    "duration": 25,
    "start_time": "2022-12-15T10:35:50.588Z"
   },
   {
    "duration": 4,
    "start_time": "2022-12-15T10:35:53.051Z"
   },
   {
    "duration": 453,
    "start_time": "2022-12-15T10:37:18.838Z"
   },
   {
    "duration": 168,
    "start_time": "2022-12-15T10:37:19.293Z"
   },
   {
    "duration": 17,
    "start_time": "2022-12-15T10:37:19.463Z"
   },
   {
    "duration": 31,
    "start_time": "2022-12-15T10:37:19.482Z"
   },
   {
    "duration": 9,
    "start_time": "2022-12-15T10:37:19.515Z"
   },
   {
    "duration": 30,
    "start_time": "2022-12-15T10:37:19.525Z"
   },
   {
    "duration": 13,
    "start_time": "2022-12-15T10:37:19.557Z"
   },
   {
    "duration": 9,
    "start_time": "2022-12-15T10:37:19.571Z"
   },
   {
    "duration": 32,
    "start_time": "2022-12-15T10:37:19.582Z"
   },
   {
    "duration": 41,
    "start_time": "2022-12-15T10:37:19.617Z"
   },
   {
    "duration": 27,
    "start_time": "2022-12-15T10:37:19.660Z"
   },
   {
    "duration": 82,
    "start_time": "2022-12-15T10:37:19.688Z"
   },
   {
    "duration": 82,
    "start_time": "2022-12-15T10:37:19.772Z"
   },
   {
    "duration": 65,
    "start_time": "2022-12-15T10:37:19.857Z"
   },
   {
    "duration": 58,
    "start_time": "2022-12-15T10:37:19.923Z"
   },
   {
    "duration": 11,
    "start_time": "2022-12-15T10:37:19.983Z"
   },
   {
    "duration": 44,
    "start_time": "2022-12-15T10:37:19.995Z"
   },
   {
    "duration": 13,
    "start_time": "2022-12-15T10:37:20.055Z"
   },
   {
    "duration": 22,
    "start_time": "2022-12-15T10:37:20.070Z"
   },
   {
    "duration": 4,
    "start_time": "2022-12-15T10:37:20.094Z"
   },
   {
    "duration": 33,
    "start_time": "2022-12-15T10:37:20.099Z"
   },
   {
    "duration": 26,
    "start_time": "2022-12-15T10:37:20.134Z"
   },
   {
    "duration": 16,
    "start_time": "2022-12-15T10:37:20.162Z"
   },
   {
    "duration": 15,
    "start_time": "2022-12-15T10:37:20.179Z"
   },
   {
    "duration": 19,
    "start_time": "2022-12-15T10:37:20.196Z"
   },
   {
    "duration": 52,
    "start_time": "2022-12-15T10:37:20.217Z"
   },
   {
    "duration": 4,
    "start_time": "2022-12-15T10:37:20.271Z"
   },
   {
    "duration": 15,
    "start_time": "2022-12-15T10:37:20.279Z"
   },
   {
    "duration": 13,
    "start_time": "2022-12-15T10:37:20.295Z"
   },
   {
    "duration": 6,
    "start_time": "2022-12-15T10:37:21.961Z"
   },
   {
    "duration": 19,
    "start_time": "2022-12-15T10:39:07.169Z"
   },
   {
    "duration": 11,
    "start_time": "2022-12-15T10:39:31.461Z"
   },
   {
    "duration": 25,
    "start_time": "2022-12-15T10:40:03.625Z"
   },
   {
    "duration": 21,
    "start_time": "2022-12-15T10:40:26.009Z"
   },
   {
    "duration": 13,
    "start_time": "2022-12-15T10:40:40.897Z"
   },
   {
    "duration": 81,
    "start_time": "2022-12-15T10:43:52.568Z"
   },
   {
    "duration": 9,
    "start_time": "2022-12-15T10:44:03.219Z"
   },
   {
    "duration": 5,
    "start_time": "2022-12-15T10:44:41.407Z"
   },
   {
    "duration": 6,
    "start_time": "2022-12-15T10:45:53.563Z"
   },
   {
    "duration": 6,
    "start_time": "2022-12-15T10:46:35.592Z"
   }
  ],
  "colab": {
   "collapsed_sections": [
    "E0vqbgi9ay0H",
    "VUC88oWjTJw2"
   ],
   "name": "automatization_template_upd4.ipynb",
   "provenance": []
  },
  "kernelspec": {
   "display_name": "Python 3 (ipykernel)",
   "language": "python",
   "name": "python3"
  },
  "language_info": {
   "codemirror_mode": {
    "name": "ipython",
    "version": 3
   },
   "file_extension": ".py",
   "mimetype": "text/x-python",
   "name": "python",
   "nbconvert_exporter": "python",
   "pygments_lexer": "ipython3",
   "version": "3.9.13"
  },
  "toc": {
   "base_numbering": 1,
   "nav_menu": {
    "height": "215px",
    "width": "403px"
   },
   "number_sections": true,
   "sideBar": true,
   "skip_h1_title": true,
   "title_cell": "Table of Contents",
   "title_sidebar": "Contents",
   "toc_cell": false,
   "toc_position": {
    "height": "calc(100% - 180px)",
    "left": "10px",
    "top": "150px",
    "width": "285.825px"
   },
   "toc_section_display": true,
   "toc_window_display": false
  }
 },
 "nbformat": 4,
 "nbformat_minor": 1
}
