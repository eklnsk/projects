{
 "cells": [
  {
   "cell_type": "markdown",
   "id": "37c47447",
   "metadata": {
    "deletable": false,
    "editable": false,
    "id": "c81daeeb"
   },
   "source": [
    "# Исследование надежности заемщиков\n"
   ]
  },
  {
   "cell_type": "markdown",
   "id": "7d574931",
   "metadata": {
    "id": "744d7639"
   },
   "source": [
    "## 1 Обзор данных"
   ]
  },
  {
   "cell_type": "code",
   "execution_count": 1,
   "id": "4827ee86",
   "metadata": {
    "deletable": false,
    "id": "7bcf75c9"
   },
   "outputs": [],
   "source": [
    "# импорт библиотеки и открытие файла\n",
    "import pandas as pd\n",
    "\n",
    "data = pd.read_csv('E:\\My documents\\Learning\\Data_Analyst\\Projects\\pr_2_credit_department/data.csv')"
   ]
  },
  {
   "cell_type": "code",
   "execution_count": 2,
   "id": "3c3ee9eb",
   "metadata": {
    "deletable": false,
    "id": "2a7cab99",
    "outputId": "1a8f3ef2-d323-4ec2-ddf7-89670b5944c4"
   },
   "outputs": [
    {
     "data": {
      "text/html": [
       "<div>\n",
       "<style scoped>\n",
       "    .dataframe tbody tr th:only-of-type {\n",
       "        vertical-align: middle;\n",
       "    }\n",
       "\n",
       "    .dataframe tbody tr th {\n",
       "        vertical-align: top;\n",
       "    }\n",
       "\n",
       "    .dataframe thead th {\n",
       "        text-align: right;\n",
       "    }\n",
       "</style>\n",
       "<table border=\"1\" class=\"dataframe\">\n",
       "  <thead>\n",
       "    <tr style=\"text-align: right;\">\n",
       "      <th></th>\n",
       "      <th>children</th>\n",
       "      <th>days_employed</th>\n",
       "      <th>dob_years</th>\n",
       "      <th>education</th>\n",
       "      <th>education_id</th>\n",
       "      <th>family_status</th>\n",
       "      <th>family_status_id</th>\n",
       "      <th>gender</th>\n",
       "      <th>income_type</th>\n",
       "      <th>debt</th>\n",
       "      <th>total_income</th>\n",
       "      <th>purpose</th>\n",
       "    </tr>\n",
       "  </thead>\n",
       "  <tbody>\n",
       "    <tr>\n",
       "      <th>0</th>\n",
       "      <td>1</td>\n",
       "      <td>-8437.673028</td>\n",
       "      <td>42</td>\n",
       "      <td>высшее</td>\n",
       "      <td>0</td>\n",
       "      <td>женат / замужем</td>\n",
       "      <td>0</td>\n",
       "      <td>F</td>\n",
       "      <td>сотрудник</td>\n",
       "      <td>0</td>\n",
       "      <td>253875.639453</td>\n",
       "      <td>покупка жилья</td>\n",
       "    </tr>\n",
       "    <tr>\n",
       "      <th>1</th>\n",
       "      <td>1</td>\n",
       "      <td>-4024.803754</td>\n",
       "      <td>36</td>\n",
       "      <td>среднее</td>\n",
       "      <td>1</td>\n",
       "      <td>женат / замужем</td>\n",
       "      <td>0</td>\n",
       "      <td>F</td>\n",
       "      <td>сотрудник</td>\n",
       "      <td>0</td>\n",
       "      <td>112080.014102</td>\n",
       "      <td>приобретение автомобиля</td>\n",
       "    </tr>\n",
       "    <tr>\n",
       "      <th>2</th>\n",
       "      <td>0</td>\n",
       "      <td>-5623.422610</td>\n",
       "      <td>33</td>\n",
       "      <td>Среднее</td>\n",
       "      <td>1</td>\n",
       "      <td>женат / замужем</td>\n",
       "      <td>0</td>\n",
       "      <td>M</td>\n",
       "      <td>сотрудник</td>\n",
       "      <td>0</td>\n",
       "      <td>145885.952297</td>\n",
       "      <td>покупка жилья</td>\n",
       "    </tr>\n",
       "    <tr>\n",
       "      <th>3</th>\n",
       "      <td>3</td>\n",
       "      <td>-4124.747207</td>\n",
       "      <td>32</td>\n",
       "      <td>среднее</td>\n",
       "      <td>1</td>\n",
       "      <td>женат / замужем</td>\n",
       "      <td>0</td>\n",
       "      <td>M</td>\n",
       "      <td>сотрудник</td>\n",
       "      <td>0</td>\n",
       "      <td>267628.550329</td>\n",
       "      <td>дополнительное образование</td>\n",
       "    </tr>\n",
       "    <tr>\n",
       "      <th>4</th>\n",
       "      <td>0</td>\n",
       "      <td>340266.072047</td>\n",
       "      <td>53</td>\n",
       "      <td>среднее</td>\n",
       "      <td>1</td>\n",
       "      <td>гражданский брак</td>\n",
       "      <td>1</td>\n",
       "      <td>F</td>\n",
       "      <td>пенсионер</td>\n",
       "      <td>0</td>\n",
       "      <td>158616.077870</td>\n",
       "      <td>сыграть свадьбу</td>\n",
       "    </tr>\n",
       "    <tr>\n",
       "      <th>5</th>\n",
       "      <td>0</td>\n",
       "      <td>-926.185831</td>\n",
       "      <td>27</td>\n",
       "      <td>высшее</td>\n",
       "      <td>0</td>\n",
       "      <td>гражданский брак</td>\n",
       "      <td>1</td>\n",
       "      <td>M</td>\n",
       "      <td>компаньон</td>\n",
       "      <td>0</td>\n",
       "      <td>255763.565419</td>\n",
       "      <td>покупка жилья</td>\n",
       "    </tr>\n",
       "    <tr>\n",
       "      <th>6</th>\n",
       "      <td>0</td>\n",
       "      <td>-2879.202052</td>\n",
       "      <td>43</td>\n",
       "      <td>высшее</td>\n",
       "      <td>0</td>\n",
       "      <td>женат / замужем</td>\n",
       "      <td>0</td>\n",
       "      <td>F</td>\n",
       "      <td>компаньон</td>\n",
       "      <td>0</td>\n",
       "      <td>240525.971920</td>\n",
       "      <td>операции с жильем</td>\n",
       "    </tr>\n",
       "    <tr>\n",
       "      <th>7</th>\n",
       "      <td>0</td>\n",
       "      <td>-152.779569</td>\n",
       "      <td>50</td>\n",
       "      <td>СРЕДНЕЕ</td>\n",
       "      <td>1</td>\n",
       "      <td>женат / замужем</td>\n",
       "      <td>0</td>\n",
       "      <td>M</td>\n",
       "      <td>сотрудник</td>\n",
       "      <td>0</td>\n",
       "      <td>135823.934197</td>\n",
       "      <td>образование</td>\n",
       "    </tr>\n",
       "    <tr>\n",
       "      <th>8</th>\n",
       "      <td>2</td>\n",
       "      <td>-6929.865299</td>\n",
       "      <td>35</td>\n",
       "      <td>ВЫСШЕЕ</td>\n",
       "      <td>0</td>\n",
       "      <td>гражданский брак</td>\n",
       "      <td>1</td>\n",
       "      <td>F</td>\n",
       "      <td>сотрудник</td>\n",
       "      <td>0</td>\n",
       "      <td>95856.832424</td>\n",
       "      <td>на проведение свадьбы</td>\n",
       "    </tr>\n",
       "    <tr>\n",
       "      <th>9</th>\n",
       "      <td>0</td>\n",
       "      <td>-2188.756445</td>\n",
       "      <td>41</td>\n",
       "      <td>среднее</td>\n",
       "      <td>1</td>\n",
       "      <td>женат / замужем</td>\n",
       "      <td>0</td>\n",
       "      <td>M</td>\n",
       "      <td>сотрудник</td>\n",
       "      <td>0</td>\n",
       "      <td>144425.938277</td>\n",
       "      <td>покупка жилья для семьи</td>\n",
       "    </tr>\n",
       "  </tbody>\n",
       "</table>\n",
       "</div>"
      ],
      "text/plain": [
       "   children  days_employed  dob_years education  education_id  \\\n",
       "0         1   -8437.673028         42    высшее             0   \n",
       "1         1   -4024.803754         36   среднее             1   \n",
       "2         0   -5623.422610         33   Среднее             1   \n",
       "3         3   -4124.747207         32   среднее             1   \n",
       "4         0  340266.072047         53   среднее             1   \n",
       "5         0    -926.185831         27    высшее             0   \n",
       "6         0   -2879.202052         43    высшее             0   \n",
       "7         0    -152.779569         50   СРЕДНЕЕ             1   \n",
       "8         2   -6929.865299         35    ВЫСШЕЕ             0   \n",
       "9         0   -2188.756445         41   среднее             1   \n",
       "\n",
       "      family_status  family_status_id gender income_type  debt   total_income  \\\n",
       "0   женат / замужем                 0      F   сотрудник     0  253875.639453   \n",
       "1   женат / замужем                 0      F   сотрудник     0  112080.014102   \n",
       "2   женат / замужем                 0      M   сотрудник     0  145885.952297   \n",
       "3   женат / замужем                 0      M   сотрудник     0  267628.550329   \n",
       "4  гражданский брак                 1      F   пенсионер     0  158616.077870   \n",
       "5  гражданский брак                 1      M   компаньон     0  255763.565419   \n",
       "6   женат / замужем                 0      F   компаньон     0  240525.971920   \n",
       "7   женат / замужем                 0      M   сотрудник     0  135823.934197   \n",
       "8  гражданский брак                 1      F   сотрудник     0   95856.832424   \n",
       "9   женат / замужем                 0      M   сотрудник     0  144425.938277   \n",
       "\n",
       "                      purpose  \n",
       "0               покупка жилья  \n",
       "1     приобретение автомобиля  \n",
       "2               покупка жилья  \n",
       "3  дополнительное образование  \n",
       "4             сыграть свадьбу  \n",
       "5               покупка жилья  \n",
       "6           операции с жильем  \n",
       "7                 образование  \n",
       "8       на проведение свадьбы  \n",
       "9     покупка жилья для семьи  "
      ]
     },
     "execution_count": 2,
     "metadata": {},
     "output_type": "execute_result"
    }
   ],
   "source": [
    "# вывод первых 10 строк датафрейма\n",
    "data.head(10)"
   ]
  },
  {
   "cell_type": "code",
   "execution_count": 3,
   "id": "562958c7",
   "metadata": {
    "deletable": false,
    "id": "2b757bca",
    "outputId": "15376089-8dad-46c9-b520-c05248d43158"
   },
   "outputs": [
    {
     "name": "stdout",
     "output_type": "stream",
     "text": [
      "<class 'pandas.core.frame.DataFrame'>\n",
      "RangeIndex: 21525 entries, 0 to 21524\n",
      "Data columns (total 12 columns):\n",
      " #   Column            Non-Null Count  Dtype  \n",
      "---  ------            --------------  -----  \n",
      " 0   children          21525 non-null  int64  \n",
      " 1   days_employed     19351 non-null  float64\n",
      " 2   dob_years         21525 non-null  int64  \n",
      " 3   education         21525 non-null  object \n",
      " 4   education_id      21525 non-null  int64  \n",
      " 5   family_status     21525 non-null  object \n",
      " 6   family_status_id  21525 non-null  int64  \n",
      " 7   gender            21525 non-null  object \n",
      " 8   income_type       21525 non-null  object \n",
      " 9   debt              21525 non-null  int64  \n",
      " 10  total_income      19351 non-null  float64\n",
      " 11  purpose           21525 non-null  object \n",
      "dtypes: float64(2), int64(5), object(5)\n",
      "memory usage: 2.0+ MB\n"
     ]
    }
   ],
   "source": [
    "# вывод основной информации о датафрейме\n",
    "data.info()"
   ]
  },
  {
   "cell_type": "markdown",
   "id": "ad84513b",
   "metadata": {
    "id": "333ec665"
   },
   "source": [
    "## 2 Предобработка данных"
   ]
  },
  {
   "cell_type": "markdown",
   "id": "c2bdf148",
   "metadata": {
    "deletable": false,
    "editable": false,
    "id": "02d92d53"
   },
   "source": [
    "### Удаление пропусков"
   ]
  },
  {
   "cell_type": "code",
   "execution_count": 4,
   "id": "5b740f44",
   "metadata": {
    "deletable": false,
    "id": "7f9b2309",
    "outputId": "81f4d817-781c-465c-ed15-91ce4446810d"
   },
   "outputs": [
    {
     "data": {
      "text/plain": [
       "children               0\n",
       "days_employed       2174\n",
       "dob_years              0\n",
       "education              0\n",
       "education_id           0\n",
       "family_status          0\n",
       "family_status_id       0\n",
       "gender                 0\n",
       "income_type            0\n",
       "debt                   0\n",
       "total_income        2174\n",
       "purpose                0\n",
       "dtype: int64"
      ]
     },
     "execution_count": 4,
     "metadata": {},
     "output_type": "execute_result"
    }
   ],
   "source": [
    "# подсчет количества пропусков в каждом из столбцов\n",
    "data.isna().sum()"
   ]
  },
  {
   "cell_type": "code",
   "execution_count": 5,
   "id": "5a36e5b7",
   "metadata": {
    "deletable": false,
    "id": "42006a93"
   },
   "outputs": [],
   "source": [
    "# заполнение пропусков в столбце с уровнем дохода его медианным значением по типу занятости\n",
    "for t in data['income_type'].unique():\n",
    "    data.loc[(data['income_type'] == t) & (data['total_income'].isna()), 'total_income'] = \\\n",
    "    data.loc[(data['income_type'] == t), 'total_income'].median()"
   ]
  },
  {
   "cell_type": "markdown",
   "id": "f1218774",
   "metadata": {
    "deletable": false,
    "editable": false,
    "id": "89da5ece"
   },
   "source": [
    "### Обработка аномальных значений"
   ]
  },
  {
   "cell_type": "code",
   "execution_count": 6,
   "id": "130c5aa9",
   "metadata": {
    "deletable": false,
    "id": "f6f055bf"
   },
   "outputs": [],
   "source": [
    "# замена отрицательных значений количества дней трудового стажа на положительные\n",
    "data['days_employed'] = data['days_employed'].abs()"
   ]
  },
  {
   "cell_type": "code",
   "execution_count": 7,
   "id": "33e1cad2",
   "metadata": {
    "deletable": false,
    "id": "85a5faf6",
    "outputId": "801ef80e-522b-4668-f34e-565af7432bcf"
   },
   "outputs": [
    {
     "data": {
      "text/plain": [
       "income_type\n",
       "безработный        366413.652744\n",
       "в декрете            3296.759962\n",
       "госслужащий          2689.368353\n",
       "компаньон            1547.382223\n",
       "пенсионер          365213.306266\n",
       "предприниматель       520.848083\n",
       "сотрудник            1574.202821\n",
       "студент               578.751554\n",
       "Name: days_employed, dtype: float64"
      ]
     },
     "execution_count": 7,
     "metadata": {},
     "output_type": "execute_result"
    }
   ],
   "source": [
    "# расчет медианного значения трудового стажа по типу занятости\n",
    "data.groupby('income_type')['days_employed'].agg('median')"
   ]
  },
  {
   "cell_type": "markdown",
   "id": "7d090396",
   "metadata": {
    "id": "38d1a030"
   },
   "source": [
    "У двух типов (безработные и пенсионеры) получаются аномально большие значения. Исправить такие значения сложно, поэтому оставим их без изменения."
   ]
  },
  {
   "cell_type": "code",
   "execution_count": 8,
   "id": "8d9c4ec4",
   "metadata": {
    "deletable": false,
    "id": "ef5056eb",
    "outputId": "6975b15c-7f95-4697-d16d-a0c79b657b03"
   },
   "outputs": [
    {
     "data": {
      "text/plain": [
       "array([ 1,  0,  3,  2, -1,  4, 20,  5], dtype=int64)"
      ]
     },
     "execution_count": 8,
     "metadata": {},
     "output_type": "execute_result"
    }
   ],
   "source": [
    "# вывод уникальных значений количества детей\n",
    "data['children'].unique()"
   ]
  },
  {
   "cell_type": "code",
   "execution_count": 9,
   "id": "b9a1604f",
   "metadata": {
    "deletable": false,
    "id": "3ff9801d"
   },
   "outputs": [],
   "source": [
    "# удаление аномальных значений количества детей (-1, 20)\n",
    "data = data[(data['children'] != -1) & (data['children'] != 20)]"
   ]
  },
  {
   "cell_type": "code",
   "execution_count": 10,
   "id": "0735f755",
   "metadata": {
    "deletable": false,
    "id": "ad4fa8b7",
    "outputId": "b2097101-d49d-44d9-901b-32a65c9463d1"
   },
   "outputs": [
    {
     "data": {
      "text/plain": [
       "array([1, 0, 3, 2, 4, 5], dtype=int64)"
      ]
     },
     "execution_count": 10,
     "metadata": {},
     "output_type": "execute_result"
    }
   ],
   "source": [
    "# проверка удаления аномальных значений\n",
    "data['children'].unique()"
   ]
  },
  {
   "cell_type": "markdown",
   "id": "ca970646",
   "metadata": {
    "deletable": false,
    "editable": false,
    "id": "75440b63"
   },
   "source": [
    "### Удаление пропусков (продолжение)"
   ]
  },
  {
   "cell_type": "code",
   "execution_count": 11,
   "id": "9561d5cd",
   "metadata": {
    "deletable": false,
    "id": "af6b1a7e"
   },
   "outputs": [],
   "source": [
    "# заполнение пропусков в столбце со значением трудового стажа его медианным значением по типу занятости\n",
    "for t in data['income_type'].unique():\n",
    "    data.loc[(data['income_type'] == t) & (data['days_employed'].isna()), 'days_employed'] = \\\n",
    "    data.loc[(data['income_type'] == t), 'days_employed'].median()"
   ]
  },
  {
   "cell_type": "code",
   "execution_count": 12,
   "id": "bda0ba88",
   "metadata": {
    "deletable": false,
    "id": "55f78bc2",
    "outputId": "8da1e4e1-358e-4e87-98c9-f261bce0a7b2"
   },
   "outputs": [
    {
     "data": {
      "text/plain": [
       "children            0\n",
       "days_employed       0\n",
       "dob_years           0\n",
       "education           0\n",
       "education_id        0\n",
       "family_status       0\n",
       "family_status_id    0\n",
       "gender              0\n",
       "income_type         0\n",
       "debt                0\n",
       "total_income        0\n",
       "purpose             0\n",
       "dtype: int64"
      ]
     },
     "execution_count": 12,
     "metadata": {},
     "output_type": "execute_result"
    }
   ],
   "source": [
    "# проверка устранения пропусков\n",
    "data.isna().sum()"
   ]
  },
  {
   "cell_type": "markdown",
   "id": "299838e0",
   "metadata": {
    "deletable": false,
    "editable": false,
    "id": "ddc81e43"
   },
   "source": [
    "### Изменение типов данных"
   ]
  },
  {
   "cell_type": "code",
   "execution_count": 13,
   "id": "0c1e1762",
   "metadata": {
    "deletable": false,
    "id": "920b65ad"
   },
   "outputs": [],
   "source": [
    "# замена вещественного типа данных на целочисленный\n",
    "data['total_income'] = data['total_income'].astype(int)"
   ]
  },
  {
   "cell_type": "markdown",
   "id": "e45078b0",
   "metadata": {
    "deletable": false,
    "editable": false,
    "id": "80c420ba"
   },
   "source": [
    "### Обработка дубликатов"
   ]
  },
  {
   "cell_type": "code",
   "execution_count": 14,
   "id": "bd19bcb5",
   "metadata": {
    "deletable": false
   },
   "outputs": [],
   "source": [
    "# приведение значений столбца с уровнем образования к нижнему регистру\n",
    "data['education'] = data['education'].str.lower()"
   ]
  },
  {
   "cell_type": "code",
   "execution_count": 15,
   "id": "e2ef20d7",
   "metadata": {
    "deletable": false,
    "id": "3ee445e4",
    "outputId": "9684deba-1934-42d1-99e1-cda61740f822"
   },
   "outputs": [
    {
     "data": {
      "text/plain": [
       "71"
      ]
     },
     "execution_count": 15,
     "metadata": {},
     "output_type": "execute_result"
    }
   ],
   "source": [
    "# вывод количества строк-дубликатов\n",
    "data.duplicated().sum()"
   ]
  },
  {
   "cell_type": "code",
   "execution_count": 16,
   "id": "585830dc",
   "metadata": {
    "deletable": false,
    "id": "8575fe05"
   },
   "outputs": [],
   "source": [
    "# удаление дубликатов\n",
    "data = data.drop_duplicates()"
   ]
  },
  {
   "cell_type": "markdown",
   "id": "4f9c283b",
   "metadata": {
    "deletable": false,
    "editable": false,
    "id": "9904cf55"
   },
   "source": [
    "### Категоризация данных"
   ]
  },
  {
   "cell_type": "code",
   "execution_count": 17,
   "id": "ebcc0d7c",
   "metadata": {
    "deletable": false,
    "id": "e1771346"
   },
   "outputs": [],
   "source": [
    "# создание функции для распределения кредитополучателей по категориям уровня дохода\n",
    "def categorize_income(income):\n",
    "    try:\n",
    "        if 0 <= income <= 30000:\n",
    "            return 'E'\n",
    "        elif 30001 <= income <= 50000:\n",
    "            return 'D'\n",
    "        elif 50001 <= income <= 200000:\n",
    "            return 'C'\n",
    "        elif 200001 <= income <= 1000000:\n",
    "            return 'B'\n",
    "        elif income >= 1000001:\n",
    "            return 'A'\n",
    "    except:\n",
    "        pass"
   ]
  },
  {
   "cell_type": "code",
   "execution_count": 18,
   "id": "7f3d3998",
   "metadata": {
    "deletable": false,
    "id": "d5f3586d"
   },
   "outputs": [],
   "source": [
    "# создание нового столбца с применением функции к столбцу с уровнем дохода\n",
    "data['total_income_category'] = data['total_income'].apply(categorize_income)"
   ]
  },
  {
   "cell_type": "code",
   "execution_count": 19,
   "id": "b344ad2f",
   "metadata": {
    "deletable": false,
    "id": "f67ce9b3",
    "outputId": "673c12d9-7d7e-4ae0-9812-c622c89dd244"
   },
   "outputs": [
    {
     "data": {
      "text/plain": [
       "array(['покупка жилья', 'приобретение автомобиля',\n",
       "       'дополнительное образование', 'сыграть свадьбу',\n",
       "       'операции с жильем', 'образование', 'на проведение свадьбы',\n",
       "       'покупка жилья для семьи', 'покупка недвижимости',\n",
       "       'покупка коммерческой недвижимости', 'покупка жилой недвижимости',\n",
       "       'строительство собственной недвижимости', 'недвижимость',\n",
       "       'строительство недвижимости', 'на покупку подержанного автомобиля',\n",
       "       'на покупку своего автомобиля',\n",
       "       'операции с коммерческой недвижимостью',\n",
       "       'строительство жилой недвижимости', 'жилье',\n",
       "       'операции со своей недвижимостью', 'автомобили',\n",
       "       'заняться образованием', 'сделка с подержанным автомобилем',\n",
       "       'получение образования', 'автомобиль', 'свадьба',\n",
       "       'получение дополнительного образования', 'покупка своего жилья',\n",
       "       'операции с недвижимостью', 'получение высшего образования',\n",
       "       'свой автомобиль', 'сделка с автомобилем',\n",
       "       'профильное образование', 'высшее образование',\n",
       "       'покупка жилья для сдачи', 'на покупку автомобиля', 'ремонт жилью',\n",
       "       'заняться высшим образованием'], dtype=object)"
      ]
     },
     "execution_count": 19,
     "metadata": {},
     "output_type": "execute_result"
    }
   ],
   "source": [
    "# вывод уникальных целей взятия кредита\n",
    "data['purpose'].unique()"
   ]
  },
  {
   "cell_type": "code",
   "execution_count": 20,
   "id": "cc3502de",
   "metadata": {
    "deletable": false,
    "id": "e149fab4"
   },
   "outputs": [],
   "source": [
    "# создание функции для распределения целей взятия кредита по категориям\n",
    "def categorize_purpose(row):\n",
    "    try:\n",
    "        if 'автом' in row:\n",
    "            return 'операции с автомобилем'\n",
    "        elif 'жил' in row or 'недвиж' in row:\n",
    "            return 'операции с недвижимостью'\n",
    "        elif 'свад' in row:\n",
    "            return 'проведение свадьбы'\n",
    "        elif 'образов' in row:\n",
    "            return 'получение образования'\n",
    "    except:\n",
    "        return 'нет категории'"
   ]
  },
  {
   "cell_type": "code",
   "execution_count": 21,
   "id": "19a3b144",
   "metadata": {
    "deletable": false,
    "id": "bf36e69b"
   },
   "outputs": [],
   "source": [
    "# создание нового столбца с применением функции к столбцу с целью взятия кредита\n",
    "data['purpose_category'] = data['purpose'].apply(categorize_purpose)"
   ]
  },
  {
   "cell_type": "markdown",
   "id": "a81611f1",
   "metadata": {},
   "source": [
    "## 3 Анализ зависимостей"
   ]
  },
  {
   "cell_type": "code",
   "execution_count": 22,
   "id": "abc55c96",
   "metadata": {
    "deletable": false,
    "id": "2cacfc4a"
   },
   "outputs": [
    {
     "data": {
      "text/plain": [
       "children\n",
       "4    9.756098\n",
       "2    9.454191\n",
       "1    9.234609\n",
       "3    8.181818\n",
       "0    7.543822\n",
       "5    0.000000\n",
       "Name: debt, dtype: float64"
      ]
     },
     "execution_count": 22,
     "metadata": {},
     "output_type": "execute_result"
    }
   ],
   "source": [
    "# расчет процентного соотношения числа людей, имевших задолженности, к общему числу людей с группировкой по количеству детей\n",
    "(data.groupby('children')['debt'].sum() / data.groupby('children')['debt'].count() * 100).sort_values(ascending=False)"
   ]
  },
  {
   "cell_type": "markdown",
   "id": "0097b53b",
   "metadata": {
    "deletable": false,
    "id": "3a6b99ec"
   },
   "source": [
    "**Вывод:** Исходя из полученных значений, можно сделать вывод о том, что количество детей оказывает несильное влияние на возврат кредита в срок, так как разброс между группами, имеющими 1, 2, 3 и 4 детей, относительно небольшой. Кроме того, в группе людей, имеющих 5 детей, вообще никто не имел задолженности по возврату кредитов."
   ]
  },
  {
   "cell_type": "code",
   "execution_count": 23,
   "id": "202a69f5",
   "metadata": {
    "deletable": false,
    "id": "dc3f7ee8"
   },
   "outputs": [
    {
     "data": {
      "text/plain": [
       "family_status\n",
       "Не женат / не замужем    9.763948\n",
       "гражданский брак         9.313014\n",
       "женат / замужем          7.560558\n",
       "в разводе                7.064760\n",
       "вдовец / вдова           6.624606\n",
       "Name: debt, dtype: float64"
      ]
     },
     "execution_count": 23,
     "metadata": {},
     "output_type": "execute_result"
    }
   ],
   "source": [
    "# расчет процентного соотношения числа людей, имевших задолженности, к общему числу людей с группировкой по семейному положению\n",
    "(data.groupby('family_status')['debt'].sum() / data.groupby('family_status')['debt'].count() * 100).sort_values(ascending=False)"
   ]
  },
  {
   "cell_type": "markdown",
   "id": "834425bc",
   "metadata": {
    "deletable": false,
    "id": "1cef7837"
   },
   "source": [
    "**Вывод:** На основании произведенного расчета можно сделать вывод о том, что семейное положение не имеет большой взаимосвязи с возратом кредита в срок, так как процент количества людей, имевших задолженности, в группах: \"Не женат / не замужем\" (9,8%) и \"гражданский брак\" (9,3%), а также в \"в разводе\" (7,1%) и \"женат / замужем\" (7,6%) - не сильно отличаются."
   ]
  },
  {
   "cell_type": "code",
   "execution_count": 24,
   "id": "2f01186c",
   "metadata": {
    "deletable": false,
    "id": "cd7e3720"
   },
   "outputs": [
    {
     "data": {
      "text/plain": [
       "total_income_category\n",
       "E    9.090909\n",
       "C    8.498210\n",
       "A    8.000000\n",
       "B    7.060231\n",
       "D    6.017192\n",
       "Name: debt, dtype: float64"
      ]
     },
     "execution_count": 24,
     "metadata": {},
     "output_type": "execute_result"
    }
   ],
   "source": [
    "# расчет процентного соотношения числа людей, имевших задолженности, к общему числу людей с группировкой по уровню дохода\n",
    "(data.groupby('total_income_category')['debt'].sum() / data.groupby('total_income_category')['debt'].count() * 100).sort_values(ascending=False)"
   ]
  },
  {
   "cell_type": "code",
   "execution_count": 25,
   "id": "016bf83a",
   "metadata": {},
   "outputs": [
    {
     "data": {
      "text/plain": [
       "total_income_category\n",
       "C    78.117783\n",
       "B    20.438799\n",
       "D     1.212471\n",
       "A     0.115473\n",
       "E     0.115473\n",
       "Name: debt, dtype: float64"
      ]
     },
     "execution_count": 25,
     "metadata": {},
     "output_type": "execute_result"
    }
   ],
   "source": [
    "# подсчет доли каждой категории в общем количестве людей, имевших задолженности\n",
    "(data.groupby('total_income_category')['debt'].sum() / data['debt'].sum() * 100).sort_values(ascending=False)"
   ]
  },
  {
   "cell_type": "markdown",
   "id": "77fa6794",
   "metadata": {
    "deletable": false,
    "id": "e8593def"
   },
   "source": [
    "**Вывод:** Ожидаемо, процент людей, имевших задолженности, выше всего в категории Е (с уровнем дохода до 30.000), однако, наименьшее значение данный показатель имеет не в категории А (с уровнем дохода от 1.000.000 и выше), а в категории D (от 30.001 до 50.000). Таким образом, нельзя говорить о наличии высокой взаимосвязи между уровнем дохода и возвратом кредита в срок.\n",
    "\n",
    "Кроме того, если отдельно проанализировать процент в общем числе людей, имевших задолженности, по категориям, то бОльшую долю (а именно 78,1%) составляет группа С (с уровнем дохода 50.001 до 200.000)."
   ]
  },
  {
   "cell_type": "code",
   "execution_count": 26,
   "id": "5f277fd3",
   "metadata": {
    "deletable": false,
    "id": "2b687290"
   },
   "outputs": [
    {
     "data": {
      "text/plain": [
       "purpose_category\n",
       "операции с автомобилем      9.347978\n",
       "получение образования       9.252758\n",
       "проведение свадьбы          7.911803\n",
       "операции с недвижимостью    7.255139\n",
       "Name: debt, dtype: float64"
      ]
     },
     "execution_count": 26,
     "metadata": {},
     "output_type": "execute_result"
    }
   ],
   "source": [
    "# расчет процентного соотношения числа людей, имевших задолженности, к общему числу людей с группировкой по цели кредита\n",
    "(data.groupby('purpose_category')['debt'].sum() / data.groupby('purpose_category')['debt'].count() * 100).sort_values(ascending=False)"
   ]
  },
  {
   "cell_type": "markdown",
   "id": "d1ec1c05",
   "metadata": {
    "deletable": false,
    "id": "b4bb2ce6"
   },
   "source": [
    "**Вывод:** Процент невозврата кредита в срок выше в категориях \"операции с автомобилем\" и \"получение образования\", но имеет небольшое отклонение от категорий \"проведение свадьбы\" и \"операции с недвижимостью\"."
   ]
  },
  {
   "cell_type": "markdown",
   "id": "424b93c0",
   "metadata": {
    "id": "6db5255a"
   },
   "source": [
    "### Общий вывод"
   ]
  },
  {
   "cell_type": "markdown",
   "id": "13d797ba",
   "metadata": {
    "deletable": false,
    "id": "bad65432"
   },
   "source": [
    "По результатам проведенного анализа нельзя говорить о том, что такие показатели, как количество детей, семейное положение, уровень дохода и цель кредита, оказывают сильное влияние на возврат кредита в срок. Для более подробного изучения взаимосвязей с этим показателем следует изучить такие критерии, как уровень образования, возраст и наличие/отсутствие судимости."
   ]
  }
 ],
 "metadata": {
  "ExecuteTimeLog": [
   {
    "duration": 701,
    "start_time": "2023-01-05T12:27:28.456Z"
   },
   {
    "duration": 23,
    "start_time": "2023-01-05T12:27:29.160Z"
   },
   {
    "duration": 26,
    "start_time": "2023-01-05T12:27:29.184Z"
   },
   {
    "duration": 13,
    "start_time": "2023-01-05T12:27:29.213Z"
   },
   {
    "duration": 35,
    "start_time": "2023-01-05T12:27:29.227Z"
   },
   {
    "duration": 4,
    "start_time": "2023-01-05T12:27:29.264Z"
   },
   {
    "duration": 12,
    "start_time": "2023-01-05T12:27:29.269Z"
   },
   {
    "duration": 7,
    "start_time": "2023-01-05T12:27:29.284Z"
   },
   {
    "duration": 25,
    "start_time": "2023-01-05T12:27:29.293Z"
   },
   {
    "duration": 17,
    "start_time": "2023-01-05T12:27:29.321Z"
   },
   {
    "duration": 48,
    "start_time": "2023-01-05T12:27:29.340Z"
   },
   {
    "duration": 13,
    "start_time": "2023-01-05T12:27:29.390Z"
   },
   {
    "duration": 9,
    "start_time": "2023-01-05T12:27:29.405Z"
   },
   {
    "duration": 22,
    "start_time": "2023-01-05T12:27:29.416Z"
   },
   {
    "duration": 22,
    "start_time": "2023-01-05T12:27:29.440Z"
   },
   {
    "duration": 18,
    "start_time": "2023-01-05T12:27:29.464Z"
   },
   {
    "duration": 4,
    "start_time": "2023-01-05T12:27:29.484Z"
   },
   {
    "duration": 14,
    "start_time": "2023-01-05T12:27:29.490Z"
   },
   {
    "duration": 30,
    "start_time": "2023-01-05T12:27:29.506Z"
   },
   {
    "duration": 4,
    "start_time": "2023-01-05T12:27:29.539Z"
   },
   {
    "duration": 25,
    "start_time": "2023-01-05T12:27:29.545Z"
   },
   {
    "duration": 7,
    "start_time": "2023-01-05T12:27:32.577Z"
   },
   {
    "duration": 5,
    "start_time": "2023-01-05T12:28:10.692Z"
   },
   {
    "duration": 18,
    "start_time": "2023-01-05T12:28:26.145Z"
   },
   {
    "duration": 7,
    "start_time": "2023-01-05T12:31:15.742Z"
   },
   {
    "duration": 3,
    "start_time": "2023-01-05T12:31:25.656Z"
   },
   {
    "duration": 18,
    "start_time": "2023-01-05T12:31:25.661Z"
   },
   {
    "duration": 20,
    "start_time": "2023-01-05T12:31:25.681Z"
   },
   {
    "duration": 453,
    "start_time": "2023-01-05T12:31:43.775Z"
   },
   {
    "duration": 23,
    "start_time": "2023-01-05T12:31:44.230Z"
   },
   {
    "duration": 26,
    "start_time": "2023-01-05T12:31:44.255Z"
   },
   {
    "duration": 17,
    "start_time": "2023-01-05T12:31:44.283Z"
   },
   {
    "duration": 43,
    "start_time": "2023-01-05T12:31:44.302Z"
   },
   {
    "duration": 4,
    "start_time": "2023-01-05T12:31:44.346Z"
   },
   {
    "duration": 20,
    "start_time": "2023-01-05T12:31:44.352Z"
   },
   {
    "duration": 16,
    "start_time": "2023-01-05T12:31:44.373Z"
   },
   {
    "duration": 12,
    "start_time": "2023-01-05T12:31:44.390Z"
   },
   {
    "duration": 21,
    "start_time": "2023-01-05T12:31:44.404Z"
   },
   {
    "duration": 52,
    "start_time": "2023-01-05T12:31:44.427Z"
   },
   {
    "duration": 10,
    "start_time": "2023-01-05T12:31:44.481Z"
   },
   {
    "duration": 40,
    "start_time": "2023-01-05T12:31:44.493Z"
   },
   {
    "duration": 15,
    "start_time": "2023-01-05T12:31:44.535Z"
   },
   {
    "duration": 31,
    "start_time": "2023-01-05T12:31:44.551Z"
   },
   {
    "duration": 17,
    "start_time": "2023-01-05T12:31:44.583Z"
   },
   {
    "duration": 4,
    "start_time": "2023-01-05T12:31:44.601Z"
   },
   {
    "duration": 29,
    "start_time": "2023-01-05T12:31:44.606Z"
   },
   {
    "duration": 13,
    "start_time": "2023-01-05T12:31:44.637Z"
   },
   {
    "duration": 6,
    "start_time": "2023-01-05T12:31:44.652Z"
   },
   {
    "duration": 19,
    "start_time": "2023-01-05T12:31:44.660Z"
   },
   {
    "duration": 18,
    "start_time": "2023-01-05T12:31:44.680Z"
   },
   {
    "duration": 8,
    "start_time": "2023-01-05T12:31:49.196Z"
   },
   {
    "duration": 5,
    "start_time": "2023-01-05T12:32:06.472Z"
   },
   {
    "duration": 8,
    "start_time": "2023-01-05T12:33:19.939Z"
   },
   {
    "duration": 9,
    "start_time": "2023-01-05T12:33:28.323Z"
   },
   {
    "duration": 4,
    "start_time": "2023-01-05T12:36:45.847Z"
   },
   {
    "duration": 5,
    "start_time": "2023-01-05T12:36:46.640Z"
   },
   {
    "duration": 5,
    "start_time": "2023-01-05T12:36:47.173Z"
   },
   {
    "duration": 514,
    "start_time": "2023-01-05T12:38:37.806Z"
   },
   {
    "duration": 23,
    "start_time": "2023-01-05T12:38:38.322Z"
   },
   {
    "duration": 19,
    "start_time": "2023-01-05T12:38:38.347Z"
   },
   {
    "duration": 10,
    "start_time": "2023-01-05T12:38:38.368Z"
   },
   {
    "duration": 34,
    "start_time": "2023-01-05T12:38:38.380Z"
   },
   {
    "duration": 20,
    "start_time": "2023-01-05T12:38:38.416Z"
   },
   {
    "duration": 18,
    "start_time": "2023-01-05T12:38:38.437Z"
   },
   {
    "duration": 10,
    "start_time": "2023-01-05T12:38:38.456Z"
   },
   {
    "duration": 22,
    "start_time": "2023-01-05T12:38:38.467Z"
   },
   {
    "duration": 12,
    "start_time": "2023-01-05T12:38:38.491Z"
   },
   {
    "duration": 41,
    "start_time": "2023-01-05T12:38:38.505Z"
   },
   {
    "duration": 11,
    "start_time": "2023-01-05T12:38:38.548Z"
   },
   {
    "duration": 20,
    "start_time": "2023-01-05T12:38:38.560Z"
   },
   {
    "duration": 19,
    "start_time": "2023-01-05T12:38:38.581Z"
   },
   {
    "duration": 20,
    "start_time": "2023-01-05T12:38:38.602Z"
   },
   {
    "duration": 21,
    "start_time": "2023-01-05T12:38:38.624Z"
   },
   {
    "duration": 4,
    "start_time": "2023-01-05T12:38:38.647Z"
   },
   {
    "duration": 21,
    "start_time": "2023-01-05T12:38:38.652Z"
   },
   {
    "duration": 14,
    "start_time": "2023-01-05T12:38:38.675Z"
   },
   {
    "duration": 9,
    "start_time": "2023-01-05T12:38:38.690Z"
   },
   {
    "duration": 23,
    "start_time": "2023-01-05T12:38:38.701Z"
   },
   {
    "duration": 4,
    "start_time": "2023-01-05T12:38:41.769Z"
   },
   {
    "duration": 4,
    "start_time": "2023-01-05T12:38:43.363Z"
   },
   {
    "duration": 6,
    "start_time": "2023-01-05T12:38:45.613Z"
   },
   {
    "duration": 7,
    "start_time": "2023-01-05T12:45:32.035Z"
   },
   {
    "duration": 7,
    "start_time": "2023-01-05T12:45:34.523Z"
   },
   {
    "duration": 7,
    "start_time": "2023-01-05T12:48:53.342Z"
   },
   {
    "duration": 5,
    "start_time": "2023-01-05T12:49:36.951Z"
   },
   {
    "duration": 10,
    "start_time": "2023-01-05T12:52:40.810Z"
   },
   {
    "duration": 11,
    "start_time": "2023-01-05T12:55:02.531Z"
   },
   {
    "duration": 8,
    "start_time": "2023-01-05T12:55:14.589Z"
   },
   {
    "duration": 8,
    "start_time": "2023-01-05T12:57:20.775Z"
   },
   {
    "duration": 6,
    "start_time": "2023-01-05T12:57:59.278Z"
   },
   {
    "duration": 4,
    "start_time": "2023-01-05T13:00:24.231Z"
   },
   {
    "duration": 8,
    "start_time": "2023-01-05T13:18:45.580Z"
   },
   {
    "duration": 9,
    "start_time": "2023-01-05T13:20:40.760Z"
   },
   {
    "duration": 9,
    "start_time": "2023-01-05T13:25:47.062Z"
   },
   {
    "duration": 11,
    "start_time": "2023-01-05T13:26:39.330Z"
   },
   {
    "duration": 152,
    "start_time": "2023-01-05T13:27:21.800Z"
   },
   {
    "duration": 9,
    "start_time": "2023-01-05T13:27:34.804Z"
   },
   {
    "duration": 12,
    "start_time": "2023-01-05T13:28:31.664Z"
   },
   {
    "duration": 13,
    "start_time": "2023-01-05T13:29:47.056Z"
   },
   {
    "duration": 14,
    "start_time": "2023-01-05T13:32:11.968Z"
   },
   {
    "duration": 9,
    "start_time": "2023-01-05T13:37:00.400Z"
   },
   {
    "duration": 8,
    "start_time": "2023-01-05T13:37:10.140Z"
   },
   {
    "duration": 5,
    "start_time": "2023-01-05T13:37:31.323Z"
   },
   {
    "duration": 4,
    "start_time": "2023-01-05T13:38:06.459Z"
   },
   {
    "duration": 7,
    "start_time": "2023-01-05T13:43:42.845Z"
   },
   {
    "duration": 4,
    "start_time": "2023-01-05T13:47:10.439Z"
   },
   {
    "duration": 50,
    "start_time": "2023-01-06T14:24:46.383Z"
   },
   {
    "duration": 1019,
    "start_time": "2023-01-06T14:25:02.452Z"
   },
   {
    "duration": 22,
    "start_time": "2023-01-06T14:25:03.473Z"
   },
   {
    "duration": 14,
    "start_time": "2023-01-06T14:25:03.497Z"
   },
   {
    "duration": 9,
    "start_time": "2023-01-06T14:25:03.513Z"
   },
   {
    "duration": 35,
    "start_time": "2023-01-06T14:25:03.523Z"
   },
   {
    "duration": 4,
    "start_time": "2023-01-06T14:25:03.559Z"
   },
   {
    "duration": 36,
    "start_time": "2023-01-06T14:25:03.565Z"
   },
   {
    "duration": 3,
    "start_time": "2023-01-06T14:25:03.603Z"
   },
   {
    "duration": 15,
    "start_time": "2023-01-06T14:25:03.608Z"
   },
   {
    "duration": 5,
    "start_time": "2023-01-06T14:25:03.625Z"
   },
   {
    "duration": 42,
    "start_time": "2023-01-06T14:25:03.631Z"
   },
   {
    "duration": 31,
    "start_time": "2023-01-06T14:25:03.675Z"
   },
   {
    "duration": 12,
    "start_time": "2023-01-06T14:25:03.710Z"
   },
   {
    "duration": 13,
    "start_time": "2023-01-06T14:25:03.724Z"
   },
   {
    "duration": 23,
    "start_time": "2023-01-06T14:25:03.739Z"
   },
   {
    "duration": 34,
    "start_time": "2023-01-06T14:25:03.764Z"
   },
   {
    "duration": 4,
    "start_time": "2023-01-06T14:25:03.799Z"
   },
   {
    "duration": 16,
    "start_time": "2023-01-06T14:25:03.804Z"
   },
   {
    "duration": 13,
    "start_time": "2023-01-06T14:25:03.822Z"
   },
   {
    "duration": 14,
    "start_time": "2023-01-06T14:25:03.836Z"
   },
   {
    "duration": 14,
    "start_time": "2023-01-06T14:25:03.852Z"
   },
   {
    "duration": 8,
    "start_time": "2023-01-06T14:25:03.868Z"
   },
   {
    "duration": 19,
    "start_time": "2023-01-06T14:25:03.878Z"
   },
   {
    "duration": 10,
    "start_time": "2023-01-06T14:25:03.899Z"
   },
   {
    "duration": 8,
    "start_time": "2023-01-06T14:25:06.972Z"
   },
   {
    "duration": 477,
    "start_time": "2023-01-06T14:50:07.674Z"
   },
   {
    "duration": 21,
    "start_time": "2023-01-06T14:50:08.153Z"
   },
   {
    "duration": 13,
    "start_time": "2023-01-06T14:50:08.175Z"
   },
   {
    "duration": 9,
    "start_time": "2023-01-06T14:50:08.190Z"
   },
   {
    "duration": 31,
    "start_time": "2023-01-06T14:50:08.201Z"
   },
   {
    "duration": 3,
    "start_time": "2023-01-06T14:50:08.233Z"
   },
   {
    "duration": 11,
    "start_time": "2023-01-06T14:50:08.238Z"
   },
   {
    "duration": 6,
    "start_time": "2023-01-06T14:50:08.251Z"
   },
   {
    "duration": 9,
    "start_time": "2023-01-06T14:50:08.258Z"
   },
   {
    "duration": 4,
    "start_time": "2023-01-06T14:50:08.269Z"
   },
   {
    "duration": 45,
    "start_time": "2023-01-06T14:50:08.274Z"
   },
   {
    "duration": 8,
    "start_time": "2023-01-06T14:50:08.321Z"
   },
   {
    "duration": 5,
    "start_time": "2023-01-06T14:50:08.330Z"
   },
   {
    "duration": 13,
    "start_time": "2023-01-06T14:50:08.336Z"
   },
   {
    "duration": 17,
    "start_time": "2023-01-06T14:50:08.350Z"
   },
   {
    "duration": 40,
    "start_time": "2023-01-06T14:50:08.368Z"
   },
   {
    "duration": 3,
    "start_time": "2023-01-06T14:50:08.410Z"
   },
   {
    "duration": 12,
    "start_time": "2023-01-06T14:50:08.415Z"
   },
   {
    "duration": 5,
    "start_time": "2023-01-06T14:50:08.428Z"
   },
   {
    "duration": 4,
    "start_time": "2023-01-06T14:50:08.434Z"
   },
   {
    "duration": 14,
    "start_time": "2023-01-06T14:50:08.440Z"
   },
   {
    "duration": 7,
    "start_time": "2023-01-06T14:50:08.455Z"
   },
   {
    "duration": 36,
    "start_time": "2023-01-06T14:50:08.463Z"
   },
   {
    "duration": 10,
    "start_time": "2023-01-06T14:50:08.500Z"
   },
   {
    "duration": 5,
    "start_time": "2023-01-06T14:50:08.512Z"
   },
   {
    "duration": 19,
    "start_time": "2023-01-06T14:50:08.519Z"
   },
   {
    "duration": 8,
    "start_time": "2023-01-06T14:51:41.627Z"
   },
   {
    "duration": 8,
    "start_time": "2023-01-06T14:53:49.870Z"
   },
   {
    "duration": 7,
    "start_time": "2023-01-06T14:54:25.798Z"
   },
   {
    "duration": 12,
    "start_time": "2023-01-06T14:58:16.949Z"
   },
   {
    "duration": 475,
    "start_time": "2023-01-06T15:02:07.430Z"
   },
   {
    "duration": 43,
    "start_time": "2023-01-06T15:02:07.907Z"
   },
   {
    "duration": 15,
    "start_time": "2023-01-06T15:02:07.951Z"
   },
   {
    "duration": 10,
    "start_time": "2023-01-06T15:02:07.968Z"
   },
   {
    "duration": 44,
    "start_time": "2023-01-06T15:02:07.979Z"
   },
   {
    "duration": 4,
    "start_time": "2023-01-06T15:02:08.025Z"
   },
   {
    "duration": 9,
    "start_time": "2023-01-06T15:02:08.031Z"
   },
   {
    "duration": 5,
    "start_time": "2023-01-06T15:02:08.042Z"
   },
   {
    "duration": 10,
    "start_time": "2023-01-06T15:02:08.049Z"
   },
   {
    "duration": 4,
    "start_time": "2023-01-06T15:02:08.062Z"
   },
   {
    "duration": 33,
    "start_time": "2023-01-06T15:02:08.096Z"
   },
   {
    "duration": 9,
    "start_time": "2023-01-06T15:02:08.131Z"
   },
   {
    "duration": 4,
    "start_time": "2023-01-06T15:02:08.142Z"
   },
   {
    "duration": 14,
    "start_time": "2023-01-06T15:02:08.148Z"
   },
   {
    "duration": 44,
    "start_time": "2023-01-06T15:02:08.164Z"
   },
   {
    "duration": 18,
    "start_time": "2023-01-06T15:02:08.210Z"
   },
   {
    "duration": 4,
    "start_time": "2023-01-06T15:02:08.229Z"
   },
   {
    "duration": 14,
    "start_time": "2023-01-06T15:02:08.236Z"
   },
   {
    "duration": 7,
    "start_time": "2023-01-06T15:02:08.251Z"
   },
   {
    "duration": 3,
    "start_time": "2023-01-06T15:02:08.260Z"
   },
   {
    "duration": 38,
    "start_time": "2023-01-06T15:02:08.265Z"
   },
   {
    "duration": 11,
    "start_time": "2023-01-06T15:02:08.305Z"
   },
   {
    "duration": 11,
    "start_time": "2023-01-06T15:02:08.317Z"
   },
   {
    "duration": 9,
    "start_time": "2023-01-06T15:02:08.330Z"
   },
   {
    "duration": 7,
    "start_time": "2023-01-06T15:02:08.341Z"
   },
   {
    "duration": 11,
    "start_time": "2023-01-06T15:02:08.350Z"
   }
  ],
  "colab": {
   "name": "dpp_template_part2.ipynb",
   "provenance": []
  },
  "kernelspec": {
   "display_name": "Python 3 (ipykernel)",
   "language": "python",
   "name": "python3"
  },
  "language_info": {
   "codemirror_mode": {
    "name": "ipython",
    "version": 3
   },
   "file_extension": ".py",
   "mimetype": "text/x-python",
   "name": "python",
   "nbconvert_exporter": "python",
   "pygments_lexer": "ipython3",
   "version": "3.9.13"
  },
  "toc": {
   "base_numbering": 1,
   "nav_menu": {},
   "number_sections": true,
   "sideBar": true,
   "skip_h1_title": true,
   "title_cell": "Table of Contents",
   "title_sidebar": "Contents",
   "toc_cell": false,
   "toc_position": {},
   "toc_section_display": true,
   "toc_window_display": false
  }
 },
 "nbformat": 4,
 "nbformat_minor": 5
}
