{
 "cells": [
  {
   "cell_type": "markdown",
   "id": "cd75d951",
   "metadata": {},
   "source": [
    "# Анализ пользователей мобильного приложения по продаже продуктов питания"
   ]
  },
  {
   "cell_type": "markdown",
   "id": "4c2f7d4b",
   "metadata": {},
   "source": [
    "В стартапе, который продаёт продукты питания, необходимо проанализировать, как ведут себя пользователи мобильного приложения. "
   ]
  },
  {
   "cell_type": "markdown",
   "id": "7916cfb0",
   "metadata": {},
   "source": [
    "**Цель работы** - анализ поведения пользователей на основании изучения воронки продаж и исследования результатов A/A/B-эксперимента по изменению шрифта в приложении."
   ]
  },
  {
   "cell_type": "markdown",
   "id": "c2ead26b",
   "metadata": {},
   "source": [
    "**Описание данных**\n",
    "\n",
    "- информация о действиях пользователей (событиях) (`logs_exp.csv`):\n",
    "\n",
    "`EventName` — название события;\\\n",
    "`DeviceIDHash` — уникальный идентификатор пользователя;\\\n",
    "`EventTimestamp` — время события;\\\n",
    "`ExpId` — номер эксперимента: 246 и 247 — контрольные группы, а 248 — экспериментальная."
   ]
  },
  {
   "cell_type": "markdown",
   "id": "76aba2d9",
   "metadata": {},
   "source": [
    "## Обзор данных"
   ]
  },
  {
   "cell_type": "code",
   "execution_count": 1,
   "id": "b05448f5",
   "metadata": {},
   "outputs": [],
   "source": [
    "# импорт библиотек\n",
    "import pandas as pd\n",
    "import matplotlib.pyplot as plt\n",
    "import plotly.express as px\n",
    "import seaborn as sns\n",
    "import numpy as np\n",
    "import math as mt\n",
    "import scipy.stats as stats\n",
    "from pylab import rcParams\n",
    "import warnings \n",
    "warnings.filterwarnings(\"ignore\")"
   ]
  },
  {
   "cell_type": "code",
   "execution_count": 2,
   "id": "b9a24dbc",
   "metadata": {},
   "outputs": [],
   "source": [
    "# настройки для графиков\n",
    "%config InlineBackend.figure_format = 'retina'\n",
    "\n",
    "plt.style.use('seaborn-pastel')\n",
    "sns.set(rc={'figure.figsize':(8,4)})\n",
    "sns.set_style('darkgrid')\n",
    "sns.set_palette('Pastel1')"
   ]
  },
  {
   "cell_type": "code",
   "execution_count": 3,
   "id": "3df9406a",
   "metadata": {},
   "outputs": [],
   "source": [
    "# открытие файла\n",
    "data = pd.read_csv('E:\\My documents\\Studying\\Data_Analyst\\Projects\\pr_10_startup\\logs_exp.csv', sep='\\t')"
   ]
  },
  {
   "cell_type": "code",
   "execution_count": 4,
   "id": "6b22e37b",
   "metadata": {},
   "outputs": [
    {
     "name": "stdout",
     "output_type": "stream",
     "text": [
      "Первые 10 строк датафрейма\n"
     ]
    },
    {
     "data": {
      "text/html": [
       "<div>\n",
       "<style scoped>\n",
       "    .dataframe tbody tr th:only-of-type {\n",
       "        vertical-align: middle;\n",
       "    }\n",
       "\n",
       "    .dataframe tbody tr th {\n",
       "        vertical-align: top;\n",
       "    }\n",
       "\n",
       "    .dataframe thead th {\n",
       "        text-align: right;\n",
       "    }\n",
       "</style>\n",
       "<table border=\"1\" class=\"dataframe\">\n",
       "  <thead>\n",
       "    <tr style=\"text-align: right;\">\n",
       "      <th></th>\n",
       "      <th>EventName</th>\n",
       "      <th>DeviceIDHash</th>\n",
       "      <th>EventTimestamp</th>\n",
       "      <th>ExpId</th>\n",
       "    </tr>\n",
       "  </thead>\n",
       "  <tbody>\n",
       "    <tr>\n",
       "      <th>0</th>\n",
       "      <td>MainScreenAppear</td>\n",
       "      <td>4575588528974610257</td>\n",
       "      <td>1564029816</td>\n",
       "      <td>246</td>\n",
       "    </tr>\n",
       "    <tr>\n",
       "      <th>1</th>\n",
       "      <td>MainScreenAppear</td>\n",
       "      <td>7416695313311560658</td>\n",
       "      <td>1564053102</td>\n",
       "      <td>246</td>\n",
       "    </tr>\n",
       "    <tr>\n",
       "      <th>2</th>\n",
       "      <td>PaymentScreenSuccessful</td>\n",
       "      <td>3518123091307005509</td>\n",
       "      <td>1564054127</td>\n",
       "      <td>248</td>\n",
       "    </tr>\n",
       "    <tr>\n",
       "      <th>3</th>\n",
       "      <td>CartScreenAppear</td>\n",
       "      <td>3518123091307005509</td>\n",
       "      <td>1564054127</td>\n",
       "      <td>248</td>\n",
       "    </tr>\n",
       "    <tr>\n",
       "      <th>4</th>\n",
       "      <td>PaymentScreenSuccessful</td>\n",
       "      <td>6217807653094995999</td>\n",
       "      <td>1564055322</td>\n",
       "      <td>248</td>\n",
       "    </tr>\n",
       "    <tr>\n",
       "      <th>5</th>\n",
       "      <td>CartScreenAppear</td>\n",
       "      <td>6217807653094995999</td>\n",
       "      <td>1564055323</td>\n",
       "      <td>248</td>\n",
       "    </tr>\n",
       "    <tr>\n",
       "      <th>6</th>\n",
       "      <td>OffersScreenAppear</td>\n",
       "      <td>8351860793733343758</td>\n",
       "      <td>1564066242</td>\n",
       "      <td>246</td>\n",
       "    </tr>\n",
       "    <tr>\n",
       "      <th>7</th>\n",
       "      <td>MainScreenAppear</td>\n",
       "      <td>5682100281902512875</td>\n",
       "      <td>1564085677</td>\n",
       "      <td>246</td>\n",
       "    </tr>\n",
       "    <tr>\n",
       "      <th>8</th>\n",
       "      <td>MainScreenAppear</td>\n",
       "      <td>1850981295691852772</td>\n",
       "      <td>1564086702</td>\n",
       "      <td>247</td>\n",
       "    </tr>\n",
       "    <tr>\n",
       "      <th>9</th>\n",
       "      <td>MainScreenAppear</td>\n",
       "      <td>5407636962369102641</td>\n",
       "      <td>1564112112</td>\n",
       "      <td>246</td>\n",
       "    </tr>\n",
       "  </tbody>\n",
       "</table>\n",
       "</div>"
      ],
      "text/plain": [
       "                 EventName         DeviceIDHash  EventTimestamp  ExpId\n",
       "0         MainScreenAppear  4575588528974610257      1564029816    246\n",
       "1         MainScreenAppear  7416695313311560658      1564053102    246\n",
       "2  PaymentScreenSuccessful  3518123091307005509      1564054127    248\n",
       "3         CartScreenAppear  3518123091307005509      1564054127    248\n",
       "4  PaymentScreenSuccessful  6217807653094995999      1564055322    248\n",
       "5         CartScreenAppear  6217807653094995999      1564055323    248\n",
       "6       OffersScreenAppear  8351860793733343758      1564066242    246\n",
       "7         MainScreenAppear  5682100281902512875      1564085677    246\n",
       "8         MainScreenAppear  1850981295691852772      1564086702    247\n",
       "9         MainScreenAppear  5407636962369102641      1564112112    246"
      ]
     },
     "metadata": {},
     "output_type": "display_data"
    },
    {
     "name": "stdout",
     "output_type": "stream",
     "text": [
      "Основная информация о датафрейме\n",
      "<class 'pandas.core.frame.DataFrame'>\n",
      "RangeIndex: 244126 entries, 0 to 244125\n",
      "Data columns (total 4 columns):\n",
      " #   Column          Non-Null Count   Dtype \n",
      "---  ------          --------------   ----- \n",
      " 0   EventName       244126 non-null  object\n",
      " 1   DeviceIDHash    244126 non-null  int64 \n",
      " 2   EventTimestamp  244126 non-null  int64 \n",
      " 3   ExpId           244126 non-null  int64 \n",
      "dtypes: int64(3), object(1)\n",
      "memory usage: 7.5+ MB\n"
     ]
    },
    {
     "data": {
      "text/plain": [
       "None"
      ]
     },
     "metadata": {},
     "output_type": "display_data"
    },
    {
     "name": "stdout",
     "output_type": "stream",
     "text": [
      "Описание данных\n"
     ]
    },
    {
     "data": {
      "text/html": [
       "<div>\n",
       "<style scoped>\n",
       "    .dataframe tbody tr th:only-of-type {\n",
       "        vertical-align: middle;\n",
       "    }\n",
       "\n",
       "    .dataframe tbody tr th {\n",
       "        vertical-align: top;\n",
       "    }\n",
       "\n",
       "    .dataframe thead th {\n",
       "        text-align: right;\n",
       "    }\n",
       "</style>\n",
       "<table border=\"1\" class=\"dataframe\">\n",
       "  <thead>\n",
       "    <tr style=\"text-align: right;\">\n",
       "      <th></th>\n",
       "      <th>DeviceIDHash</th>\n",
       "      <th>EventTimestamp</th>\n",
       "      <th>ExpId</th>\n",
       "    </tr>\n",
       "  </thead>\n",
       "  <tbody>\n",
       "    <tr>\n",
       "      <th>count</th>\n",
       "      <td>2.441260e+05</td>\n",
       "      <td>2.441260e+05</td>\n",
       "      <td>244126.000000</td>\n",
       "    </tr>\n",
       "    <tr>\n",
       "      <th>mean</th>\n",
       "      <td>4.627568e+18</td>\n",
       "      <td>1.564914e+09</td>\n",
       "      <td>247.022296</td>\n",
       "    </tr>\n",
       "    <tr>\n",
       "      <th>std</th>\n",
       "      <td>2.642425e+18</td>\n",
       "      <td>1.771343e+05</td>\n",
       "      <td>0.824434</td>\n",
       "    </tr>\n",
       "    <tr>\n",
       "      <th>min</th>\n",
       "      <td>6.888747e+15</td>\n",
       "      <td>1.564030e+09</td>\n",
       "      <td>246.000000</td>\n",
       "    </tr>\n",
       "    <tr>\n",
       "      <th>25%</th>\n",
       "      <td>2.372212e+18</td>\n",
       "      <td>1.564757e+09</td>\n",
       "      <td>246.000000</td>\n",
       "    </tr>\n",
       "    <tr>\n",
       "      <th>50%</th>\n",
       "      <td>4.623192e+18</td>\n",
       "      <td>1.564919e+09</td>\n",
       "      <td>247.000000</td>\n",
       "    </tr>\n",
       "    <tr>\n",
       "      <th>75%</th>\n",
       "      <td>6.932517e+18</td>\n",
       "      <td>1.565075e+09</td>\n",
       "      <td>248.000000</td>\n",
       "    </tr>\n",
       "    <tr>\n",
       "      <th>max</th>\n",
       "      <td>9.222603e+18</td>\n",
       "      <td>1.565213e+09</td>\n",
       "      <td>248.000000</td>\n",
       "    </tr>\n",
       "  </tbody>\n",
       "</table>\n",
       "</div>"
      ],
      "text/plain": [
       "       DeviceIDHash  EventTimestamp          ExpId\n",
       "count  2.441260e+05    2.441260e+05  244126.000000\n",
       "mean   4.627568e+18    1.564914e+09     247.022296\n",
       "std    2.642425e+18    1.771343e+05       0.824434\n",
       "min    6.888747e+15    1.564030e+09     246.000000\n",
       "25%    2.372212e+18    1.564757e+09     246.000000\n",
       "50%    4.623192e+18    1.564919e+09     247.000000\n",
       "75%    6.932517e+18    1.565075e+09     248.000000\n",
       "max    9.222603e+18    1.565213e+09     248.000000"
      ]
     },
     "metadata": {},
     "output_type": "display_data"
    },
    {
     "name": "stdout",
     "output_type": "stream",
     "text": [
      "Количество строк-дубликатов\n"
     ]
    },
    {
     "data": {
      "text/plain": [
       "413"
      ]
     },
     "metadata": {},
     "output_type": "display_data"
    },
    {
     "name": "stdout",
     "output_type": "stream",
     "text": [
      "Количество пропусков\n"
     ]
    },
    {
     "data": {
      "text/plain": [
       "EventName         0\n",
       "DeviceIDHash      0\n",
       "EventTimestamp    0\n",
       "ExpId             0\n",
       "dtype: int64"
      ]
     },
     "metadata": {},
     "output_type": "display_data"
    }
   ],
   "source": [
    "# вывод основной информации о датафреймах, подсчет дубликатов и пропусков\n",
    "def df_info(data: pd.DataFrame):\n",
    "    print('Первые 10 строк датафрейма')\n",
    "    display(data.head(10))\n",
    "    print('Основная информация о датафрейме')\n",
    "    display(data.info())\n",
    "    print('Описание данных')\n",
    "    display(data.describe())\n",
    "    print('Количество строк-дубликатов')\n",
    "    display(data.duplicated().sum())\n",
    "    print('Количество пропусков')\n",
    "    display(data.isna().sum())\n",
    "\n",
    "df_info(data)"
   ]
  },
  {
   "cell_type": "code",
   "execution_count": 5,
   "id": "5ac3eca2",
   "metadata": {},
   "outputs": [],
   "source": [
    "# сохранение первоначального количества строк в переменной\n",
    "old_data = data.shape[0]"
   ]
  },
  {
   "cell_type": "markdown",
   "id": "de482218",
   "metadata": {},
   "source": [
    "На основании полученной информации можно сделать следующие выводы:\n",
    "- наименования столбцов не соответствуют единому стилю;\n",
    "- у столбца с временем события неверно определен тип данных;\n",
    "- присутствуют явные дубликаты;\n",
    "- пропуски значений в столбцах отсутствуют.\n",
    "\n",
    "Необходима предобработка данных для устранения вышеуказанных проблем и более детальной обработки столбцов."
   ]
  },
  {
   "cell_type": "markdown",
   "id": "efa08944",
   "metadata": {},
   "source": [
    "## Предобработка данных"
   ]
  },
  {
   "cell_type": "code",
   "execution_count": 6,
   "id": "764380ee",
   "metadata": {},
   "outputs": [],
   "source": [
    "# переименование столбцов\n",
    "data = data.rename(columns={'EventName': 'event_name', 'DeviceIDHash': 'user_id', 'EventTimestamp': 'event_dt', \n",
    "                            'ExpId': 'exp_id'})"
   ]
  },
  {
   "cell_type": "code",
   "execution_count": 7,
   "id": "70173f25",
   "metadata": {},
   "outputs": [],
   "source": [
    "# изменение типа данных у столбца с временем события\n",
    "data['event_dt'] = pd.to_datetime(data['event_dt'], unit='s')"
   ]
  },
  {
   "cell_type": "code",
   "execution_count": 8,
   "id": "8709941c",
   "metadata": {},
   "outputs": [],
   "source": [
    "# создание отдельного столбца с датой события\n",
    "data['event_date'] = pd.to_datetime(data['event_dt'].dt.date)"
   ]
  },
  {
   "cell_type": "code",
   "execution_count": 9,
   "id": "a533f31b",
   "metadata": {},
   "outputs": [],
   "source": [
    "# удаление дубликатов\n",
    "data = data.drop_duplicates().reset_index(drop=True)"
   ]
  },
  {
   "cell_type": "code",
   "execution_count": 10,
   "id": "1ad304fa",
   "metadata": {},
   "outputs": [
    {
     "data": {
      "text/plain": [
       "0"
      ]
     },
     "execution_count": 10,
     "metadata": {},
     "output_type": "execute_result"
    }
   ],
   "source": [
    "# проверка удаления дубликатов\n",
    "data.duplicated().sum()"
   ]
  },
  {
   "cell_type": "code",
   "execution_count": 11,
   "id": "9c8e4178",
   "metadata": {},
   "outputs": [
    {
     "data": {
      "text/plain": [
       "0.9983082506574474"
      ]
     },
     "execution_count": 11,
     "metadata": {},
     "output_type": "execute_result"
    }
   ],
   "source": [
    "# расчет отношения количества строк после проведения предобработки\n",
    "# к изначальному количеству строк\n",
    "data.shape[0] / old_data"
   ]
  },
  {
   "cell_type": "markdown",
   "id": "e849ac7f",
   "metadata": {},
   "source": [
    "Посмотрим на количество уникальных значений названий событий и номеров эксперимента."
   ]
  },
  {
   "cell_type": "code",
   "execution_count": 12,
   "id": "b618a017",
   "metadata": {},
   "outputs": [
    {
     "data": {
      "text/plain": [
       "MainScreenAppear           119101\n",
       "OffersScreenAppear          46808\n",
       "CartScreenAppear            42668\n",
       "PaymentScreenSuccessful     34118\n",
       "Tutorial                     1018\n",
       "Name: event_name, dtype: int64"
      ]
     },
     "execution_count": 12,
     "metadata": {},
     "output_type": "execute_result"
    }
   ],
   "source": [
    "# подсчет уникальных значений в столбце с названием события\n",
    "data['event_name'].value_counts()"
   ]
  },
  {
   "cell_type": "code",
   "execution_count": 13,
   "id": "c7f1c4d4",
   "metadata": {},
   "outputs": [
    {
     "data": {
      "text/plain": [
       "248    85582\n",
       "246    80181\n",
       "247    77950\n",
       "Name: exp_id, dtype: int64"
      ]
     },
     "execution_count": 13,
     "metadata": {},
     "output_type": "execute_result"
    }
   ],
   "source": [
    "# подсчет уникальных значений в столбце с номером эксперимента\n",
    "data['exp_id'].value_counts()"
   ]
  },
  {
   "cell_type": "markdown",
   "id": "e61bdc70",
   "metadata": {},
   "source": [
    "Проверим, нет ли таких пользователей, которые попадают сразу в несколько групп эксперимента."
   ]
  },
  {
   "cell_type": "code",
   "execution_count": 14,
   "id": "8b2917a8",
   "metadata": {},
   "outputs": [
    {
     "data": {
      "text/html": [
       "<div>\n",
       "<style scoped>\n",
       "    .dataframe tbody tr th:only-of-type {\n",
       "        vertical-align: middle;\n",
       "    }\n",
       "\n",
       "    .dataframe tbody tr th {\n",
       "        vertical-align: top;\n",
       "    }\n",
       "\n",
       "    .dataframe thead th {\n",
       "        text-align: right;\n",
       "    }\n",
       "</style>\n",
       "<table border=\"1\" class=\"dataframe\">\n",
       "  <thead>\n",
       "    <tr style=\"text-align: right;\">\n",
       "      <th></th>\n",
       "      <th>exp_id</th>\n",
       "    </tr>\n",
       "    <tr>\n",
       "      <th>user_id</th>\n",
       "      <th></th>\n",
       "    </tr>\n",
       "  </thead>\n",
       "  <tbody>\n",
       "  </tbody>\n",
       "</table>\n",
       "</div>"
      ],
      "text/plain": [
       "Empty DataFrame\n",
       "Columns: [exp_id]\n",
       "Index: []"
      ]
     },
     "execution_count": 14,
     "metadata": {},
     "output_type": "execute_result"
    }
   ],
   "source": [
    "# вывод пользователей, которые попадают сразу в несколько групп\n",
    "data.groupby('user_id').agg({'exp_id': 'nunique'}).query('exp_id > 1')"
   ]
  },
  {
   "cell_type": "markdown",
   "id": "127ff7cb",
   "metadata": {},
   "source": [
    "Таким образом, в данном разделе был изменен тип данных в столбце датафрейма с временем события для корректной работы с датой и временем, добавлен отдельный столбец с датой, названия столбцов были переименованы для удобства работы, а также были устранены явные дубликаты.\n",
    "\n",
    "Пропущенные значения и пользователи, которые попали сразу в несколько групп, обнаружены не были.\n",
    "\n",
    "Кроме того, были рассмотрены уникальные значения столбцов с названием события и номером эксперимента.\n",
    "\n",
    "Количество удаленных данных составило менее 1% от исходного датасета."
   ]
  },
  {
   "cell_type": "markdown",
   "id": "12a782c3",
   "metadata": {},
   "source": [
    "## Изучение и проверка данных"
   ]
  },
  {
   "cell_type": "markdown",
   "id": "afe2972f",
   "metadata": {},
   "source": [
    "### Расчет количества событий, количества пользователей в логе и среднего количества событий на пользователя"
   ]
  },
  {
   "cell_type": "code",
   "execution_count": 15,
   "id": "30bb1ffa",
   "metadata": {},
   "outputs": [
    {
     "name": "stdout",
     "output_type": "stream",
     "text": [
      "Всего событий в логе: 243713\n",
      "Всего пользователей в логе: 7551\n",
      "Среднее количество событий на пользователя: 32.0\n"
     ]
    }
   ],
   "source": [
    "prev_event_count = data.shape[0]\n",
    "print('Всего событий в логе:', prev_event_count)\n",
    "prev_user_count = data['user_id'].nunique()\n",
    "print('Всего пользователей в логе:', prev_user_count)\n",
    "prev_avg_count = (data['event_name'].count() / data['user_id'].nunique()).round()\n",
    "print('Среднее количество событий на пользователя:', prev_avg_count)"
   ]
  },
  {
   "cell_type": "markdown",
   "id": "411972db",
   "metadata": {},
   "source": [
    "### Изучение периода времени"
   ]
  },
  {
   "cell_type": "markdown",
   "id": "4ee9748f",
   "metadata": {},
   "source": [
    "Посмотрим на максимальную и минимальную дату событий."
   ]
  },
  {
   "cell_type": "code",
   "execution_count": 16,
   "id": "3de0900c",
   "metadata": {},
   "outputs": [
    {
     "name": "stdout",
     "output_type": "stream",
     "text": [
      "Минимальная дата события: 2019-07-25 04:43:36\n",
      "Максимальная дата события: 2019-08-07 21:15:17\n"
     ]
    }
   ],
   "source": [
    "print('Минимальная дата события:', data['event_dt'].min())\n",
    "print('Максимальная дата события:', data['event_dt'].max())"
   ]
  },
  {
   "cell_type": "markdown",
   "id": "f549375a",
   "metadata": {},
   "source": [
    "В датасете присутствуют данные с 25 июля по 7 августа 2019 года."
   ]
  },
  {
   "cell_type": "markdown",
   "id": "47b777c8",
   "metadata": {},
   "source": [
    "Посмотрим на распределение количества событий по датам и времени."
   ]
  },
  {
   "cell_type": "code",
   "execution_count": 17,
   "id": "d0364767",
   "metadata": {},
   "outputs": [
    {
     "data": {
      "image/png": "[encoded data removed]",
      "text/plain": [
       "<Figure size 800x400 with 1 Axes>"
      ]
     },
     "metadata": {
      "image/png": {
       "height": 417,
       "width": 705
      }
     },
     "output_type": "display_data"
    }
   ],
   "source": [
    "# построение гистограммы\n",
    "sns.histplot(data['event_dt'])\n",
    "plt.title('Распределение количества событий по дате и времени')\n",
    "plt.xlabel('Дата', fontsize=10)\n",
    "plt.ylabel('Количество событий', fontsize=10)\n",
    "plt.xticks(fontsize=8, rotation=30);"
   ]
  },
  {
   "cell_type": "markdown",
   "id": "a90974fc",
   "metadata": {},
   "source": [
    "На графике отчетливо видно, что количество событий до 1 августа 2019 года значительно ниже, что говорит о неполноте данных. Таким образом, имеет смысл избавиться от данных за период с 25 по 31 июля 2019 включительно."
   ]
  },
  {
   "cell_type": "code",
   "execution_count": 18,
   "id": "f1ceba1a",
   "metadata": {},
   "outputs": [],
   "source": [
    "# удаление из датафрейма записей с датой до 1 августа 2019\n",
    "data = data[data['event_date'] >= '2019-08-01'].reset_index(drop=True)"
   ]
  },
  {
   "cell_type": "markdown",
   "id": "d1fa46f4",
   "metadata": {},
   "source": [
    "Проверим, много ли событий и пользователей мы потеряли, отбросив старые данные."
   ]
  },
  {
   "cell_type": "code",
   "execution_count": 19,
   "id": "c9e803be",
   "metadata": {},
   "outputs": [
    {
     "name": "stdout",
     "output_type": "stream",
     "text": [
      "Потеряно событий: 2826 (-1.16%)\n",
      "Потеряно пользователей: 17 (-0.23%)\n"
     ]
    }
   ],
   "source": [
    "print('Потеряно событий:', prev_event_count - data.shape[0], '(-{:.2%})'.format((prev_event_count - data.shape[0]) / prev_event_count))\n",
    "print('Потеряно пользователей:', prev_user_count - data['user_id'].nunique(), '(-{:.2%})'.format((prev_user_count - data['user_id'].nunique()) / prev_user_count))"
   ]
  },
  {
   "cell_type": "markdown",
   "id": "7cfe2d65",
   "metadata": {},
   "source": [
    "### Проверка наличия пользователей из всех трёх экспериментальных групп"
   ]
  },
  {
   "cell_type": "code",
   "execution_count": 20,
   "id": "9fc10222",
   "metadata": {},
   "outputs": [
    {
     "data": {
      "text/plain": [
       "exp_id\n",
       "246    79302\n",
       "247    77022\n",
       "248    84563\n",
       "Name: user_id, dtype: int64"
      ]
     },
     "execution_count": 20,
     "metadata": {},
     "output_type": "execute_result"
    }
   ],
   "source": [
    "# расчет количества пользователей в каждой из трех групп\n",
    "data.groupby('exp_id')['user_id'].count()"
   ]
  },
  {
   "cell_type": "markdown",
   "id": "ec67902f",
   "metadata": {},
   "source": [
    "В данных присутствуют пользователи из всех трех групп."
   ]
  },
  {
   "cell_type": "markdown",
   "id": "bd147393",
   "metadata": {},
   "source": [
    "## Изучение воронки событий"
   ]
  },
  {
   "cell_type": "markdown",
   "id": "9b37e287",
   "metadata": {},
   "source": [
    "Посмотрим, какие события есть в логах и как часто они встречаются."
   ]
  },
  {
   "cell_type": "code",
   "execution_count": 21,
   "id": "429a818b",
   "metadata": {},
   "outputs": [
    {
     "data": {
      "text/html": [
       "<div>\n",
       "<style scoped>\n",
       "    .dataframe tbody tr th:only-of-type {\n",
       "        vertical-align: middle;\n",
       "    }\n",
       "\n",
       "    .dataframe tbody tr th {\n",
       "        vertical-align: top;\n",
       "    }\n",
       "\n",
       "    .dataframe thead th {\n",
       "        text-align: right;\n",
       "    }\n",
       "</style>\n",
       "<table border=\"1\" class=\"dataframe\">\n",
       "  <thead>\n",
       "    <tr style=\"text-align: right;\">\n",
       "      <th></th>\n",
       "      <th>event_name</th>\n",
       "      <th>user_id</th>\n",
       "    </tr>\n",
       "  </thead>\n",
       "  <tbody>\n",
       "    <tr>\n",
       "      <th>0</th>\n",
       "      <td>MainScreenAppear</td>\n",
       "      <td>117328</td>\n",
       "    </tr>\n",
       "    <tr>\n",
       "      <th>1</th>\n",
       "      <td>OffersScreenAppear</td>\n",
       "      <td>46333</td>\n",
       "    </tr>\n",
       "    <tr>\n",
       "      <th>2</th>\n",
       "      <td>CartScreenAppear</td>\n",
       "      <td>42303</td>\n",
       "    </tr>\n",
       "    <tr>\n",
       "      <th>3</th>\n",
       "      <td>PaymentScreenSuccessful</td>\n",
       "      <td>33918</td>\n",
       "    </tr>\n",
       "    <tr>\n",
       "      <th>4</th>\n",
       "      <td>Tutorial</td>\n",
       "      <td>1005</td>\n",
       "    </tr>\n",
       "  </tbody>\n",
       "</table>\n",
       "</div>"
      ],
      "text/plain": [
       "                event_name  user_id\n",
       "0         MainScreenAppear   117328\n",
       "1       OffersScreenAppear    46333\n",
       "2         CartScreenAppear    42303\n",
       "3  PaymentScreenSuccessful    33918\n",
       "4                 Tutorial     1005"
      ]
     },
     "execution_count": 21,
     "metadata": {},
     "output_type": "execute_result"
    }
   ],
   "source": [
    "# создание датафрейма с частотой событий\n",
    "events = (data.groupby('event_name', as_index=False).\n",
    "          agg({'user_id': 'count'}).\n",
    "          sort_values(by='user_id', ascending=False).\n",
    "          reset_index(drop=True))\n",
    "events"
   ]
  },
  {
   "cell_type": "code",
   "execution_count": 22,
   "id": "61f5bcfc",
   "metadata": {},
   "outputs": [
    {
     "data": {
      "image/png": "[encoded data removed]",
      "text/plain": [
       "<Figure size 800x400 with 1 Axes>"
      ]
     },
     "metadata": {
      "image/png": {
       "height": 394,
       "width": 864
      }
     },
     "output_type": "display_data"
    }
   ],
   "source": [
    "# построение графика с частотой событий\n",
    "sns.barplot(x=events['user_id'], y=events['event_name'])\n",
    "plt.title('Частота событий')\n",
    "plt.xlabel('Количество', fontsize=10)\n",
    "plt.ylabel('Название события', fontsize=10);"
   ]
  },
  {
   "cell_type": "markdown",
   "id": "0143ba28",
   "metadata": {},
   "source": [
    "Всего в логах есть 5 видов событий:\n",
    "- MainScreenAppear;\n",
    "- OffersScreenAppear;\n",
    "- CartScreenAppear;\n",
    "- PaymentScreenSuccessful;\n",
    "- Tutorial.\n",
    "\n",
    "Самым часто встречающимся событием является MainScreenAppear, наиболее редким - Tutorial."
   ]
  },
  {
   "cell_type": "markdown",
   "id": "a04dc057",
   "metadata": {},
   "source": [
    "Посчитаем, сколько пользователей совершали каждое из событий."
   ]
  },
  {
   "cell_type": "code",
   "execution_count": 23,
   "id": "0adddbcb",
   "metadata": {},
   "outputs": [
    {
     "data": {
      "text/html": [
       "<div>\n",
       "<style scoped>\n",
       "    .dataframe tbody tr th:only-of-type {\n",
       "        vertical-align: middle;\n",
       "    }\n",
       "\n",
       "    .dataframe tbody tr th {\n",
       "        vertical-align: top;\n",
       "    }\n",
       "\n",
       "    .dataframe thead th {\n",
       "        text-align: right;\n",
       "    }\n",
       "</style>\n",
       "<table border=\"1\" class=\"dataframe\">\n",
       "  <thead>\n",
       "    <tr style=\"text-align: right;\">\n",
       "      <th></th>\n",
       "      <th>event_name</th>\n",
       "      <th>user_id</th>\n",
       "    </tr>\n",
       "  </thead>\n",
       "  <tbody>\n",
       "    <tr>\n",
       "      <th>0</th>\n",
       "      <td>MainScreenAppear</td>\n",
       "      <td>7419</td>\n",
       "    </tr>\n",
       "    <tr>\n",
       "      <th>1</th>\n",
       "      <td>OffersScreenAppear</td>\n",
       "      <td>4593</td>\n",
       "    </tr>\n",
       "    <tr>\n",
       "      <th>2</th>\n",
       "      <td>CartScreenAppear</td>\n",
       "      <td>3734</td>\n",
       "    </tr>\n",
       "    <tr>\n",
       "      <th>3</th>\n",
       "      <td>PaymentScreenSuccessful</td>\n",
       "      <td>3539</td>\n",
       "    </tr>\n",
       "    <tr>\n",
       "      <th>4</th>\n",
       "      <td>Tutorial</td>\n",
       "      <td>840</td>\n",
       "    </tr>\n",
       "  </tbody>\n",
       "</table>\n",
       "</div>"
      ],
      "text/plain": [
       "                event_name  user_id\n",
       "0         MainScreenAppear     7419\n",
       "1       OffersScreenAppear     4593\n",
       "2         CartScreenAppear     3734\n",
       "3  PaymentScreenSuccessful     3539\n",
       "4                 Tutorial      840"
      ]
     },
     "execution_count": 23,
     "metadata": {},
     "output_type": "execute_result"
    }
   ],
   "source": [
    "# создание датафрейма с количеством пользователей\n",
    "user_events = (data.groupby('event_name', as_index=False).\n",
    "          agg({'user_id': 'nunique'}).\n",
    "          sort_values(by='user_id', ascending=False).\n",
    "          reset_index(drop=True))\n",
    "user_events"
   ]
  },
  {
   "cell_type": "markdown",
   "id": "af00a68a",
   "metadata": {},
   "source": [
    "Добавим долю пользователей, которые хоть раз совершали событие."
   ]
  },
  {
   "cell_type": "code",
   "execution_count": 24,
   "id": "1fb662cf",
   "metadata": {},
   "outputs": [
    {
     "data": {
      "text/html": [
       "<div>\n",
       "<style scoped>\n",
       "    .dataframe tbody tr th:only-of-type {\n",
       "        vertical-align: middle;\n",
       "    }\n",
       "\n",
       "    .dataframe tbody tr th {\n",
       "        vertical-align: top;\n",
       "    }\n",
       "\n",
       "    .dataframe thead th {\n",
       "        text-align: right;\n",
       "    }\n",
       "</style>\n",
       "<table border=\"1\" class=\"dataframe\">\n",
       "  <thead>\n",
       "    <tr style=\"text-align: right;\">\n",
       "      <th></th>\n",
       "      <th>event_name</th>\n",
       "      <th>user_id</th>\n",
       "      <th>share</th>\n",
       "    </tr>\n",
       "  </thead>\n",
       "  <tbody>\n",
       "    <tr>\n",
       "      <th>0</th>\n",
       "      <td>MainScreenAppear</td>\n",
       "      <td>7419</td>\n",
       "      <td>98.0</td>\n",
       "    </tr>\n",
       "    <tr>\n",
       "      <th>1</th>\n",
       "      <td>OffersScreenAppear</td>\n",
       "      <td>4593</td>\n",
       "      <td>61.0</td>\n",
       "    </tr>\n",
       "    <tr>\n",
       "      <th>2</th>\n",
       "      <td>CartScreenAppear</td>\n",
       "      <td>3734</td>\n",
       "      <td>50.0</td>\n",
       "    </tr>\n",
       "    <tr>\n",
       "      <th>3</th>\n",
       "      <td>PaymentScreenSuccessful</td>\n",
       "      <td>3539</td>\n",
       "      <td>47.0</td>\n",
       "    </tr>\n",
       "    <tr>\n",
       "      <th>4</th>\n",
       "      <td>Tutorial</td>\n",
       "      <td>840</td>\n",
       "      <td>11.0</td>\n",
       "    </tr>\n",
       "  </tbody>\n",
       "</table>\n",
       "</div>"
      ],
      "text/plain": [
       "                event_name  user_id  share\n",
       "0         MainScreenAppear     7419   98.0\n",
       "1       OffersScreenAppear     4593   61.0\n",
       "2         CartScreenAppear     3734   50.0\n",
       "3  PaymentScreenSuccessful     3539   47.0\n",
       "4                 Tutorial      840   11.0"
      ]
     },
     "execution_count": 24,
     "metadata": {},
     "output_type": "execute_result"
    }
   ],
   "source": [
    "# добавление столбца с долей\n",
    "user_events['share'] = (user_events['user_id'] / data['user_id'].nunique() * 100).round()\n",
    "user_events"
   ]
  },
  {
   "cell_type": "markdown",
   "id": "666a2a9d",
   "metadata": {},
   "source": [
    "- главную страницу увидели 98% пользователей;\n",
    "- страницу с предложениями - 61% пользователей;\n",
    "- в корзину перешли 50% пользователей;\n",
    "- на страницу оплаты - 47%;\n",
    "- на страницу с инструкцией - 11% пользователей."
   ]
  },
  {
   "cell_type": "markdown",
   "id": "65978320",
   "metadata": {},
   "source": [
    "Можно предположить, что события происходят в следующем порядке:\n",
    "1. Переход на главную страницу\n",
    "2. Переход на страницу с предложениями\n",
    "3. Переход в корзину\n",
    "4. Переход на страницу оплаты\n",
    "\n",
    "Последнее событие (переход на страницу с инструкцией) не вписывается в последовательную цепочку, поэтому не будем учитывать его при расчёте воронки."
   ]
  },
  {
   "cell_type": "code",
   "execution_count": 25,
   "id": "a2ade06f",
   "metadata": {},
   "outputs": [],
   "source": [
    "# удаление из датафрейма события с переходом на страницу с инструкцией\n",
    "user_events = user_events.query('event_name != \"Tutorial\"')"
   ]
  },
  {
   "cell_type": "code",
   "execution_count": 26,
   "id": "4a953dd3",
   "metadata": {},
   "outputs": [
    {
     "data": {
      "text/html": [
       "<div>\n",
       "<style scoped>\n",
       "    .dataframe tbody tr th:only-of-type {\n",
       "        vertical-align: middle;\n",
       "    }\n",
       "\n",
       "    .dataframe tbody tr th {\n",
       "        vertical-align: top;\n",
       "    }\n",
       "\n",
       "    .dataframe thead th {\n",
       "        text-align: right;\n",
       "    }\n",
       "</style>\n",
       "<table border=\"1\" class=\"dataframe\">\n",
       "  <thead>\n",
       "    <tr style=\"text-align: right;\">\n",
       "      <th></th>\n",
       "      <th>event_name</th>\n",
       "      <th>user_id</th>\n",
       "      <th>share</th>\n",
       "      <th>new_share</th>\n",
       "    </tr>\n",
       "  </thead>\n",
       "  <tbody>\n",
       "    <tr>\n",
       "      <th>0</th>\n",
       "      <td>MainScreenAppear</td>\n",
       "      <td>7419</td>\n",
       "      <td>98.0</td>\n",
       "      <td>100.0</td>\n",
       "    </tr>\n",
       "    <tr>\n",
       "      <th>1</th>\n",
       "      <td>OffersScreenAppear</td>\n",
       "      <td>4593</td>\n",
       "      <td>61.0</td>\n",
       "      <td>62.0</td>\n",
       "    </tr>\n",
       "    <tr>\n",
       "      <th>2</th>\n",
       "      <td>CartScreenAppear</td>\n",
       "      <td>3734</td>\n",
       "      <td>50.0</td>\n",
       "      <td>81.0</td>\n",
       "    </tr>\n",
       "    <tr>\n",
       "      <th>3</th>\n",
       "      <td>PaymentScreenSuccessful</td>\n",
       "      <td>3539</td>\n",
       "      <td>47.0</td>\n",
       "      <td>95.0</td>\n",
       "    </tr>\n",
       "  </tbody>\n",
       "</table>\n",
       "</div>"
      ],
      "text/plain": [
       "                event_name  user_id  share  new_share\n",
       "0         MainScreenAppear     7419   98.0      100.0\n",
       "1       OffersScreenAppear     4593   61.0       62.0\n",
       "2         CartScreenAppear     3734   50.0       81.0\n",
       "3  PaymentScreenSuccessful     3539   47.0       95.0"
      ]
     },
     "execution_count": 26,
     "metadata": {},
     "output_type": "execute_result"
    }
   ],
   "source": [
    "# добавление нового столбца с долей пользователей, перешедших на следующий шаг\n",
    "user_events['new_share'] = ((user_events['user_id'].pct_change() + 1) * 100).round()\n",
    "user_events['new_share'] = user_events['new_share'].fillna(100)\n",
    "user_events"
   ]
  },
  {
   "cell_type": "markdown",
   "id": "1d2e3c01",
   "metadata": {},
   "source": [
    "Таким образом:\n",
    "- с главной страницы на страницу с предложениями перешло 62% пользователей;\n",
    "- со страницы с предложениями в корзину перешел 81% пользователей;\n",
    "- из корзины на страницу с оплатой перешло 95% пользователей.\n",
    "\n",
    "Можно сделать вывод о том, что больше всего пользователей теряется на втором шаге (при переходе с главной страницы на страницу с предложениями).\n",
    "\n",
    "От первого события до оплаты доходит только 48% пользователей."
   ]
  },
  {
   "cell_type": "markdown",
   "id": "6b2f7670",
   "metadata": {},
   "source": [
    "## Изучение результатов эксперимента"
   ]
  },
  {
   "cell_type": "markdown",
   "id": "3e9de013",
   "metadata": {},
   "source": [
    "Посмотрим, сколько пользователей в каждой экспериментальной группе."
   ]
  },
  {
   "cell_type": "code",
   "execution_count": 27,
   "id": "8acf57fe",
   "metadata": {},
   "outputs": [
    {
     "data": {
      "text/html": [
       "<div>\n",
       "<style scoped>\n",
       "    .dataframe tbody tr th:only-of-type {\n",
       "        vertical-align: middle;\n",
       "    }\n",
       "\n",
       "    .dataframe tbody tr th {\n",
       "        vertical-align: top;\n",
       "    }\n",
       "\n",
       "    .dataframe thead th {\n",
       "        text-align: right;\n",
       "    }\n",
       "</style>\n",
       "<table border=\"1\" class=\"dataframe\">\n",
       "  <thead>\n",
       "    <tr style=\"text-align: right;\">\n",
       "      <th></th>\n",
       "      <th>exp_id</th>\n",
       "      <th>user_id</th>\n",
       "    </tr>\n",
       "  </thead>\n",
       "  <tbody>\n",
       "    <tr>\n",
       "      <th>0</th>\n",
       "      <td>246</td>\n",
       "      <td>2484</td>\n",
       "    </tr>\n",
       "    <tr>\n",
       "      <th>1</th>\n",
       "      <td>247</td>\n",
       "      <td>2513</td>\n",
       "    </tr>\n",
       "    <tr>\n",
       "      <th>2</th>\n",
       "      <td>248</td>\n",
       "      <td>2537</td>\n",
       "    </tr>\n",
       "  </tbody>\n",
       "</table>\n",
       "</div>"
      ],
      "text/plain": [
       "   exp_id  user_id\n",
       "0     246     2484\n",
       "1     247     2513\n",
       "2     248     2537"
      ]
     },
     "execution_count": 27,
     "metadata": {},
     "output_type": "execute_result"
    }
   ],
   "source": [
    "# расчет количества пользователей в каждой из трех групп\n",
    "total_users = data.groupby('exp_id', as_index=False)['user_id'].nunique()\n",
    "total_users"
   ]
  },
  {
   "cell_type": "code",
   "execution_count": 28,
   "id": "d9c1819e",
   "metadata": {},
   "outputs": [
    {
     "data": {
      "text/html": [
       "<div>\n",
       "<style scoped>\n",
       "    .dataframe tbody tr th:only-of-type {\n",
       "        vertical-align: middle;\n",
       "    }\n",
       "\n",
       "    .dataframe tbody tr th {\n",
       "        vertical-align: top;\n",
       "    }\n",
       "\n",
       "    .dataframe thead th {\n",
       "        text-align: right;\n",
       "    }\n",
       "</style>\n",
       "<table border=\"1\" class=\"dataframe\">\n",
       "  <thead>\n",
       "    <tr style=\"text-align: right;\">\n",
       "      <th>exp_id</th>\n",
       "      <th>event_name</th>\n",
       "      <th>246</th>\n",
       "      <th>247</th>\n",
       "      <th>248</th>\n",
       "    </tr>\n",
       "  </thead>\n",
       "  <tbody>\n",
       "    <tr>\n",
       "      <th>0</th>\n",
       "      <td>MainScreenAppear</td>\n",
       "      <td>2450</td>\n",
       "      <td>2476</td>\n",
       "      <td>2493</td>\n",
       "    </tr>\n",
       "    <tr>\n",
       "      <th>1</th>\n",
       "      <td>OffersScreenAppear</td>\n",
       "      <td>1542</td>\n",
       "      <td>1520</td>\n",
       "      <td>1531</td>\n",
       "    </tr>\n",
       "    <tr>\n",
       "      <th>2</th>\n",
       "      <td>CartScreenAppear</td>\n",
       "      <td>1266</td>\n",
       "      <td>1238</td>\n",
       "      <td>1230</td>\n",
       "    </tr>\n",
       "    <tr>\n",
       "      <th>3</th>\n",
       "      <td>PaymentScreenSuccessful</td>\n",
       "      <td>1200</td>\n",
       "      <td>1158</td>\n",
       "      <td>1181</td>\n",
       "    </tr>\n",
       "  </tbody>\n",
       "</table>\n",
       "</div>"
      ],
      "text/plain": [
       "exp_id               event_name   246   247   248\n",
       "0              MainScreenAppear  2450  2476  2493\n",
       "1            OffersScreenAppear  1542  1520  1531\n",
       "2              CartScreenAppear  1266  1238  1230\n",
       "3       PaymentScreenSuccessful  1200  1158  1181"
      ]
     },
     "execution_count": 28,
     "metadata": {},
     "output_type": "execute_result"
    }
   ],
   "source": [
    "# создание датафрейма с количеством пользователей по группам эксперимента и событиям\n",
    "tests = (data.pivot_table(index='event_name', columns='exp_id', values='user_id', aggfunc='nunique').\n",
    "         sort_values(by=246, ascending=False).\n",
    "         reset_index().\n",
    "         query('event_name != \"Tutorial\"'))\n",
    "tests"
   ]
  },
  {
   "cell_type": "markdown",
   "id": "2d079610",
   "metadata": {},
   "source": [
    "Чтобы проверить корректность всех механизмов и расчётов, проверим, находят ли статистические критерии разницу между выборками 246 и 247 (контрольными группами для А/А-эксперимента), для этого проведем z-тест.\n",
    "\n",
    "Сформулируем гипотезы:\n",
    "- **Нулевая гипотеза**: статистически значимых различий в долях нет; \n",
    "- **Альтернативная гипотеза**: статистически значимые различия в долях есть."
   ]
  },
  {
   "cell_type": "code",
   "execution_count": 29,
   "id": "e9e40ab7",
   "metadata": {},
   "outputs": [],
   "source": [
    "alpha = 0.05 # критический уровень статистической значимости\n",
    "\n",
    "def z_test(df, col_1, col_2, col_3=None):\n",
    "    for i in df.index:\n",
    "        if col_3 is None:\n",
    "            successes = np.array([df.loc[i, col_1], df.loc[i, col_2]])\n",
    "            trials = np.array([total_users[total_users['exp_id'] == col_1]['user_id'], total_users[total_users['exp_id'] == col_2]['user_id']])\n",
    "        else:\n",
    "            successes = np.array([df.loc[i, col_1] + df.loc[i, col_3], df.loc[i, col_2]])\n",
    "            trials = np.array([total_users.loc[0, 'user_id'] + total_users.loc[1, 'user_id'], total_users[total_users['exp_id'] == col_2]['user_id']])\n",
    "        \n",
    "        # пропорция успехов в первой группе\n",
    "        p1 = successes[0] / trials[0]\n",
    "\n",
    "        # пропорция успехов во второй группе\n",
    "        p2 = successes[1] / trials[1]\n",
    "        \n",
    "        # пропорция успехов в комбинированном датасете\n",
    "        p_combined = (successes[0] + successes[1]) / (trials[0] + trials[1])\n",
    "        \n",
    "        # разница пропорций в датасетах\n",
    "        difference = p1 - p2 \n",
    "        \n",
    "        # считаем статистику в ст.отклонениях стандартного нормального распределения\n",
    "        z_value = difference / mt.sqrt(p_combined * (1 - p_combined) * (1 / trials[0] + 1 / trials[1]))\n",
    "\n",
    "        # задаем стандартное нормальное распределение (среднее 0, ст.отклонение 1)\n",
    "        distr = stats.norm(0, 1)  \n",
    "        \n",
    "        p_value = (1 - distr.cdf(abs(z_value))) * 2\n",
    "        \n",
    "        print('Событие:', df.loc[i, 'event_name'])\n",
    "        print('p-значение:', p_value[0])\n",
    "        \n",
    "        if p_value < alpha:\n",
    "            print('Отвергаем нулевую гипотезу: между долями есть значимая разница')\n",
    "        else:\n",
    "            print('Не получилось отвергнуть нулевую гипотезу, нет оснований считать доли разными') "
   ]
  },
  {
   "cell_type": "code",
   "execution_count": 30,
   "id": "d9a672ce",
   "metadata": {},
   "outputs": [
    {
     "name": "stdout",
     "output_type": "stream",
     "text": [
      "Событие: MainScreenAppear\n",
      "p-значение: 0.7570597232046099\n",
      "Не получилось отвергнуть нулевую гипотезу, нет оснований считать доли разными\n",
      "Событие: OffersScreenAppear\n",
      "p-значение: 0.2480954578522181\n",
      "Не получилось отвергнуть нулевую гипотезу, нет оснований считать доли разными\n",
      "Событие: CartScreenAppear\n",
      "p-значение: 0.22883372237997213\n",
      "Не получилось отвергнуть нулевую гипотезу, нет оснований считать доли разными\n",
      "Событие: PaymentScreenSuccessful\n",
      "p-значение: 0.11456679313141849\n",
      "Не получилось отвергнуть нулевую гипотезу, нет оснований считать доли разными\n"
     ]
    }
   ],
   "source": [
    "# выполнение z-теста для 246 и 247 экспериментальной группы\n",
    "z_test(tests, 246, 247) "
   ]
  },
  {
   "cell_type": "markdown",
   "id": "db561313",
   "metadata": {},
   "source": [
    "Ни по одному из событий в 246 и 247 группах не наблюдается статистически значимой разницы между долями."
   ]
  },
  {
   "cell_type": "markdown",
   "id": "2b031b82",
   "metadata": {},
   "source": [
    "Сравним каждую из контрольных групп с группой с изменённым шрифтом."
   ]
  },
  {
   "cell_type": "code",
   "execution_count": 31,
   "id": "900ecb24",
   "metadata": {},
   "outputs": [
    {
     "name": "stdout",
     "output_type": "stream",
     "text": [
      "Событие: MainScreenAppear\n",
      "p-значение: 0.2949721933554552\n",
      "Не получилось отвергнуть нулевую гипотезу, нет оснований считать доли разными\n",
      "Событие: OffersScreenAppear\n",
      "p-значение: 0.20836205402738917\n",
      "Не получилось отвергнуть нулевую гипотезу, нет оснований считать доли разными\n",
      "Событие: CartScreenAppear\n",
      "p-значение: 0.07842923237520116\n",
      "Не получилось отвергнуть нулевую гипотезу, нет оснований считать доли разными\n",
      "Событие: PaymentScreenSuccessful\n",
      "p-значение: 0.2122553275697796\n",
      "Не получилось отвергнуть нулевую гипотезу, нет оснований считать доли разными\n"
     ]
    }
   ],
   "source": [
    "# выполнение z-теста для 246 и 248 экспериментальной группы\n",
    "z_test(tests, 246, 248) "
   ]
  },
  {
   "cell_type": "markdown",
   "id": "8bedf36c",
   "metadata": {},
   "source": [
    "При заданном уровне значимости статистически значимые различия между группами отсутствуют."
   ]
  },
  {
   "cell_type": "code",
   "execution_count": 32,
   "id": "c18127ce",
   "metadata": {},
   "outputs": [
    {
     "name": "stdout",
     "output_type": "stream",
     "text": [
      "Событие: MainScreenAppear\n",
      "p-значение: 0.4587053616621515\n",
      "Не получилось отвергнуть нулевую гипотезу, нет оснований считать доли разными\n",
      "Событие: OffersScreenAppear\n",
      "p-значение: 0.9197817830592261\n",
      "Не получилось отвергнуть нулевую гипотезу, нет оснований считать доли разными\n",
      "Событие: CartScreenAppear\n",
      "p-значение: 0.5786197879539783\n",
      "Не получилось отвергнуть нулевую гипотезу, нет оснований считать доли разными\n",
      "Событие: PaymentScreenSuccessful\n",
      "p-значение: 0.7373415053803964\n",
      "Не получилось отвергнуть нулевую гипотезу, нет оснований считать доли разными\n"
     ]
    }
   ],
   "source": [
    "# выполнение z-теста для 247 и 248 экспериментальной группы\n",
    "z_test(tests, 247, 248) "
   ]
  },
  {
   "cell_type": "markdown",
   "id": "2d9c9ce5",
   "metadata": {},
   "source": [
    "Между 247 и 248 группами также нет статически значимых различий."
   ]
  },
  {
   "cell_type": "markdown",
   "id": "01c9bfbc",
   "metadata": {},
   "source": [
    "Сравним результаты с объединённой контрольной группой."
   ]
  },
  {
   "cell_type": "code",
   "execution_count": 33,
   "id": "edb08671",
   "metadata": {},
   "outputs": [
    {
     "name": "stdout",
     "output_type": "stream",
     "text": [
      "Событие: MainScreenAppear\n",
      "p-значение: 0.29424526837179577\n",
      "Не получилось отвергнуть нулевую гипотезу, нет оснований считать доли разными\n",
      "Событие: OffersScreenAppear\n",
      "p-значение: 0.43425549655188256\n",
      "Не получилось отвергнуть нулевую гипотезу, нет оснований считать доли разными\n",
      "Событие: CartScreenAppear\n",
      "p-значение: 0.18175875284404386\n",
      "Не получилось отвергнуть нулевую гипотезу, нет оснований считать доли разными\n",
      "Событие: PaymentScreenSuccessful\n",
      "p-значение: 0.6004294282308704\n",
      "Не получилось отвергнуть нулевую гипотезу, нет оснований считать доли разными\n"
     ]
    }
   ],
   "source": [
    "# выполнение z-теста для 246, 247 и 248 экспериментальной группы\n",
    "z_test(tests, 246, 248, 247) "
   ]
  },
  {
   "cell_type": "markdown",
   "id": "c25b1479",
   "metadata": {},
   "source": [
    "Вывод не изменился: нулевую гипотезу так же нельзя отвергнуть, т.к. значение p-value больше уровня статистической значимости. Cоответственно, изменение шрифтов в приложении на поведение пользователей не повлияло."
   ]
  },
  {
   "cell_type": "markdown",
   "id": "e75e990d",
   "metadata": {},
   "source": [
    "## Общий вывод"
   ]
  },
  {
   "cell_type": "markdown",
   "id": "267506cc",
   "metadata": {},
   "source": [
    "В ходе обзора данных датафрейма были обнаружены неверные типы данных некоторых столбцов, явные дубликаты, несоответствующие правильному стилю названия столбцов. Пропущенные значения и пользователи, которые попали сразу в несколько групп, обнаружены не были. Также, были определены события, которые есть в логах: MainScreenAppear, OffersScreenAppear, CartScreenAppear, PaymentScreenSuccessful, Tutorial.\n",
    "\n",
    "Во время предобработки данных были исправлены типы данных столбцов для корректной работы с датой и временем, удалены явные дубликаты, добавлен дополнительный столбец с датой, а также переименованы названия столбцов для удобства работы.\n",
    "\n",
    "В ходе изучения и проверки данных было определено общее количество событий и пользователей в логах, среднее количество событий на пользователя, минимальная и максимальная дата событий. Во время рассмотрения распределения количества событий по датам и времени были обнаружены неполные данные за период с 25 по 31 июля 2019 и было принято решение их из анализа убрать. Удаление данной информации привело к потере 1.2% событий и 0.2% пользователей. Кроме того, была выполнена проверка наличия в датасете пользователей из всех трёх экспериментальных групп.\n",
    "\n",
    "В ходе изучения воронки событий было определено наиболее часто встречающееся событие - MainScreenAppear и наиболее редкое - Tutorial. На основании анализа частоты событий была сформирована предполагаемая последовательность событий:\n",
    "1.\tПереход на главную страницу\n",
    "2.\tПереход на страницу с предложениями\n",
    "3.\tПереход в корзину\n",
    "4.\tПереход на страницу оплаты\n",
    "\n",
    "Событие Tutorial не вписалось в цепочку, поэтому при расчёте воронки не учитывалось.\n",
    "\n",
    "По воронке событий была рассчитана доля пользователей, проходящий на следующий шаг:\n",
    "-\tс главной страницы на страницу с предложениями перешло 62% пользователей;\n",
    "-\tсо страницы с предложениями в корзину перешел 81% пользователей;\n",
    "-\tиз корзины на страницу с оплатой перешло 95% пользователей.\n",
    "\n",
    "Таким образом, можно говорить о том, что больше всего пользователей теряется при переходе с главной страницы на страницу с предложениями, а от первого события до оплаты доходит только 48% пользователей.\n",
    "\n",
    "В ходе изучения результатов эксперимента по изменению шрифта во всем приложении по каждому событию были рассмотрены доли пользователей в разных группах. На основании всех проведенных тестов нельзя говорить о наличии статистически значимых различий между группами. Таким образом, изменение шрифта на поведение пользователей не повлияло."
   ]
  }
 ],
 "metadata": {
  "ExecuteTimeLog": [
   {
    "duration": 1222,
    "start_time": "2023-04-25T08:32:52.304Z"
   },
   {
    "duration": 16,
    "start_time": "2023-04-25T08:32:53.529Z"
   },
   {
    "duration": 600,
    "start_time": "2023-04-25T08:32:53.546Z"
   },
   {
    "duration": 442,
    "start_time": "2023-04-25T08:32:54.148Z"
   },
   {
    "duration": 2,
    "start_time": "2023-04-25T08:32:54.592Z"
   },
   {
    "duration": 18,
    "start_time": "2023-04-25T08:32:54.596Z"
   },
   {
    "duration": 1698,
    "start_time": "2023-04-25T08:32:54.616Z"
   },
   {
    "duration": 0,
    "start_time": "2023-04-25T08:32:56.317Z"
   },
   {
    "duration": 0,
    "start_time": "2023-04-25T08:32:56.318Z"
   },
   {
    "duration": 0,
    "start_time": "2023-04-25T08:32:56.319Z"
   },
   {
    "duration": 0,
    "start_time": "2023-04-25T08:32:56.320Z"
   },
   {
    "duration": 0,
    "start_time": "2023-04-25T08:32:56.321Z"
   },
   {
    "duration": 0,
    "start_time": "2023-04-25T08:32:56.322Z"
   },
   {
    "duration": 0,
    "start_time": "2023-04-25T08:32:56.323Z"
   },
   {
    "duration": 0,
    "start_time": "2023-04-25T08:32:56.324Z"
   },
   {
    "duration": 0,
    "start_time": "2023-04-25T08:32:56.325Z"
   },
   {
    "duration": 0,
    "start_time": "2023-04-25T08:32:56.326Z"
   },
   {
    "duration": 0,
    "start_time": "2023-04-25T08:32:56.328Z"
   },
   {
    "duration": 0,
    "start_time": "2023-04-25T08:32:56.329Z"
   },
   {
    "duration": 0,
    "start_time": "2023-04-25T08:32:56.330Z"
   },
   {
    "duration": 0,
    "start_time": "2023-04-25T08:32:56.332Z"
   },
   {
    "duration": 0,
    "start_time": "2023-04-25T08:32:56.333Z"
   },
   {
    "duration": 0,
    "start_time": "2023-04-25T08:32:56.333Z"
   },
   {
    "duration": 0,
    "start_time": "2023-04-25T08:32:56.334Z"
   },
   {
    "duration": 0,
    "start_time": "2023-04-25T08:32:56.336Z"
   },
   {
    "duration": 0,
    "start_time": "2023-04-25T08:32:56.337Z"
   },
   {
    "duration": 0,
    "start_time": "2023-04-25T08:32:56.338Z"
   },
   {
    "duration": 0,
    "start_time": "2023-04-25T08:32:56.340Z"
   },
   {
    "duration": 0,
    "start_time": "2023-04-25T08:32:56.341Z"
   },
   {
    "duration": 1,
    "start_time": "2023-04-25T08:32:56.341Z"
   },
   {
    "duration": 0,
    "start_time": "2023-04-25T08:32:56.342Z"
   },
   {
    "duration": 0,
    "start_time": "2023-04-25T08:32:56.344Z"
   },
   {
    "duration": 0,
    "start_time": "2023-04-25T08:32:56.345Z"
   },
   {
    "duration": 1305,
    "start_time": "2023-04-25T09:50:33.671Z"
   },
   {
    "duration": 13,
    "start_time": "2023-04-25T09:50:34.977Z"
   },
   {
    "duration": 1272,
    "start_time": "2023-04-25T09:50:34.991Z"
   },
   {
    "duration": 161,
    "start_time": "2023-04-25T09:50:36.265Z"
   },
   {
    "duration": 3,
    "start_time": "2023-04-25T09:50:36.428Z"
   },
   {
    "duration": 17,
    "start_time": "2023-04-25T09:50:36.432Z"
   },
   {
    "duration": 23,
    "start_time": "2023-04-25T09:50:36.451Z"
   },
   {
    "duration": 121,
    "start_time": "2023-04-25T09:50:36.475Z"
   },
   {
    "duration": 87,
    "start_time": "2023-04-25T09:50:36.597Z"
   },
   {
    "duration": 56,
    "start_time": "2023-04-25T09:50:36.686Z"
   },
   {
    "duration": 5,
    "start_time": "2023-04-25T09:50:36.744Z"
   },
   {
    "duration": 42,
    "start_time": "2023-04-25T09:50:36.763Z"
   },
   {
    "duration": 11,
    "start_time": "2023-04-25T09:50:36.807Z"
   },
   {
    "duration": 59,
    "start_time": "2023-04-25T09:50:36.821Z"
   },
   {
    "duration": 21,
    "start_time": "2023-04-25T09:50:36.881Z"
   },
   {
    "duration": 5,
    "start_time": "2023-04-25T09:50:36.904Z"
   },
   {
    "duration": 1395,
    "start_time": "2023-04-25T09:50:36.911Z"
   },
   {
    "duration": 14,
    "start_time": "2023-04-25T09:50:38.308Z"
   },
   {
    "duration": 29,
    "start_time": "2023-04-25T09:50:38.324Z"
   },
   {
    "duration": 32,
    "start_time": "2023-04-25T09:50:38.355Z"
   },
   {
    "duration": 42,
    "start_time": "2023-04-25T09:50:38.389Z"
   },
   {
    "duration": 240,
    "start_time": "2023-04-25T09:50:38.432Z"
   },
   {
    "duration": 58,
    "start_time": "2023-04-25T09:50:38.674Z"
   },
   {
    "duration": 31,
    "start_time": "2023-04-25T09:50:38.733Z"
   },
   {
    "duration": 5,
    "start_time": "2023-04-25T09:50:38.766Z"
   },
   {
    "duration": 15,
    "start_time": "2023-04-25T09:50:38.773Z"
   },
   {
    "duration": 38,
    "start_time": "2023-04-25T09:50:38.790Z"
   },
   {
    "duration": 98,
    "start_time": "2023-04-25T09:50:38.830Z"
   },
   {
    "duration": 8,
    "start_time": "2023-04-25T09:50:38.930Z"
   },
   {
    "duration": 39,
    "start_time": "2023-04-25T09:50:38.940Z"
   },
   {
    "duration": 24,
    "start_time": "2023-04-25T09:50:38.980Z"
   },
   {
    "duration": 23,
    "start_time": "2023-04-25T09:50:39.005Z"
   },
   {
    "duration": 35,
    "start_time": "2023-04-25T09:50:39.029Z"
   },
   {
    "duration": 143,
    "start_time": "2023-04-25T09:53:56.273Z"
   }
  ],
  "kernelspec": {
   "display_name": "Python 3 (ipykernel)",
   "language": "python",
   "name": "python3"
  },
  "language_info": {
   "codemirror_mode": {
    "name": "ipython",
    "version": 3
   },
   "file_extension": ".py",
   "mimetype": "text/x-python",
   "name": "python",
   "nbconvert_exporter": "python",
   "pygments_lexer": "ipython3",
   "version": "3.9.13"
  },
  "toc": {
   "base_numbering": 1,
   "nav_menu": {},
   "number_sections": true,
   "sideBar": true,
   "skip_h1_title": true,
   "title_cell": "Table of Contents",
   "title_sidebar": "Contents",
   "toc_cell": false,
   "toc_position": {
    "height": "calc(100% - 180px)",
    "left": "10px",
    "top": "150px",
    "width": "260.391px"
   },
   "toc_section_display": true,
   "toc_window_display": true
  }
 },
 "nbformat": 4,
 "nbformat_minor": 5
}
